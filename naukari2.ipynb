{
 "cells": [
  {
   "cell_type": "code",
   "execution_count": 1,
   "metadata": {
    "collapsed": true
   },
   "outputs": [],
   "source": [
    "import numpy as np\n",
    "import pandas as pd\n",
    "import matplotlib as plt\n",
    "import sklearn\n",
    "%matplotlib inline\n"
   ]
  },
  {
   "cell_type": "code",
   "execution_count": 2,
   "metadata": {},
   "outputs": [
    {
     "data": {
      "text/html": [
       "<div>\n",
       "<style>\n",
       "    .dataframe thead tr:only-child th {\n",
       "        text-align: right;\n",
       "    }\n",
       "\n",
       "    .dataframe thead th {\n",
       "        text-align: left;\n",
       "    }\n",
       "\n",
       "    .dataframe tbody tr th {\n",
       "        vertical-align: top;\n",
       "    }\n",
       "</style>\n",
       "<table border=\"1\" class=\"dataframe\">\n",
       "  <thead>\n",
       "    <tr style=\"text-align: right;\">\n",
       "      <th></th>\n",
       "      <th>company</th>\n",
       "      <th>education</th>\n",
       "      <th>experience</th>\n",
       "      <th>industry</th>\n",
       "      <th>jobdescription</th>\n",
       "      <th>jobid</th>\n",
       "      <th>joblocation_address</th>\n",
       "      <th>jobtitle</th>\n",
       "      <th>numberofpositions</th>\n",
       "      <th>payrate</th>\n",
       "      <th>postdate</th>\n",
       "      <th>site_name</th>\n",
       "      <th>skills</th>\n",
       "      <th>uniq_id</th>\n",
       "    </tr>\n",
       "  </thead>\n",
       "  <tbody>\n",
       "    <tr>\n",
       "      <th>0</th>\n",
       "      <td>MM Media Pvt Ltd</td>\n",
       "      <td>UG: B.Tech/B.E. - Any Specialization PG:Any Po...</td>\n",
       "      <td>0 - 1 yrs</td>\n",
       "      <td>Media / Entertainment / Internet</td>\n",
       "      <td>Job Description   Send me Jobs like this Quali...</td>\n",
       "      <td>210516002263</td>\n",
       "      <td>Chennai</td>\n",
       "      <td>Walkin Data Entry Operator (night Shift)</td>\n",
       "      <td>NaN</td>\n",
       "      <td>1,50,000 - 2,25,000 P.A</td>\n",
       "      <td>2016-05-21 19:30:00 +0000</td>\n",
       "      <td>NaN</td>\n",
       "      <td>ITES</td>\n",
       "      <td>43b19632647068535437c774b6ca6cf8</td>\n",
       "    </tr>\n",
       "    <tr>\n",
       "      <th>1</th>\n",
       "      <td>find live infotech</td>\n",
       "      <td>UG: B.Tech/B.E. - Any Specialization PG:MBA/PG...</td>\n",
       "      <td>0 - 0 yrs</td>\n",
       "      <td>Advertising / PR / MR / Event Management</td>\n",
       "      <td>Job Description   Send me Jobs like this Quali...</td>\n",
       "      <td>210516002391</td>\n",
       "      <td>Chennai</td>\n",
       "      <td>Work Based Onhome Based Part Time.</td>\n",
       "      <td>60.0</td>\n",
       "      <td>1,50,000 - 2,50,000 P.A. 20000</td>\n",
       "      <td>2016-05-21 19:30:00 +0000</td>\n",
       "      <td>NaN</td>\n",
       "      <td>Marketing</td>\n",
       "      <td>d4c72325e57f89f364812b5ed5a795f0</td>\n",
       "    </tr>\n",
       "    <tr>\n",
       "      <th>2</th>\n",
       "      <td>Softtech Career Infosystem Pvt. Ltd</td>\n",
       "      <td>UG: Any Graduate - Any Specialization PG:Any P...</td>\n",
       "      <td>4 - 8 yrs</td>\n",
       "      <td>IT-Software / Software Services</td>\n",
       "      <td>Job Description   Send me Jobs like this - as ...</td>\n",
       "      <td>101016900534</td>\n",
       "      <td>Bengaluru</td>\n",
       "      <td>Pl/sql Developer - SQL</td>\n",
       "      <td>NaN</td>\n",
       "      <td>Not Disclosed by Recruiter</td>\n",
       "      <td>2016-10-13 16:20:55 +0000</td>\n",
       "      <td>NaN</td>\n",
       "      <td>IT Software - Application Programming</td>\n",
       "      <td>c47df6f4cfdf5b46f1fd713ba61b9eba</td>\n",
       "    </tr>\n",
       "    <tr>\n",
       "      <th>3</th>\n",
       "      <td>Onboard HRServices LLP</td>\n",
       "      <td>UG: Any Graduate - Any Specialization PG:CA Do...</td>\n",
       "      <td>11 - 15 yrs</td>\n",
       "      <td>Banking / Financial Services / Broking</td>\n",
       "      <td>Job Description   Send me Jobs like this - Inv...</td>\n",
       "      <td>81016900536</td>\n",
       "      <td>Mumbai, Bengaluru, Kolkata, Chennai, Coimbator...</td>\n",
       "      <td>Manager/ad/partner - Indirect Tax - CA</td>\n",
       "      <td>NaN</td>\n",
       "      <td>Not Disclosed by Recruiter</td>\n",
       "      <td>2016-10-13 16:20:55 +0000</td>\n",
       "      <td>NaN</td>\n",
       "      <td>Accounts</td>\n",
       "      <td>115d28f140f694dd1cc61c53d03c66ae</td>\n",
       "    </tr>\n",
       "    <tr>\n",
       "      <th>4</th>\n",
       "      <td>Spire Technologies and Solutions Pvt. Ltd.</td>\n",
       "      <td>UG: B.Tech/B.E. - Any Specialization PG:Any Po...</td>\n",
       "      <td>6 - 8 yrs</td>\n",
       "      <td>IT-Software / Software Services</td>\n",
       "      <td>Job Description   Send me Jobs like this Pleas...</td>\n",
       "      <td>120916002122</td>\n",
       "      <td>Bengaluru</td>\n",
       "      <td>JAVA Technical Lead (6-8 yrs) -</td>\n",
       "      <td>4.0</td>\n",
       "      <td>Not Disclosed by Recruiter</td>\n",
       "      <td>2016-10-13 16:20:55 +0000</td>\n",
       "      <td>NaN</td>\n",
       "      <td>IT Software - Application Programming</td>\n",
       "      <td>a12553fc03bc7bcced8b1bb8963f97b4</td>\n",
       "    </tr>\n",
       "  </tbody>\n",
       "</table>\n",
       "</div>"
      ],
      "text/plain": [
       "                                      company  \\\n",
       "0                            MM Media Pvt Ltd   \n",
       "1                          find live infotech   \n",
       "2         Softtech Career Infosystem Pvt. Ltd   \n",
       "3                      Onboard HRServices LLP   \n",
       "4  Spire Technologies and Solutions Pvt. Ltd.   \n",
       "\n",
       "                                           education   experience  \\\n",
       "0  UG: B.Tech/B.E. - Any Specialization PG:Any Po...    0 - 1 yrs   \n",
       "1  UG: B.Tech/B.E. - Any Specialization PG:MBA/PG...    0 - 0 yrs   \n",
       "2  UG: Any Graduate - Any Specialization PG:Any P...    4 - 8 yrs   \n",
       "3  UG: Any Graduate - Any Specialization PG:CA Do...  11 - 15 yrs   \n",
       "4  UG: B.Tech/B.E. - Any Specialization PG:Any Po...    6 - 8 yrs   \n",
       "\n",
       "                                   industry  \\\n",
       "0          Media / Entertainment / Internet   \n",
       "1  Advertising / PR / MR / Event Management   \n",
       "2           IT-Software / Software Services   \n",
       "3    Banking / Financial Services / Broking   \n",
       "4           IT-Software / Software Services   \n",
       "\n",
       "                                      jobdescription         jobid  \\\n",
       "0  Job Description   Send me Jobs like this Quali...  210516002263   \n",
       "1  Job Description   Send me Jobs like this Quali...  210516002391   \n",
       "2  Job Description   Send me Jobs like this - as ...  101016900534   \n",
       "3  Job Description   Send me Jobs like this - Inv...   81016900536   \n",
       "4  Job Description   Send me Jobs like this Pleas...  120916002122   \n",
       "\n",
       "                                 joblocation_address  \\\n",
       "0                                            Chennai   \n",
       "1                                            Chennai   \n",
       "2                                          Bengaluru   \n",
       "3  Mumbai, Bengaluru, Kolkata, Chennai, Coimbator...   \n",
       "4                                          Bengaluru   \n",
       "\n",
       "                                   jobtitle  numberofpositions  \\\n",
       "0  Walkin Data Entry Operator (night Shift)                NaN   \n",
       "1        Work Based Onhome Based Part Time.               60.0   \n",
       "2                    Pl/sql Developer - SQL                NaN   \n",
       "3    Manager/ad/partner - Indirect Tax - CA                NaN   \n",
       "4           JAVA Technical Lead (6-8 yrs) -                4.0   \n",
       "\n",
       "                          payrate                   postdate site_name  \\\n",
       "0         1,50,000 - 2,25,000 P.A  2016-05-21 19:30:00 +0000       NaN   \n",
       "1  1,50,000 - 2,50,000 P.A. 20000  2016-05-21 19:30:00 +0000       NaN   \n",
       "2      Not Disclosed by Recruiter  2016-10-13 16:20:55 +0000       NaN   \n",
       "3      Not Disclosed by Recruiter  2016-10-13 16:20:55 +0000       NaN   \n",
       "4      Not Disclosed by Recruiter  2016-10-13 16:20:55 +0000       NaN   \n",
       "\n",
       "                                  skills                           uniq_id  \n",
       "0                                   ITES  43b19632647068535437c774b6ca6cf8  \n",
       "1                              Marketing  d4c72325e57f89f364812b5ed5a795f0  \n",
       "2  IT Software - Application Programming  c47df6f4cfdf5b46f1fd713ba61b9eba  \n",
       "3                               Accounts  115d28f140f694dd1cc61c53d03c66ae  \n",
       "4  IT Software - Application Programming  a12553fc03bc7bcced8b1bb8963f97b4  "
      ]
     },
     "execution_count": 2,
     "metadata": {},
     "output_type": "execute_result"
    }
   ],
   "source": [
    "df = pd.read_csv('naukri_com-job_sample.csv')\n",
    "df.head()"
   ]
  },
  {
   "cell_type": "code",
   "execution_count": 3,
   "metadata": {},
   "outputs": [
    {
     "data": {
      "text/html": [
       "<div>\n",
       "<style>\n",
       "    .dataframe thead tr:only-child th {\n",
       "        text-align: right;\n",
       "    }\n",
       "\n",
       "    .dataframe thead th {\n",
       "        text-align: left;\n",
       "    }\n",
       "\n",
       "    .dataframe tbody tr th {\n",
       "        vertical-align: top;\n",
       "    }\n",
       "</style>\n",
       "<table border=\"1\" class=\"dataframe\">\n",
       "  <thead>\n",
       "    <tr style=\"text-align: right;\">\n",
       "      <th></th>\n",
       "      <th>jobid</th>\n",
       "      <th>numberofpositions</th>\n",
       "    </tr>\n",
       "  </thead>\n",
       "  <tbody>\n",
       "    <tr>\n",
       "      <th>count</th>\n",
       "      <td>2.200000e+04</td>\n",
       "      <td>4464.000000</td>\n",
       "    </tr>\n",
       "    <tr>\n",
       "      <th>mean</th>\n",
       "      <td>1.561171e+11</td>\n",
       "      <td>45.116935</td>\n",
       "    </tr>\n",
       "    <tr>\n",
       "      <th>std</th>\n",
       "      <td>9.423956e+10</td>\n",
       "      <td>186.197193</td>\n",
       "    </tr>\n",
       "    <tr>\n",
       "      <th>min</th>\n",
       "      <td>1.011600e+10</td>\n",
       "      <td>1.000000</td>\n",
       "    </tr>\n",
       "    <tr>\n",
       "      <th>25%</th>\n",
       "      <td>6.121650e+10</td>\n",
       "      <td>2.000000</td>\n",
       "    </tr>\n",
       "    <tr>\n",
       "      <th>50%</th>\n",
       "      <td>1.602169e+11</td>\n",
       "      <td>4.000000</td>\n",
       "    </tr>\n",
       "    <tr>\n",
       "      <th>75%</th>\n",
       "      <td>2.502166e+11</td>\n",
       "      <td>10.000000</td>\n",
       "    </tr>\n",
       "    <tr>\n",
       "      <th>max</th>\n",
       "      <td>3.112155e+11</td>\n",
       "      <td>2000.000000</td>\n",
       "    </tr>\n",
       "  </tbody>\n",
       "</table>\n",
       "</div>"
      ],
      "text/plain": [
       "              jobid  numberofpositions\n",
       "count  2.200000e+04        4464.000000\n",
       "mean   1.561171e+11          45.116935\n",
       "std    9.423956e+10         186.197193\n",
       "min    1.011600e+10           1.000000\n",
       "25%    6.121650e+10           2.000000\n",
       "50%    1.602169e+11           4.000000\n",
       "75%    2.502166e+11          10.000000\n",
       "max    3.112155e+11        2000.000000"
      ]
     },
     "execution_count": 3,
     "metadata": {},
     "output_type": "execute_result"
    }
   ],
   "source": [
    "df.describe()"
   ]
  },
  {
   "cell_type": "code",
   "execution_count": 4,
   "metadata": {},
   "outputs": [
    {
     "data": {
      "text/plain": [
       "company                21996\n",
       "education              20004\n",
       "experience             21996\n",
       "industry               21995\n",
       "jobdescription         21996\n",
       "jobid                  22000\n",
       "joblocation_address    21499\n",
       "jobtitle               22000\n",
       "numberofpositions       4464\n",
       "payrate                21903\n",
       "postdate               21977\n",
       "site_name               3987\n",
       "skills                 21472\n",
       "uniq_id                22000\n",
       "dtype: int64"
      ]
     },
     "execution_count": 4,
     "metadata": {},
     "output_type": "execute_result"
    }
   ],
   "source": [
    "df.count()"
   ]
  },
  {
   "cell_type": "code",
   "execution_count": 5,
   "metadata": {},
   "outputs": [
    {
     "data": {
      "text/html": [
       "<div>\n",
       "<style>\n",
       "    .dataframe thead tr:only-child th {\n",
       "        text-align: right;\n",
       "    }\n",
       "\n",
       "    .dataframe thead th {\n",
       "        text-align: left;\n",
       "    }\n",
       "\n",
       "    .dataframe tbody tr th {\n",
       "        vertical-align: top;\n",
       "    }\n",
       "</style>\n",
       "<table border=\"1\" class=\"dataframe\">\n",
       "  <thead>\n",
       "    <tr style=\"text-align: right;\">\n",
       "      <th></th>\n",
       "      <th>company</th>\n",
       "      <th>education</th>\n",
       "      <th>experience</th>\n",
       "      <th>industry</th>\n",
       "      <th>jobdescription</th>\n",
       "      <th>joblocation_address</th>\n",
       "      <th>jobtitle</th>\n",
       "      <th>payrate</th>\n",
       "      <th>postdate</th>\n",
       "      <th>site_name</th>\n",
       "      <th>skills</th>\n",
       "      <th>uniq_id</th>\n",
       "    </tr>\n",
       "  </thead>\n",
       "  <tbody>\n",
       "    <tr>\n",
       "      <th>count</th>\n",
       "      <td>21996</td>\n",
       "      <td>20004</td>\n",
       "      <td>21996</td>\n",
       "      <td>21995</td>\n",
       "      <td>21996</td>\n",
       "      <td>21499</td>\n",
       "      <td>22000</td>\n",
       "      <td>21903</td>\n",
       "      <td>21977</td>\n",
       "      <td>3987</td>\n",
       "      <td>21472</td>\n",
       "      <td>22000</td>\n",
       "    </tr>\n",
       "    <tr>\n",
       "      <th>unique</th>\n",
       "      <td>8469</td>\n",
       "      <td>2355</td>\n",
       "      <td>147</td>\n",
       "      <td>63</td>\n",
       "      <td>21063</td>\n",
       "      <td>2329</td>\n",
       "      <td>17564</td>\n",
       "      <td>1848</td>\n",
       "      <td>4203</td>\n",
       "      <td>1</td>\n",
       "      <td>45</td>\n",
       "      <td>22000</td>\n",
       "    </tr>\n",
       "    <tr>\n",
       "      <th>top</th>\n",
       "      <td>Indian Institute of Technology Bombay</td>\n",
       "      <td>UG: Any Graduate - Any Specialization, Graduat...</td>\n",
       "      <td>2 - 7 yrs</td>\n",
       "      <td>IT-Software / Software Services</td>\n",
       "      <td>Job Description   Send me Jobs like this Adver...</td>\n",
       "      <td>Bengaluru/Bangalore</td>\n",
       "      <td>Business Development Executive</td>\n",
       "      <td>Not Disclosed by Recruiter</td>\n",
       "      <td>2016-05-21 08:24:31 +0000</td>\n",
       "      <td>www.naukri.com</td>\n",
       "      <td>IT Software - Application Programming</td>\n",
       "      <td>cb673a1dca03176c151e8840cf0244f0</td>\n",
       "    </tr>\n",
       "    <tr>\n",
       "      <th>freq</th>\n",
       "      <td>403</td>\n",
       "      <td>2015</td>\n",
       "      <td>1712</td>\n",
       "      <td>9216</td>\n",
       "      <td>121</td>\n",
       "      <td>3775</td>\n",
       "      <td>93</td>\n",
       "      <td>15849</td>\n",
       "      <td>48</td>\n",
       "      <td>3987</td>\n",
       "      <td>5989</td>\n",
       "      <td>1</td>\n",
       "    </tr>\n",
       "  </tbody>\n",
       "</table>\n",
       "</div>"
      ],
      "text/plain": [
       "                                      company  \\\n",
       "count                                   21996   \n",
       "unique                                   8469   \n",
       "top     Indian Institute of Technology Bombay   \n",
       "freq                                      403   \n",
       "\n",
       "                                                education experience  \\\n",
       "count                                               20004      21996   \n",
       "unique                                               2355        147   \n",
       "top     UG: Any Graduate - Any Specialization, Graduat...  2 - 7 yrs   \n",
       "freq                                                 2015       1712   \n",
       "\n",
       "                               industry  \\\n",
       "count                             21995   \n",
       "unique                               63   \n",
       "top     IT-Software / Software Services   \n",
       "freq                               9216   \n",
       "\n",
       "                                           jobdescription  \\\n",
       "count                                               21996   \n",
       "unique                                              21063   \n",
       "top     Job Description   Send me Jobs like this Adver...   \n",
       "freq                                                  121   \n",
       "\n",
       "        joblocation_address                        jobtitle  \\\n",
       "count                 21499                           22000   \n",
       "unique                 2329                           17564   \n",
       "top     Bengaluru/Bangalore  Business Development Executive   \n",
       "freq                   3775                              93   \n",
       "\n",
       "                           payrate                   postdate       site_name  \\\n",
       "count                        21903                      21977            3987   \n",
       "unique                        1848                       4203               1   \n",
       "top     Not Disclosed by Recruiter  2016-05-21 08:24:31 +0000  www.naukri.com   \n",
       "freq                         15849                         48            3987   \n",
       "\n",
       "                                       skills  \\\n",
       "count                                   21472   \n",
       "unique                                     45   \n",
       "top     IT Software - Application Programming   \n",
       "freq                                     5989   \n",
       "\n",
       "                                 uniq_id  \n",
       "count                              22000  \n",
       "unique                             22000  \n",
       "top     cb673a1dca03176c151e8840cf0244f0  \n",
       "freq                                   1  "
      ]
     },
     "execution_count": 5,
     "metadata": {},
     "output_type": "execute_result"
    }
   ],
   "source": [
    "df.describe(include = ['object'])"
   ]
  },
  {
   "cell_type": "code",
   "execution_count": 6,
   "metadata": {
    "collapsed": true
   },
   "outputs": [],
   "source": [
    "\n",
    "#Indian Institute of Technology Bombay is the higest recuter  from your site with frequency of 403 different offerings\n",
    "##The most frequent expirence is 2-7 years \n",
    "###The most common jobs are in IT  fiels and in banglore\n",
    "####there are 45 different types of skills \n"
   ]
  },
  {
   "cell_type": "code",
   "execution_count": 7,
   "metadata": {},
   "outputs": [
    {
     "data": {
      "text/plain": [
       "0         True\n",
       "1        False\n",
       "2         True\n",
       "3         True\n",
       "4        False\n",
       "5         True\n",
       "6        False\n",
       "7        False\n",
       "8        False\n",
       "9         True\n",
       "10        True\n",
       "11        True\n",
       "12       False\n",
       "13        True\n",
       "14        True\n",
       "15       False\n",
       "16       False\n",
       "17        True\n",
       "18        True\n",
       "19        True\n",
       "20        True\n",
       "21        True\n",
       "22       False\n",
       "23        True\n",
       "24        True\n",
       "25        True\n",
       "26        True\n",
       "27        True\n",
       "28        True\n",
       "29       False\n",
       "         ...  \n",
       "21970     True\n",
       "21971     True\n",
       "21972     True\n",
       "21973     True\n",
       "21974     True\n",
       "21975     True\n",
       "21976    False\n",
       "21977    False\n",
       "21978     True\n",
       "21979     True\n",
       "21980     True\n",
       "21981     True\n",
       "21982     True\n",
       "21983     True\n",
       "21984     True\n",
       "21985     True\n",
       "21986     True\n",
       "21987     True\n",
       "21988     True\n",
       "21989     True\n",
       "21990     True\n",
       "21991     True\n",
       "21992     True\n",
       "21993     True\n",
       "21994     True\n",
       "21995    False\n",
       "21996     True\n",
       "21997     True\n",
       "21998     True\n",
       "21999     True\n",
       "Name: numberofpositions, Length: 22000, dtype: bool"
      ]
     },
     "execution_count": 7,
     "metadata": {},
     "output_type": "execute_result"
    }
   ],
   "source": [
    "df['numberofpositions'].isnull()"
   ]
  },
  {
   "cell_type": "code",
   "execution_count": 8,
   "metadata": {},
   "outputs": [
    {
     "data": {
      "text/plain": [
       "45.116935483870968"
      ]
     },
     "execution_count": 8,
     "metadata": {},
     "output_type": "execute_result"
    }
   ],
   "source": [
    "df['numberofpositions'].mean()"
   ]
  },
  {
   "cell_type": "code",
   "execution_count": 9,
   "metadata": {
    "collapsed": true
   },
   "outputs": [],
   "source": [
    "df['numberofpositions'].fillna(6, inplace = True)"
   ]
  },
  {
   "cell_type": "code",
   "execution_count": 10,
   "metadata": {},
   "outputs": [
    {
     "data": {
      "text/plain": [
       "0     6.0\n",
       "1    60.0\n",
       "2     6.0\n",
       "3     6.0\n",
       "4     4.0\n",
       "Name: numberofpositions, dtype: float64"
      ]
     },
     "execution_count": 10,
     "metadata": {},
     "output_type": "execute_result"
    }
   ],
   "source": [
    "df['numberofpositions'].head()"
   ]
  },
  {
   "cell_type": "code",
   "execution_count": 11,
   "metadata": {},
   "outputs": [
    {
     "data": {
      "text/plain": [
       "Indian Institute of Technology Bombay           403\n",
       "Confidential                                    393\n",
       "National Institute of Industrial Engineering    185\n",
       "Oracle India Pvt. Ltd.                          151\n",
       "JPMorgan Chase                                  135\n",
       "Godrej Industries Ltd                           125\n",
       "Unitforce technologies Pvt. Ltd.                100\n",
       "Capgemini                                        98\n",
       "HCL Technologies                                 95\n",
       "Axis Jobs                                        92\n",
       "Name: company, dtype: int64"
      ]
     },
     "execution_count": 11,
     "metadata": {},
     "output_type": "execute_result"
    }
   ],
   "source": [
    "df['company'].value_counts().head(10)"
   ]
  },
  {
   "cell_type": "code",
   "execution_count": 12,
   "metadata": {},
   "outputs": [
    {
     "data": {
      "text/plain": [
       "<matplotlib.axes._subplots.AxesSubplot at 0x14728561a20>"
      ]
     },
     "execution_count": 12,
     "metadata": {},
     "output_type": "execute_result"
    },
    {
     "data": {
      "image/png": "[encoded data removed]",
      "text/plain": [
       "<matplotlib.figure.Figure at 0x1472857a320>"
      ]
     },
     "metadata": {},
     "output_type": "display_data"
    }
   ],
   "source": [
    "df['company'].value_counts().head().plot(kind = 'bar')"
   ]
  },
  {
   "cell_type": "code",
   "execution_count": 13,
   "metadata": {},
   "outputs": [
    {
     "data": {
      "text/plain": [
       "Not Disclosed by Recruiter                                                  15849\n",
       "Pay Band: PB4 (Rs.3740067000) with Academic Grade Pay of Rs.10,500/p.m.       121\n",
       "Pay Band: PB4 (Rs.3740067000) with Academic Grade Pay of Rs.9,500/p.m.        116\n",
       "Best in the Industry                                                           87\n",
       "Pay Band: PB3 (Rs.15600-39100) with Academic Grade Pay of Rs.8,000/p. m.       84\n",
       "Name: payrate, dtype: int64"
      ]
     },
     "execution_count": 13,
     "metadata": {},
     "output_type": "execute_result"
    }
   ],
   "source": [
    "df['payrate'].value_counts().head()"
   ]
  },
  {
   "cell_type": "code",
   "execution_count": 14,
   "metadata": {},
   "outputs": [
    {
     "data": {
      "text/plain": [
       "UG: Any Graduate - Any Specialization, Graduation Not Required PG:Any Postgraduate - Any Specialization, Post Graduation Not Required Doctorate:Any Doctorate - Any Specialization, Doctorate Not Required    2015\n",
       "UG: B.Tech/B.E. PG:M.Tech Doctorate:Any Doctorate - Any Specialization, Doctorate Not Required                                                                                                                1607\n",
       "UG: B.Tech/B.E. PG:Post Graduation Not Required Doctorate:Any Doctorate - Any Specialization, Doctorate Not Required                                                                                          1513\n",
       "UG: Any Graduate - Any Specialization PG:Any Postgraduate - Any Specialization Doctorate:Any Doctorate - Any Specialization, Doctorate Not Required                                                           1355\n",
       "UG: Any Graduate PG:Any Postgraduate Doctorate:Any Doctorate - Any Specialization, Doctorate Not Required                                                                                                     1248\n",
       "Name: education, dtype: int64"
      ]
     },
     "execution_count": 14,
     "metadata": {},
     "output_type": "execute_result"
    }
   ],
   "source": [
    "df['education'].value_counts().head()"
   ]
  },
  {
   "cell_type": "code",
   "execution_count": 15,
   "metadata": {},
   "outputs": [
    {
     "data": {
      "text/plain": [
       "array([ 'UG: B.Tech/B.E. - Any Specialization PG:Any Postgraduate - Any Specialization, Post Graduation Not Required',\n",
       "       'UG: B.Tech/B.E. - Any Specialization PG:MBA/PGDM - Any Specialization',\n",
       "       'UG: Any Graduate - Any Specialization PG:Any Postgraduate Doctorate:Doctorate Not Required',\n",
       "       ..., 'PG:MS/M.Sc(Science) - Any Specialization, Statistics',\n",
       "       'UG: B.Tech/B.E. - Any Specialization PG:MCA - Computers, M.Tech - Any Specialization, MS/M.Sc(Science) - Any Specialization Doctorate:Doctorate Not Required',\n",
       "       'UG: B.Tech/B.E. - Computers PG:MS/M.Sc(Science) - Computers Doctorate:Doctorate Not Required'], dtype=object)"
      ]
     },
     "execution_count": 15,
     "metadata": {},
     "output_type": "execute_result"
    }
   ],
   "source": [
    "df['education'].unique()"
   ]
  },
  {
   "cell_type": "code",
   "execution_count": 16,
   "metadata": {},
   "outputs": [
    {
     "data": {
      "text/plain": [
       "2355"
      ]
     },
     "execution_count": 16,
     "metadata": {},
     "output_type": "execute_result"
    }
   ],
   "source": [
    "df['education'].nunique()"
   ]
  },
  {
   "cell_type": "code",
   "execution_count": 17,
   "metadata": {},
   "outputs": [
    {
     "data": {
      "text/plain": [
       "IT-Software / Software Services           9216\n",
       "Education / Teaching / Training           1322\n",
       "BPO / Call Centre / ITES                  1254\n",
       "Banking / Financial Services / Broking    1238\n",
       "Recruitment / Staffing                    1129\n",
       "Name: industry, dtype: int64"
      ]
     },
     "execution_count": 17,
     "metadata": {},
     "output_type": "execute_result"
    }
   ],
   "source": [
    "df['industry'].value_counts().head()"
   ]
  },
  {
   "cell_type": "code",
   "execution_count": 18,
   "metadata": {},
   "outputs": [
    {
     "data": {
      "text/plain": [
       "Bengaluru/Bangalore         3775\n",
       "Mumbai                      2348\n",
       "Bengaluru                   1453\n",
       "Hyderabad / Secunderabad    1246\n",
       "Chennai                     1204\n",
       "Hyderabad                    936\n",
       "Noida                        775\n",
       "Delhi                        763\n",
       "Gurgaon                      743\n",
       "Mumbai , Mumbai              514\n",
       "Name: joblocation_address, dtype: int64"
      ]
     },
     "execution_count": 18,
     "metadata": {},
     "output_type": "execute_result"
    }
   ],
   "source": [
    "df['joblocation_address'].value_counts().head(10)"
   ]
  },
  {
   "cell_type": "code",
   "execution_count": 19,
   "metadata": {
    "collapsed": true
   },
   "outputs": [],
   "source": [
    "replacements = {\n",
    "   'joblocation_address': {\n",
    "      r'(Bengaluru/Bangalore)': 'Bangalore',\n",
    "      r'Bengaluru': 'Bangalore',\n",
    "      r'Hyderabad / Secunderabad': 'Hyderabad',\n",
    "      r'Mumbai , Mumbai': 'Mumbai',\n",
    "      r'Noida': 'NCR',\n",
    "      r'Delhi': 'NCR',\n",
    "      r'Gurgaon': 'NCR', \n",
    "      r'Delhi/NCR(National Capital Region)': 'NCR',\n",
    "      r'Delhi , Delhi': 'NCR',\n",
    "      r'Noida , Noida/Greater Noida': 'NCR',\n",
    "      r'Ghaziabad': 'NCR',\n",
    "      r'Delhi/NCR(National Capital Region) , Gurgaon': 'NCR',\n",
    "      r'NCR , NCR': 'NCR',\n",
    "      r'NCR/NCR(National Capital Region)': 'NCR',\n",
    "      r'NCR , NCR/Greater NCR': 'NCR',\n",
    "      r'NCR/NCR(National Capital Region) , NCR': 'NCR', \n",
    "      r'NCR , NCR/NCR(National Capital Region)': 'NCR', \n",
    "      r'Bangalore , Bangalore / Bangalore': 'Bangalore',\n",
    "      r'Bangalore , karnataka': 'Bangalore',\n",
    "      r'NCR/NCR(National Capital Region)': 'NCR',\n",
    "      r'NCR/Greater NCR': 'NCR',\n",
    "      r'NCR/NCR(National Capital Region) , NCR': 'NCR'\n",
    "       \n",
    "   }\n",
    "}\n",
    "\n",
    "df.replace(replacements, regex=True, inplace=True)\n",
    "y = df['joblocation_address'].value_counts()"
   ]
  },
  {
   "cell_type": "code",
   "execution_count": 20,
   "metadata": {},
   "outputs": [
    {
     "data": {
      "text/plain": [
       "Bangalore                                 5649\n",
       "NCR                                       3253\n",
       "Mumbai                                    2862\n",
       "Hyderabad                                 2182\n",
       "Chennai                                   1204\n",
       "NCR/NCR(National Capital Region)           483\n",
       "NCR/NCR(National Capital Region) , NCR     207\n",
       "Bangalore , Chennai , Hyderabad            118\n",
       "Bangalore , Hyderabad                      101\n",
       "Bangalore, Hyderabad                        87\n",
       "Name: joblocation_address, dtype: int64"
      ]
     },
     "execution_count": 20,
     "metadata": {},
     "output_type": "execute_result"
    }
   ],
   "source": [
    "y.head(10)"
   ]
  },
  {
   "cell_type": "code",
   "execution_count": 21,
   "metadata": {},
   "outputs": [
    {
     "data": {
      "text/plain": [
       "<matplotlib.axes._subplots.AxesSubplot at 0x1472857a400>"
      ]
     },
     "execution_count": 21,
     "metadata": {},
     "output_type": "execute_result"
    },
    {
     "data": {
      "image/png": "[encoded data removed]",
      "text/plain": [
       "<matplotlib.figure.Figure at 0x14728596470>"
      ]
     },
     "metadata": {},
     "output_type": "display_data"
    }
   ],
   "source": [
    "df['joblocation_address'].value_counts().head().plot(kind = 'bar')"
   ]
  },
  {
   "cell_type": "code",
   "execution_count": 22,
   "metadata": {},
   "outputs": [
    {
     "data": {
      "text/plain": [
       "IT-Software / Software Services                  9216\n",
       "Education / Teaching / Training                  1322\n",
       "BPO / Call Centre / ITES                         1254\n",
       "Banking / Financial Services / Broking           1238\n",
       "Recruitment / Staffing                           1129\n",
       "Internet / Ecommerce                              738\n",
       "Pharma / Biotech / Clinical Research              525\n",
       "Medical / Healthcare / Hospitals                  495\n",
       "Automobile / Auto Anciliary / Auto Components     478\n",
       "Construction / Engineering / Cement / Metals      449\n",
       "Name: industry, dtype: int64"
      ]
     },
     "execution_count": 22,
     "metadata": {},
     "output_type": "execute_result"
    }
   ],
   "source": [
    "df['industry'].value_counts().head(10)"
   ]
  },
  {
   "cell_type": "code",
   "execution_count": 23,
   "metadata": {},
   "outputs": [
    {
     "data": {
      "text/plain": [
       "<matplotlib.axes._subplots.AxesSubplot at 0x14728756780>"
      ]
     },
     "execution_count": 23,
     "metadata": {},
     "output_type": "execute_result"
    },
    {
     "data": {
      "image/png": "[encoded data removed]",
      "text/plain": [
       "<matplotlib.figure.Figure at 0x147287bb7f0>"
      ]
     },
     "metadata": {},
     "output_type": "display_data"
    }
   ],
   "source": [
    "df['industry'].value_counts().head(10).plot(kind = 'bar')"
   ]
  },
  {
   "cell_type": "code",
   "execution_count": 24,
   "metadata": {
    "collapsed": true
   },
   "outputs": [],
   "source": [
    "p = df['industry'].value_counts().head(20)\n",
    "q = df['joblocation_address'].value_counts().head(20)"
   ]
  },
  {
   "cell_type": "code",
   "execution_count": 25,
   "metadata": {},
   "outputs": [
    {
     "data": {
      "text/plain": [
       "Business Development Executive    93\n",
       "Business Development Manager      92\n",
       "Software Engineer                 81\n",
       "Project Manager                   67\n",
       "Android Developer                 65\n",
       "Web Designer                      61\n",
       "Content Writer                    59\n",
       "Senior Software Engineer          58\n",
       "Sales Executive                   56\n",
       "PHP Developer                     54\n",
       "Name: jobtitle, dtype: int64"
      ]
     },
     "execution_count": 25,
     "metadata": {},
     "output_type": "execute_result"
    }
   ],
   "source": [
    "df['jobtitle'].value_counts().head(10)"
   ]
  },
  {
   "cell_type": "code",
   "execution_count": 26,
   "metadata": {},
   "outputs": [
    {
     "data": {
      "text/plain": [
       "<matplotlib.axes._subplots.AxesSubplot at 0x1472864e748>"
      ]
     },
     "execution_count": 26,
     "metadata": {},
     "output_type": "execute_result"
    },
    {
     "data": {
      "image/png": "[encoded data removed]",
      "text/plain": [
       "<matplotlib.figure.Figure at 0x14728893eb8>"
      ]
     },
     "metadata": {},
     "output_type": "display_data"
    }
   ],
   "source": [
    "df['jobtitle'].value_counts().head(10).plot(kind = 'bar')"
   ]
  },
  {
   "cell_type": "code",
   "execution_count": 27,
   "metadata": {},
   "outputs": [
    {
     "data": {
      "text/html": [
       "<div>\n",
       "<style>\n",
       "    .dataframe thead tr:only-child th {\n",
       "        text-align: right;\n",
       "    }\n",
       "\n",
       "    .dataframe thead th {\n",
       "        text-align: left;\n",
       "    }\n",
       "\n",
       "    .dataframe tbody tr th {\n",
       "        vertical-align: top;\n",
       "    }\n",
       "</style>\n",
       "<table border=\"1\" class=\"dataframe\">\n",
       "  <thead>\n",
       "    <tr style=\"text-align: right;\">\n",
       "      <th></th>\n",
       "      <th>company</th>\n",
       "      <th>education</th>\n",
       "      <th>experience</th>\n",
       "      <th>industry</th>\n",
       "      <th>jobdescription</th>\n",
       "      <th>jobid</th>\n",
       "      <th>joblocation_address</th>\n",
       "      <th>jobtitle</th>\n",
       "      <th>numberofpositions</th>\n",
       "      <th>payrate</th>\n",
       "      <th>postdate</th>\n",
       "      <th>site_name</th>\n",
       "      <th>skills</th>\n",
       "      <th>uniq_id</th>\n",
       "    </tr>\n",
       "  </thead>\n",
       "  <tbody>\n",
       "    <tr>\n",
       "      <th>0</th>\n",
       "      <td>MM Media Pvt Ltd</td>\n",
       "      <td>UG: B.Tech/B.E. - Any Specialization PG:Any Po...</td>\n",
       "      <td>0 - 1 yrs</td>\n",
       "      <td>Media / Entertainment / Internet</td>\n",
       "      <td>Job Description   Send me Jobs like this Quali...</td>\n",
       "      <td>210516002263</td>\n",
       "      <td>Chennai</td>\n",
       "      <td>Walkin Data Entry Operator (night Shift)</td>\n",
       "      <td>6.0</td>\n",
       "      <td>1,50,000 - 2,25,000 P.A</td>\n",
       "      <td>2016-05-21 19:30:00 +0000</td>\n",
       "      <td>NaN</td>\n",
       "      <td>ITES</td>\n",
       "      <td>43b19632647068535437c774b6ca6cf8</td>\n",
       "    </tr>\n",
       "    <tr>\n",
       "      <th>1</th>\n",
       "      <td>find live infotech</td>\n",
       "      <td>UG: B.Tech/B.E. - Any Specialization PG:MBA/PG...</td>\n",
       "      <td>0 - 0 yrs</td>\n",
       "      <td>Advertising / PR / MR / Event Management</td>\n",
       "      <td>Job Description   Send me Jobs like this Quali...</td>\n",
       "      <td>210516002391</td>\n",
       "      <td>Chennai</td>\n",
       "      <td>Work Based Onhome Based Part Time.</td>\n",
       "      <td>60.0</td>\n",
       "      <td>1,50,000 - 2,50,000 P.A. 20000</td>\n",
       "      <td>2016-05-21 19:30:00 +0000</td>\n",
       "      <td>NaN</td>\n",
       "      <td>Marketing</td>\n",
       "      <td>d4c72325e57f89f364812b5ed5a795f0</td>\n",
       "    </tr>\n",
       "    <tr>\n",
       "      <th>2</th>\n",
       "      <td>Softtech Career Infosystem Pvt. Ltd</td>\n",
       "      <td>UG: Any Graduate - Any Specialization PG:Any P...</td>\n",
       "      <td>4 - 8 yrs</td>\n",
       "      <td>IT-Software / Software Services</td>\n",
       "      <td>Job Description   Send me Jobs like this - as ...</td>\n",
       "      <td>101016900534</td>\n",
       "      <td>Bangalore</td>\n",
       "      <td>Pl/sql Developer - SQL</td>\n",
       "      <td>6.0</td>\n",
       "      <td>Not Disclosed by Recruiter</td>\n",
       "      <td>2016-10-13 16:20:55 +0000</td>\n",
       "      <td>NaN</td>\n",
       "      <td>IT Software - Application Programming</td>\n",
       "      <td>c47df6f4cfdf5b46f1fd713ba61b9eba</td>\n",
       "    </tr>\n",
       "    <tr>\n",
       "      <th>3</th>\n",
       "      <td>Onboard HRServices LLP</td>\n",
       "      <td>UG: Any Graduate - Any Specialization PG:CA Do...</td>\n",
       "      <td>11 - 15 yrs</td>\n",
       "      <td>Banking / Financial Services / Broking</td>\n",
       "      <td>Job Description   Send me Jobs like this - Inv...</td>\n",
       "      <td>81016900536</td>\n",
       "      <td>Mumbai, Bangalore, Kolkata, Chennai, Coimbator...</td>\n",
       "      <td>Manager/ad/partner - Indirect Tax - CA</td>\n",
       "      <td>6.0</td>\n",
       "      <td>Not Disclosed by Recruiter</td>\n",
       "      <td>2016-10-13 16:20:55 +0000</td>\n",
       "      <td>NaN</td>\n",
       "      <td>Accounts</td>\n",
       "      <td>115d28f140f694dd1cc61c53d03c66ae</td>\n",
       "    </tr>\n",
       "    <tr>\n",
       "      <th>4</th>\n",
       "      <td>Spire Technologies and Solutions Pvt. Ltd.</td>\n",
       "      <td>UG: B.Tech/B.E. - Any Specialization PG:Any Po...</td>\n",
       "      <td>6 - 8 yrs</td>\n",
       "      <td>IT-Software / Software Services</td>\n",
       "      <td>Job Description   Send me Jobs like this Pleas...</td>\n",
       "      <td>120916002122</td>\n",
       "      <td>Bangalore</td>\n",
       "      <td>JAVA Technical Lead (6-8 yrs) -</td>\n",
       "      <td>4.0</td>\n",
       "      <td>Not Disclosed by Recruiter</td>\n",
       "      <td>2016-10-13 16:20:55 +0000</td>\n",
       "      <td>NaN</td>\n",
       "      <td>IT Software - Application Programming</td>\n",
       "      <td>a12553fc03bc7bcced8b1bb8963f97b4</td>\n",
       "    </tr>\n",
       "  </tbody>\n",
       "</table>\n",
       "</div>"
      ],
      "text/plain": [
       "                                      company  \\\n",
       "0                            MM Media Pvt Ltd   \n",
       "1                          find live infotech   \n",
       "2         Softtech Career Infosystem Pvt. Ltd   \n",
       "3                      Onboard HRServices LLP   \n",
       "4  Spire Technologies and Solutions Pvt. Ltd.   \n",
       "\n",
       "                                           education   experience  \\\n",
       "0  UG: B.Tech/B.E. - Any Specialization PG:Any Po...    0 - 1 yrs   \n",
       "1  UG: B.Tech/B.E. - Any Specialization PG:MBA/PG...    0 - 0 yrs   \n",
       "2  UG: Any Graduate - Any Specialization PG:Any P...    4 - 8 yrs   \n",
       "3  UG: Any Graduate - Any Specialization PG:CA Do...  11 - 15 yrs   \n",
       "4  UG: B.Tech/B.E. - Any Specialization PG:Any Po...    6 - 8 yrs   \n",
       "\n",
       "                                   industry  \\\n",
       "0          Media / Entertainment / Internet   \n",
       "1  Advertising / PR / MR / Event Management   \n",
       "2           IT-Software / Software Services   \n",
       "3    Banking / Financial Services / Broking   \n",
       "4           IT-Software / Software Services   \n",
       "\n",
       "                                      jobdescription         jobid  \\\n",
       "0  Job Description   Send me Jobs like this Quali...  210516002263   \n",
       "1  Job Description   Send me Jobs like this Quali...  210516002391   \n",
       "2  Job Description   Send me Jobs like this - as ...  101016900534   \n",
       "3  Job Description   Send me Jobs like this - Inv...   81016900536   \n",
       "4  Job Description   Send me Jobs like this Pleas...  120916002122   \n",
       "\n",
       "                                 joblocation_address  \\\n",
       "0                                            Chennai   \n",
       "1                                            Chennai   \n",
       "2                                          Bangalore   \n",
       "3  Mumbai, Bangalore, Kolkata, Chennai, Coimbator...   \n",
       "4                                          Bangalore   \n",
       "\n",
       "                                   jobtitle  numberofpositions  \\\n",
       "0  Walkin Data Entry Operator (night Shift)                6.0   \n",
       "1        Work Based Onhome Based Part Time.               60.0   \n",
       "2                    Pl/sql Developer - SQL                6.0   \n",
       "3    Manager/ad/partner - Indirect Tax - CA                6.0   \n",
       "4           JAVA Technical Lead (6-8 yrs) -                4.0   \n",
       "\n",
       "                          payrate                   postdate site_name  \\\n",
       "0         1,50,000 - 2,25,000 P.A  2016-05-21 19:30:00 +0000       NaN   \n",
       "1  1,50,000 - 2,50,000 P.A. 20000  2016-05-21 19:30:00 +0000       NaN   \n",
       "2      Not Disclosed by Recruiter  2016-10-13 16:20:55 +0000       NaN   \n",
       "3      Not Disclosed by Recruiter  2016-10-13 16:20:55 +0000       NaN   \n",
       "4      Not Disclosed by Recruiter  2016-10-13 16:20:55 +0000       NaN   \n",
       "\n",
       "                                  skills                           uniq_id  \n",
       "0                                   ITES  43b19632647068535437c774b6ca6cf8  \n",
       "1                              Marketing  d4c72325e57f89f364812b5ed5a795f0  \n",
       "2  IT Software - Application Programming  c47df6f4cfdf5b46f1fd713ba61b9eba  \n",
       "3                               Accounts  115d28f140f694dd1cc61c53d03c66ae  \n",
       "4  IT Software - Application Programming  a12553fc03bc7bcced8b1bb8963f97b4  "
      ]
     },
     "execution_count": 27,
     "metadata": {},
     "output_type": "execute_result"
    }
   ],
   "source": [
    "df.head()\n"
   ]
  },
  {
   "cell_type": "code",
   "execution_count": 28,
   "metadata": {},
   "outputs": [
    {
     "data": {
      "text/plain": [
       "Not Disclosed by Recruiter                                                  15849\n",
       "Pay Band: PB4 (Rs.3740067000) with Academic Grade Pay of Rs.10,500/p.m.       121\n",
       "Pay Band: PB4 (Rs.3740067000) with Academic Grade Pay of Rs.9,500/p.m.        116\n",
       "Best in the Industry                                                           87\n",
       "Pay Band: PB3 (Rs.15600-39100) with Academic Grade Pay of Rs.8,000/p. m.       84\n",
       "2,00,000 - 4,00,000 P.A                                                        66\n",
       "Pay Scale: PB-3 (Rs.I5600-39100) with AGP of Rs.8000/- p.m.                    63\n",
       "3,00,000 - 8,00,000 P.A                                                        62\n",
       "Best in Industry                                                               61\n",
       "1,00,000 - 3,00,000 P.A                                                        58\n",
       "Name: payrate, dtype: int64"
      ]
     },
     "execution_count": 28,
     "metadata": {},
     "output_type": "execute_result"
    }
   ],
   "source": [
    "df['payrate'].value_counts().head(10)"
   ]
  },
  {
   "cell_type": "code",
   "execution_count": 29,
   "metadata": {},
   "outputs": [
    {
     "data": {
      "text/plain": [
       "<matplotlib.axes._subplots.AxesSubplot at 0x147287cfda0>"
      ]
     },
     "execution_count": 29,
     "metadata": {},
     "output_type": "execute_result"
    },
    {
     "data": {
      "image/png": "[encoded data removed]",
      "text/plain": [
       "<matplotlib.figure.Figure at 0x147287eb400>"
      ]
     },
     "metadata": {},
     "output_type": "display_data"
    }
   ],
   "source": [
    "df['payrate'].value_counts().head().plot(kind = 'bar')"
   ]
  },
  {
   "cell_type": "code",
   "execution_count": 30,
   "metadata": {},
   "outputs": [
    {
     "data": {
      "text/plain": [
       "Not Disclosed by Recruiter                                                  15849\n",
       "Pay Band: PB4 (Rs.3740067000) with Academic Grade Pay of Rs.10,500/p.m.       121\n",
       "Pay Band: PB4 (Rs.3740067000) with Academic Grade Pay of Rs.9,500/p.m.        116\n",
       "Best in the Industry                                                           87\n",
       "Pay Band: PB3 (Rs.15600-39100) with Academic Grade Pay of Rs.8,000/p. m.       84\n",
       "2,00,000 - 4,00,000 P.A                                                        66\n",
       "Pay Scale: PB-3 (Rs.I5600-39100) with AGP of Rs.8000/- p.m.                    63\n",
       "3,00,000 - 8,00,000 P.A                                                        62\n",
       "Best in Industry                                                               61\n",
       "1,00,000 - 3,00,000 P.A                                                        58\n",
       "Name: payrate, dtype: int64"
      ]
     },
     "execution_count": 30,
     "metadata": {},
     "output_type": "execute_result"
    }
   ],
   "source": [
    "#df['payrate'].value_counts().head(10).plot(kind = 'bar')\n",
    "#this paticular  cell is to display the elements from 1st position\n",
    "#df.loc()\n",
    "a = df['payrate'].value_counts().head(10)\n",
    "a\n"
   ]
  },
  {
   "cell_type": "code",
   "execution_count": 31,
   "metadata": {},
   "outputs": [
    {
     "name": "stdout",
     "output_type": "stream",
     "text": [
      "<class 'pandas.core.frame.DataFrame'>\n",
      "RangeIndex: 22000 entries, 0 to 21999\n",
      "Data columns (total 14 columns):\n",
      "company                21996 non-null object\n",
      "education              20004 non-null object\n",
      "experience             21996 non-null object\n",
      "industry               21995 non-null object\n",
      "jobdescription         21996 non-null object\n",
      "jobid                  22000 non-null int64\n",
      "joblocation_address    21499 non-null object\n",
      "jobtitle               22000 non-null object\n",
      "numberofpositions      22000 non-null float64\n",
      "payrate                21903 non-null object\n",
      "postdate               21977 non-null object\n",
      "site_name              3987 non-null object\n",
      "skills                 21472 non-null object\n",
      "uniq_id                22000 non-null object\n",
      "dtypes: float64(1), int64(1), object(12)\n",
      "memory usage: 68.3 MB\n"
     ]
    }
   ],
   "source": [
    "df.info(memory_usage = 'deep')"
   ]
  },
  {
   "cell_type": "code",
   "execution_count": 32,
   "metadata": {},
   "outputs": [
    {
     "data": {
      "text/plain": [
       "<matplotlib.axes._subplots.AxesSubplot at 0x147289efd30>"
      ]
     },
     "execution_count": 32,
     "metadata": {},
     "output_type": "execute_result"
    },
    {
     "data": {
      "image/png": "[encoded data removed]",
      "text/plain": [
       "<matplotlib.figure.Figure at 0x1472894d630>"
      ]
     },
     "metadata": {},
     "output_type": "display_data"
    }
   ],
   "source": [
    "#df.iloc[1:10,9].value_counts()\n",
    "a.iloc[1:,].plot(kind = 'bar')\n",
    "#This representation of payrates of actually given by companies"
   ]
  },
  {
   "cell_type": "code",
   "execution_count": 33,
   "metadata": {},
   "outputs": [
    {
     "data": {
      "text/plain": [
       "0            Media / Entertainment / Internet\n",
       "1    Advertising / PR / MR / Event Management\n",
       "2             IT-Software / Software Services\n",
       "3      Banking / Financial Services / Broking\n",
       "4             IT-Software / Software Services\n",
       "5             IT-Software / Software Services\n",
       "6             IT-Software / Software Services\n",
       "7                  Aviation / Aerospace Firms\n",
       "8       Industrial Products / Heavy Machinery\n",
       "9             IT-Software / Software Services\n",
       "Name: industry, dtype: object"
      ]
     },
     "execution_count": 33,
     "metadata": {},
     "output_type": "execute_result"
    }
   ],
   "source": [
    "#df['payrate'].head(20)\n",
    "df['industry'].head(10)"
   ]
  },
  {
   "cell_type": "code",
   "execution_count": 34,
   "metadata": {},
   "outputs": [
    {
     "data": {
      "text/plain": [
       "0                               1,50,000 - 2,25,000 P.A\n",
       "1                        1,50,000 - 2,50,000 P.A. 20000\n",
       "6                               3,00,000 - 6,50,000 P.A\n",
       "8                               1,00,000 - 2,00,000 P.A\n",
       "12                              1,75,000 - 2,50,000 P.A\n",
       "16    1,00,000 - 2,00,000 P.A. incentives for achiev...\n",
       "17                              1,00,000 - 5,00,000 P.A\n",
       "22                              1,50,000 - 3,75,000 P.A\n",
       "26                              1,75,000 - 3,00,000 P.A\n",
       "27                                50,000 - 1,50,000 P.A\n",
       "Name: payrate, dtype: object"
      ]
     },
     "execution_count": 34,
     "metadata": {},
     "output_type": "execute_result"
    }
   ],
   "source": [
    "#df['payrate'].exclude('Not Disclosed by Recruiter').head(20)\n",
    "X = df.payrate[(df.payrate != 'Not Disclosed by Recruiter')]\n",
    "X.head(10)"
   ]
  },
  {
   "cell_type": "code",
   "execution_count": 35,
   "metadata": {},
   "outputs": [
    {
     "data": {
      "text/plain": [
       "6054"
      ]
     },
     "execution_count": 35,
     "metadata": {},
     "output_type": "execute_result"
    }
   ],
   "source": [
    "X.count()"
   ]
  },
  {
   "cell_type": "code",
   "execution_count": 36,
   "metadata": {
    "collapsed": true
   },
   "outputs": [],
   "source": [
    "#This is in the form of cobject\n",
    "#in order to train the data sets we have to convert it into feture vectors\n",
    "B = df.groupby('industry').payrate"
   ]
  },
  {
   "cell_type": "code",
   "execution_count": 37,
   "metadata": {},
   "outputs": [
    {
     "data": {
      "text/plain": [
       "1"
      ]
     },
     "execution_count": 37,
     "metadata": {},
     "output_type": "execute_result"
    }
   ],
   "source": [
    "v = df['payrate'].isnull() \n",
    "v.unique().sum()"
   ]
  },
  {
   "cell_type": "code",
   "execution_count": 38,
   "metadata": {
    "collapsed": true
   },
   "outputs": [],
   "source": [
    "#No null values in the payment section\n",
    "#so we will do classification with respect to payment and industry\n",
    "df_class = df.filter(['payrate','industry'], axis=1)"
   ]
  },
  {
   "cell_type": "code",
   "execution_count": 39,
   "metadata": {},
   "outputs": [
    {
     "data": {
      "text/plain": [
       "0            Media / Entertainment / Internet0 - 1 yrs\n",
       "1    Advertising / PR / MR / Event Management0 - 0 yrs\n",
       "2             IT-Software / Software Services4 - 8 yrs\n",
       "3    Banking / Financial Services / Broking11 - 15 yrs\n",
       "4             IT-Software / Software Services6 - 8 yrs\n",
       "dtype: object"
      ]
     },
     "execution_count": 39,
     "metadata": {},
     "output_type": "execute_result"
    }
   ],
   "source": [
    "df9 = df['industry'] +df['experience']\n",
    "df9.head()"
   ]
  },
  {
   "cell_type": "code",
   "execution_count": 40,
   "metadata": {},
   "outputs": [
    {
     "data": {
      "text/html": [
       "<div>\n",
       "<style>\n",
       "    .dataframe thead tr:only-child th {\n",
       "        text-align: right;\n",
       "    }\n",
       "\n",
       "    .dataframe thead th {\n",
       "        text-align: left;\n",
       "    }\n",
       "\n",
       "    .dataframe tbody tr th {\n",
       "        vertical-align: top;\n",
       "    }\n",
       "</style>\n",
       "<table border=\"1\" class=\"dataframe\">\n",
       "  <thead>\n",
       "    <tr style=\"text-align: right;\">\n",
       "      <th></th>\n",
       "      <th>payrate</th>\n",
       "      <th>industry</th>\n",
       "    </tr>\n",
       "  </thead>\n",
       "  <tbody>\n",
       "    <tr>\n",
       "      <th>0</th>\n",
       "      <td>1,50,000 - 2,25,000 P.A</td>\n",
       "      <td>Media / Entertainment / Internet</td>\n",
       "    </tr>\n",
       "    <tr>\n",
       "      <th>1</th>\n",
       "      <td>1,50,000 - 2,50,000 P.A. 20000</td>\n",
       "      <td>Advertising / PR / MR / Event Management</td>\n",
       "    </tr>\n",
       "    <tr>\n",
       "      <th>2</th>\n",
       "      <td>Not Disclosed by Recruiter</td>\n",
       "      <td>IT-Software / Software Services</td>\n",
       "    </tr>\n",
       "    <tr>\n",
       "      <th>3</th>\n",
       "      <td>Not Disclosed by Recruiter</td>\n",
       "      <td>Banking / Financial Services / Broking</td>\n",
       "    </tr>\n",
       "    <tr>\n",
       "      <th>4</th>\n",
       "      <td>Not Disclosed by Recruiter</td>\n",
       "      <td>IT-Software / Software Services</td>\n",
       "    </tr>\n",
       "    <tr>\n",
       "      <th>5</th>\n",
       "      <td>Not Disclosed by Recruiter</td>\n",
       "      <td>IT-Software / Software Services</td>\n",
       "    </tr>\n",
       "    <tr>\n",
       "      <th>6</th>\n",
       "      <td>3,00,000 - 6,50,000 P.A</td>\n",
       "      <td>IT-Software / Software Services</td>\n",
       "    </tr>\n",
       "    <tr>\n",
       "      <th>7</th>\n",
       "      <td>Not Disclosed by Recruiter</td>\n",
       "      <td>Aviation / Aerospace Firms</td>\n",
       "    </tr>\n",
       "    <tr>\n",
       "      <th>8</th>\n",
       "      <td>1,00,000 - 2,00,000 P.A</td>\n",
       "      <td>Industrial Products / Heavy Machinery</td>\n",
       "    </tr>\n",
       "    <tr>\n",
       "      <th>9</th>\n",
       "      <td>Not Disclosed by Recruiter</td>\n",
       "      <td>IT-Software / Software Services</td>\n",
       "    </tr>\n",
       "  </tbody>\n",
       "</table>\n",
       "</div>"
      ],
      "text/plain": [
       "                          payrate                                  industry\n",
       "0         1,50,000 - 2,25,000 P.A          Media / Entertainment / Internet\n",
       "1  1,50,000 - 2,50,000 P.A. 20000  Advertising / PR / MR / Event Management\n",
       "2      Not Disclosed by Recruiter           IT-Software / Software Services\n",
       "3      Not Disclosed by Recruiter    Banking / Financial Services / Broking\n",
       "4      Not Disclosed by Recruiter           IT-Software / Software Services\n",
       "5      Not Disclosed by Recruiter           IT-Software / Software Services\n",
       "6         3,00,000 - 6,50,000 P.A           IT-Software / Software Services\n",
       "7      Not Disclosed by Recruiter                Aviation / Aerospace Firms\n",
       "8         1,00,000 - 2,00,000 P.A     Industrial Products / Heavy Machinery\n",
       "9      Not Disclosed by Recruiter           IT-Software / Software Services"
      ]
     },
     "execution_count": 40,
     "metadata": {},
     "output_type": "execute_result"
    }
   ],
   "source": [
    "df_class.head(10)"
   ]
  },
  {
   "cell_type": "code",
   "execution_count": 41,
   "metadata": {},
   "outputs": [
    {
     "data": {
      "text/html": [
       "<div>\n",
       "<style>\n",
       "    .dataframe thead tr:only-child th {\n",
       "        text-align: right;\n",
       "    }\n",
       "\n",
       "    .dataframe thead th {\n",
       "        text-align: left;\n",
       "    }\n",
       "\n",
       "    .dataframe tbody tr th {\n",
       "        vertical-align: top;\n",
       "    }\n",
       "</style>\n",
       "<table border=\"1\" class=\"dataframe\">\n",
       "  <thead>\n",
       "    <tr style=\"text-align: right;\">\n",
       "      <th></th>\n",
       "      <th>payrate</th>\n",
       "      <th>industry</th>\n",
       "    </tr>\n",
       "  </thead>\n",
       "  <tbody>\n",
       "    <tr>\n",
       "      <th>0</th>\n",
       "      <td>1,50,000 - 2,25,000 P.A</td>\n",
       "      <td>Media / Entertainment / Internet</td>\n",
       "    </tr>\n",
       "    <tr>\n",
       "      <th>1</th>\n",
       "      <td>1,50,000 - 2,50,000 P.A. 20000</td>\n",
       "      <td>Advertising / PR / MR / Event Management</td>\n",
       "    </tr>\n",
       "    <tr>\n",
       "      <th>6</th>\n",
       "      <td>3,00,000 - 6,50,000 P.A</td>\n",
       "      <td>IT-Software / Software Services</td>\n",
       "    </tr>\n",
       "    <tr>\n",
       "      <th>8</th>\n",
       "      <td>1,00,000 - 2,00,000 P.A</td>\n",
       "      <td>Industrial Products / Heavy Machinery</td>\n",
       "    </tr>\n",
       "    <tr>\n",
       "      <th>12</th>\n",
       "      <td>1,75,000 - 2,50,000 P.A</td>\n",
       "      <td>IT-Software / Software Services</td>\n",
       "    </tr>\n",
       "  </tbody>\n",
       "</table>\n",
       "</div>"
      ],
      "text/plain": [
       "                           payrate                                  industry\n",
       "0          1,50,000 - 2,25,000 P.A          Media / Entertainment / Internet\n",
       "1   1,50,000 - 2,50,000 P.A. 20000  Advertising / PR / MR / Event Management\n",
       "6          3,00,000 - 6,50,000 P.A           IT-Software / Software Services\n",
       "8          1,00,000 - 2,00,000 P.A     Industrial Products / Heavy Machinery\n",
       "12         1,75,000 - 2,50,000 P.A           IT-Software / Software Services"
      ]
     },
     "execution_count": 41,
     "metadata": {},
     "output_type": "execute_result"
    }
   ],
   "source": [
    "#df_class.drop('Not Disclosed by Recruiter', axis = 1 )\n",
    "#df_class = [(df_class.payrate != 'Not Disclosed by Recruiter')]\n",
    "df_class1 = df_class[df_class.payrate != 'Not Disclosed by Recruiter']\n",
    "df_class1.head()"
   ]
  },
  {
   "cell_type": "code",
   "execution_count": 42,
   "metadata": {},
   "outputs": [
    {
     "data": {
      "text/html": [
       "<div>\n",
       "<style>\n",
       "    .dataframe thead tr:only-child th {\n",
       "        text-align: right;\n",
       "    }\n",
       "\n",
       "    .dataframe thead th {\n",
       "        text-align: left;\n",
       "    }\n",
       "\n",
       "    .dataframe tbody tr th {\n",
       "        vertical-align: top;\n",
       "    }\n",
       "</style>\n",
       "<table border=\"1\" class=\"dataframe\">\n",
       "  <thead>\n",
       "    <tr style=\"text-align: right;\">\n",
       "      <th></th>\n",
       "      <th>payrate</th>\n",
       "      <th>industry</th>\n",
       "    </tr>\n",
       "  </thead>\n",
       "  <tbody>\n",
       "    <tr>\n",
       "      <th>count</th>\n",
       "      <td>6054</td>\n",
       "      <td>6146</td>\n",
       "    </tr>\n",
       "    <tr>\n",
       "      <th>unique</th>\n",
       "      <td>1847</td>\n",
       "      <td>61</td>\n",
       "    </tr>\n",
       "    <tr>\n",
       "      <th>top</th>\n",
       "      <td>Pay Band: PB4 (Rs.3740067000) with Academic Gr...</td>\n",
       "      <td>IT-Software / Software Services</td>\n",
       "    </tr>\n",
       "    <tr>\n",
       "      <th>freq</th>\n",
       "      <td>121</td>\n",
       "      <td>1507</td>\n",
       "    </tr>\n",
       "  </tbody>\n",
       "</table>\n",
       "</div>"
      ],
      "text/plain": [
       "                                                  payrate  \\\n",
       "count                                                6054   \n",
       "unique                                               1847   \n",
       "top     Pay Band: PB4 (Rs.3740067000) with Academic Gr...   \n",
       "freq                                                  121   \n",
       "\n",
       "                               industry  \n",
       "count                              6146  \n",
       "unique                               61  \n",
       "top     IT-Software / Software Services  \n",
       "freq                               1507  "
      ]
     },
     "execution_count": 42,
     "metadata": {},
     "output_type": "execute_result"
    }
   ],
   "source": [
    "#X.head(10)\n",
    "df_class1.describe()"
   ]
  },
  {
   "cell_type": "code",
   "execution_count": 43,
   "metadata": {
    "collapsed": true
   },
   "outputs": [],
   "source": [
    "#p = df_class1['payrate' == '12,00,000 - 22,00,000 P.A']\n",
    "#p"
   ]
  },
  {
   "cell_type": "code",
   "execution_count": 44,
   "metadata": {},
   "outputs": [
    {
     "name": "stderr",
     "output_type": "stream",
     "text": [
      "c:\\users\\admin\\appdata\\local\\programs\\python\\python36\\lib\\site-packages\\ipykernel_launcher.py:2: SettingWithCopyWarning: \n",
      "A value is trying to be set on a copy of a slice from a DataFrame.\n",
      "Try using .loc[row_indexer,col_indexer] = value instead\n",
      "\n",
      "See the caveats in the documentation: http://pandas.pydata.org/pandas-docs/stable/indexing.html#indexing-view-versus-copy\n",
      "  \n"
     ]
    },
    {
     "data": {
      "text/plain": [
       "\"\\ndf_class1['payrate'] = df_class1['payrate'].astype(str)\\ndf_class1['payrate'] = df_class1['payrate'].replace(',', '')\\ndf_class1['payrate'] = df_class1['payrate'].astype(float)\\ndf_class1.payrate.head()\\n\""
      ]
     },
     "execution_count": 44,
     "metadata": {},
     "output_type": "execute_result"
    }
   ],
   "source": [
    "#df_class1.payrate\n",
    "df_class1['payrate'] = df_class1['payrate'].str.replace(',', '')\n",
    "'''\n",
    "df_class1['payrate'] = df_class1['payrate'].astype(str)\n",
    "df_class1['payrate'] = df_class1['payrate'].replace(',', '')\n",
    "df_class1['payrate'] = df_class1['payrate'].astype(float)\n",
    "df_class1.payrate.head()\n",
    "'''"
   ]
  },
  {
   "cell_type": "code",
   "execution_count": 45,
   "metadata": {},
   "outputs": [
    {
     "data": {
      "text/plain": [
       "0            150000 - 225000 P.A\n",
       "1     150000 - 250000 P.A. 20000\n",
       "6            300000 - 650000 P.A\n",
       "8            100000 - 200000 P.A\n",
       "12           175000 - 250000 P.A\n",
       "Name: payrate, dtype: object"
      ]
     },
     "execution_count": 45,
     "metadata": {},
     "output_type": "execute_result"
    }
   ],
   "source": [
    "#df_class1['payrate'] = df_class1['payrate'].str.extract('(\\d)', expand=False)\n",
    "#df_class1['payrate'] = df_class1.payrate.str.replace(r\"[a-zA-Z]\",'')\n",
    "#df_class1.payrate\n",
    "data_set = df_class1.payrate\n",
    "data_set.head()"
   ]
  },
  {
   "cell_type": "code",
   "execution_count": 46,
   "metadata": {},
   "outputs": [
    {
     "name": "stderr",
     "output_type": "stream",
     "text": [
      "c:\\users\\admin\\appdata\\local\\programs\\python\\python36\\lib\\site-packages\\pandas\\core\\series.py:2726: SettingWithCopyWarning: \n",
      "A value is trying to be set on a copy of a slice from a DataFrame\n",
      "\n",
      "See the caveats in the documentation: http://pandas.pydata.org/pandas-docs/stable/indexing.html#indexing-view-versus-copy\n",
      "  self._update_inplace(result)\n"
     ]
    }
   ],
   "source": [
    "data_set.dropna(inplace = True)\n",
    "#print(data_set[3768])\n",
    "#data_set.drop(df.index[3768], inplace=True)\n",
    "#print(data_set[3768])"
   ]
  },
  {
   "cell_type": "code",
   "execution_count": 47,
   "metadata": {},
   "outputs": [
    {
     "name": "stdout",
     "output_type": "stream",
     "text": [
      "total =  5256\n",
      "skipped =  606\n"
     ]
    }
   ],
   "source": [
    "#print(data_set)\n",
    "array_data = []\n",
    "bottom_data = []\n",
    "top_data = []\n",
    "index_numbers = []\n",
    "index_numbers = data_set.index\n",
    "new_index_numbers = []\n",
    "#print(data_set[2])\n",
    "#print(data_set.index)\n",
    "for element in index_numbers:\n",
    "    #print(element)\n",
    "    #print(data_set[element])\n",
    "    #if data_set[element] == nan:\n",
    "        #print(\"found null\")\n",
    "    if data_set[element].find(\"0\") != -1:\n",
    "        #print(array_data[-1].find(\" P.A\"))\n",
    "        array_data.append(data_set[element][:data_set[element].find(\" P.A\")])\n",
    "        #print(element)\n",
    "        new_index_numbers.append(element)\n",
    "        continue\n",
    "    #else:\n",
    "        #print(\"to be removed\")\n",
    "    #remove element\n",
    "    \n",
    "#print(array_data)\n",
    "#print(index_numbers)\n",
    "total = 0\n",
    "skipped = 0\n",
    "newer_index_numbers = []\n",
    "for element in range(len(array_data)):\n",
    "    #print(element)\n",
    "    total += 1\n",
    "    if array_data[element][:array_data[element].find(\" \")].isdigit() == False or array_data[element][array_data[element].find(\" \")+3:].isdigit() == False:\n",
    "        #print(\"Skipped\", element)\n",
    "        skipped += 1\n",
    "        continue\n",
    "    bottom_data.append(int(array_data[element][:array_data[element].find(\" \")]))\n",
    "    top_data.append(int(array_data[element][array_data[element].find(\" \")+3:]))\n",
    "    newer_index_numbers.append(new_index_numbers[element])\n",
    "\n",
    "print(\"total = \", total)\n",
    "print(\"skipped = \",skipped)\n",
    "\n",
    "#print(new_index_numbers)   \n",
    "#print(top_data)\n",
    "#print(bottom_data)\n",
    "average_data = []\n",
    "for element in range(len(top_data)):\n",
    "    average_data.append((top_data[element]+bottom_data[element])/2)\n",
    "#print(average_data)"
   ]
  },
  {
   "cell_type": "code",
   "execution_count": 48,
   "metadata": {},
   "outputs": [
    {
     "name": "stdout",
     "output_type": "stream",
     "text": [
      "[187500.0, 200000.0, 475000.0, 150000.0, 212500.0, 150000.0, 300000.0, 262500.0, 237500.0, 100000.0, 1150000.0, 850000.0, 600000.0, 375000.0, 600000.0, 275000.0, 525000.0, 125000.0, 1150000.0, 800000.0, 175000.0, 275000.0, 550000.0, 312500.0, 350000.0, 1050000.0, 287500.0, 500000.0, 300000.0, 300000.0, 250000.0, 550000.0, 225000.0, 250000.0, 300000.0, 275000.0, 1700000.0, 250000.0, 850000.0, 325000.0, 450000.0, 900000.0, 300000.0, 662500.0, 125000.0, 1000000.0, 425000.0, 325000.0, 1450000.0, 250000.0, 150000.0, 525000.0, 450000.0, 225000.0, 412500.0, 850000.0, 450000.0, 287500.0, 350000.0, 400000.0, 450000.0, 950000.0, 975000.0, 600000.0, 225000.0, 900000.0, 212500.0, 300000.0, 250000.0, 400000.0, 175000.0, 250000.0, 187500.0, 250000.0, 237500.0, 900000.0, 800000.0, 675000.0, 250000.0, 275000.0, 137500.0, 400000.0, 362500.0, 250000.0, 237500.0, 675000.0, 1250000.0, 1150000.0, 375000.0, 575000.0, 725000.0, 175000.0, 900000.0, 850000.0, 300000.0, 400000.0, 237500.0, 312500.0, 300000.0, 1350000.0, 262500.0, 75000.0, 212500.0, 300000.0, 200000.0, 1125000.0, 3125000.0, 1100000.0, 550000.0, 500000.0, 575000.0, 475000.0, 550000.0, 350000.0, 600000.0, 375000.0, 287500.0, 1000000.0, 200000.0, 225000.0, 250000.0, 200000.0, 475000.0, 275000.0, 500000.0, 200000.0, 22500.0, 362500.0, 125000.0, 337500.0, 2250000.0, 425000.0, 500000.0, 287500.0, 165000.0, 400000.0, 900000.0, 425000.0, 800000.0, 250000.0, 8750.0, 575000.0, 187500.0, 450000.0, 1700000.0, 150000.0, 2250000.0, 1350000.0, 287500.0, 237500.0, 275000.0, 800000.0, 275000.0, 1400000.0, 400000.0, 450000.0, 150000.0, 87500.0, 175000.0, 450000.0, 412500.0, 425000.0, 350000.0, 237500.0, 600000.0, 287500.0, 900000.0, 1000000.0, 462500.0, 450000.0, 450000.0, 212500.0, 575000.0, 2250000.0, 400000.0, 1100000.0, 3750000.0, 500000.0, 362500.0, 1100000.0, 250000.0, 475000.0, 350000.0, 850000.0, 675000.0, 700000.0, 375000.0, 2250000.0, 275000.0, 175000.0, 325000.0, 375000.0, 175000.0, 575000.0, 100000.0, 425000.0, 325000.0, 275000.0, 325000.0, 1100000.0, 262500.0, 175000.0, 550000.0, 450000.0, 155000.0, 425000.0, 400000.0, 300000.0, 1200000.0, 170000.0, 1450000.0, 325000.0, 225000.0, 325000.0, 650000.0, 500000.0, 1350000.0, 1050000.0, 162500.0, 450000.0, 2250000.0, 950000.0, 200000.0, 187500.0, 375000.0, 2250000.0, 300000.0, 325000.0, 950000.0, 250000.0, 250000.0, 262500.0, 375000.0, 300000.0, 2750000.0, 250000.0, 312500.0, 337500.0, 275000.0, 250000.0, 325000.0, 165000.0, 2250000.0, 425000.0, 2500000.0, 162500.0, 200000.0, 900000.0, 125000.0, 1400000.0, 650000.0, 300000.0, 325000.0, 362500.0, 600000.0, 700000.0, 162500.0, 450000.0, 425000.0, 550000.0, 175000.0, 350000.0, 250000.0, 250000.0, 425000.0, 325000.0, 650000.0, 250000.0, 200000.0, 450000.0, 537500.0, 100000.0, 75000.0, 1000000.0, 900000.0, 1350000.0, 850000.0, 362500.0, 900000.0, 475000.0, 450000.0, 500000.0, 375000.0, 250000.0, 650000.0, 350000.0, 325000.0, 1400000.0, 450000.0, 300000.0, 187500.0, 312500.0, 550000.0, 950000.0, 300000.0, 725000.0, 700000.0, 1000000.0, 250000.0, 337500.0, 337500.0, 425000.0, 450000.0, 300000.0, 275000.0, 150000.0, 1350000.0, 275000.0, 500000.0, 375000.0, 287500.0, 2500000.0, 237500.0, 300000.0, 750000.0, 225000.0, 525000.0, 300000.0, 362500.0, 325000.0, 300000.0, 900000.0, 575000.0, 400000.0, 300000.0, 550000.0, 450000.0, 350000.0, 500000.0, 1500000.0, 900000.0, 300000.0, 525000.0, 412500.0, 500000.0, 850000.0, 375000.0, 387500.0, 162500.0, 262500.0, 175000.0, 325000.0, 375000.0, 425000.0, 187500.0, 250000.0, 300000.0, 350000.0, 250000.0, 250000.0, 325000.0, 387500.0, 975000.0, 850000.0, 287500.0, 300000.0, 1650000.0, 450000.0, 175000.0, 287500.0, 175000.0, 650000.0, 175000.0, 162500.0, 475000.0, 525000.0, 400000.0, 487500.0, 312500.0, 200000.0, 450000.0, 800000.0, 650000.0, 400000.0, 400000.0, 387500.0, 550000.0, 500000.0, 337500.0, 287500.0, 400000.0, 2250000.0, 475000.0, 275000.0, 125000.0, 325000.0, 1500000.0, 400000.0, 450000.0, 550000.0, 2750000.0, 250000.0, 350000.0, 225000.0, 250000.0, 200000.0, 750000.0, 600000.0, 1175000.0, 400000.0, 575000.0, 175000.0, 1150000.0, 425000.0, 825000.0, 100000.0, 1200000.0, 275000.0, 200000.0, 175000.0, 1400000.0, 250000.0, 550000.0, 250000.0, 900000.0, 350000.0, 375000.0, 325000.0, 650000.0, 1100000.0, 2500.0, 325000.0, 1500000.0, 1150000.0, 850000.0, 850000.0, 400000.0, 2250000.0, 175000.0, 2750000.0, 1700000.0, 150000.0, 275000.0, 2250000.0, 212500.0, 175000.0, 350000.0, 475000.0, 462500.0, 375000.0, 325000.0, 187500.0, 275000.0, 2750000.0, 400000.0, 262500.0, 1200000.0, 750000.0, 425000.0, 500000.0, 175000.0, 925000.0, 225000.0, 375000.0, 337500.0, 1500000.0, 350000.0, 550000.0, 2750000.0, 275000.0, 525000.0, 1100000.0, 1500000.0, 2400000.0, 2250000.0, 300000.0, 150000.0, 550000.0, 1200000.0, 250000.0, 687500.0, 2500.0, 4250000.0, 800000.0, 375000.0, 200000.0, 900000.0, 237500.0, 350000.0, 850000.0, 450000.0, 175000.0, 3250000.0, 1100000.0, 6500000.0, 325000.0, 337500.0, 2250000.0, 2750000.0, 300000.0, 550000.0, 150000.0, 1500000.0, 325000.0, 2500000.0, 400000.0, 147500.0, 150000.0, 2250000.0, 300000.0, 400000.0, 1500000.0, 300000.0, 300000.0, 1250000.0, 425000.0, 3750000.0, 237500.0, 375000.0, 412500.0, 200000.0, 275000.0, 300000.0, 362500.0, 275000.0, 275000.0, 300000.0, 300000.0, 1000000.0, 300000.0, 250000.0, 175000.0, 102500.0, 337500.0, 250000.0, 325000.0, 1650000.0, 550000.0, 650000.0, 425000.0, 450000.0, 187500.0, 400000.0, 312500.0, 1300000.0, 825000.0, 3000000.0, 300000.0, 300000.0, 125000.0, 1450000.0, 225000.0, 275000.0, 512500.0, 350000.0, 375000.0, 325000.0, 212500.0, 950000.0, 200000.0, 625000.0, 325000.0, 212500.0, 775000.0, 400000.0, 2000000.0, 1200000.0, 525000.0, 125000.0, 362500.0, 175000.0, 212500.0, 450000.0, 175000.0, 262500.0, 450000.0, 2250000.0, 1650000.0, 1500000.0, 550000.0, 225000.0, 650000.0, 850000.0, 550000.0, 262500.0, 1000000.0, 237500.0, 850000.0, 362500.0, 725000.0, 1500000.0, 225000.0, 400000.0, 2250000.0, 400000.0, 400000.0, 675000.0, 300000.0, 450000.0, 325000.0, 200000.0, 1500000.0, 275000.0, 400000.0, 325000.0, 400000.0, 487500.0, 312500.0, 1025000.0, 500000.0, 500000.0, 525000.0, 450000.0, 312500.0, 250000.0, 275000.0, 100000.0, 200000.0, 350000.0, 237500.0, 275000.0, 950000.0, 250000.0, 650000.0, 137500.0, 475000.0, 1200000.0, 900000.0, 250000.0, 900000.0, 750000.0, 550000.0, 150000.0, 362500.0, 375000.0, 950000.0, 350000.0, 900000.0, 375000.0, 262500.0, 350000.0, 4000000.0, 375000.0, 900000.0, 475000.0, 362500.0, 250000.0, 550000.0, 250000.0, 175000.0, 700000.0, 125000.0, 350000.0, 900000.0, 375000.0, 300000.0, 300000.0, 550000.0, 350000.0, 250000.0, 375000.0, 250000.0, 900000.0, 350000.0, 250000.0, 250000.0, 250000.0, 550000.0, 550000.0, 400000.0, 650000.0, 200000.0, 900000.0, 300000.0, 375000.0, 225000.0, 800000.0, 250000.0, 275000.0, 287500.0, 375000.0, 1100000.0, 250000.0, 1400000.0, 775000.0, 950000.0, 900000.0, 375000.0, 250000.0, 112500.0, 375000.0, 750000.0, 250000.0, 1200000.0, 900000.0, 550000.0, 375000.0, 1000000.0, 250000.0, 1000000.0, 225000.0, 650000.0, 237500.0, 300000.0, 250000.0, 2750000.0, 325000.0, 625000.0, 400000.0, 250000.0, 150000.0, 200000.0, 437500.0, 450000.0, 312500.0, 350000.0, 900000.0, 437500.0, 250000.0, 850000.0, 187500.0, 375000.0, 450000.0, 1200000.0, 200000.0, 250000.0, 250000.0, 1000000.0, 1000000.0, 650000.0, 1300000.0, 175000.0, 350000.0, 1000000.0, 550000.0, 15000.0, 450000.0, 250000.0, 1000000.0, 900000.0, 900000.0, 375000.0, 850000.0, 550000.0, 137500.0, 250000.0, 350000.0, 650000.0, 250000.0, 2000000.0, 550000.0, 250000.0, 375000.0, 140000.0, 550000.0, 1100000.0, 250000.0, 162500.0, 250000.0, 250000.0, 375000.0, 650000.0, 147500.0, 900000.0, 750000.0, 200000.0, 162500.0, 650000.0, 275000.0, 650000.0, 550000.0, 1000000.0, 150000.0, 375000.0, 525000.0, 95000.0, 400000.0, 300000.0, 75000.0, 162500.0, 412500.0, 162500.0, 550000.0, 400000.0, 550000.0, 112500.0, 2500.0, 187500.0, 2500.0, 200000.0, 250000.0, 500000.0, 250000.0, 250000.0, 200000.0, 362500.0, 450000.0, 700000.0, 200000.0, 212500.0, 300000.0, 700000.0, 250000.0, 750000.0, 537500.0, 750000.0, 275000.0, 137500.0, 350000.0, 125000.0, 1300000.0, 275000.0, 300000.0, 125000.0, 650000.0, 300000.0, 500000.0, 350000.0, 175000.0, 700000.0, 325000.0, 1050000.0, 300000.0, 350000.0, 1100000.0, 2250000.0, 187500.0, 575000.0, 237500.0, 175000.0, 300000.0, 325000.0, 2000000.0, 525000.0, 1000000.0, 150000.0, 1200000.0, 212500.0, 600000.0, 550000.0, 10000.0, 350000.0, 175000.0, 800000.0, 300000.0, 425000.0, 225000.0, 550000.0, 175000.0, 237500.0, 450000.0, 1800000.0, 500000.0, 500000.0, 237500.0, 125000.0, 650000.0, 500000.0, 225000.0, 225000.0, 550000.0, 450000.0, 212500.0, 750000.0, 287500.0, 100000.0, 400000.0, 575000.0, 1500000.0, 1000000.0, 237500.0, 237500.0, 512500.0, 262500.0, 350000.0, 600000.0, 212500.0, 175000.0, 162500.0, 187500.0, 125000.0, 675000.0, 300000.0, 250000.0, 1300000.0, 275000.0, 237500.0, 500000.0, 300000.0, 400000.0, 375000.0, 3750000.0, 150000.0, 200000.0, 175000.0, 325000.0, 550000.0, 600000.0, 387500.0, 950000.0, 250000.0, 15000.0, 550000.0, 200000.0, 300000.0, 10000.0, 262500.0, 850000.0, 250000.0, 137500.0, 200000.0, 262500.0, 312500.0, 900000.0, 375000.0, 400000.0, 650000.0, 212500.0, 400000.0, 175000.0, 187500.0, 300000.0, 900000.0, 850000.0, 1100000.0, 400000.0, 212500.0, 237500.0, 800000.0, 1000000.0, 212500.0, 250000.0, 250000.0, 250000.0, 375000.0, 137500.0, 300000.0, 850000.0, 250000.0, 225000.0, 287500.0, 700000.0, 150000.0, 550000.0, 1150000.0, 750000.0, 1350000.0, 1150000.0, 137500.0, 200000.0, 112500.0, 550000.0, 200000.0, 3000000.0, 412500.0, 550000.0, 950000.0, 300000.0, 300000.0, 700000.0, 700000.0, 700000.0, 425000.0, 212500.0, 75000.0, 300000.0, 287500.0, 187500.0, 287500.0, 250000.0, 350000.0, 250000.0, 150000.0, 262500.0, 125000.0, 275000.0, 400000.0, 525000.0, 350000.0, 350000.0, 200000.0, 275000.0, 250000.0, 625000.0, 237500.0, 200000.0, 300000.0, 200000.0, 175000.0, 150000.0, 462500.0, 900000.0, 300000.0, 900000.0, 175000.0, 187500.0, 350000.0, 625000.0, 450000.0, 287500.0, 300000.0, 400000.0, 125000.0, 525000.0, 250000.0, 950000.0, 125000.0, 162500.0, 450000.0, 175000.0, 187500.0, 287500.0, 150000.0, 350000.0, 300000.0, 650000.0, 1100000.0, 350000.0, 375000.0, 200000.0, 275000.0, 400000.0, 225000.0, 650000.0, 300000.0, 1750000.0, 125000.0, 312500.0, 1600000.0, 275000.0, 137500.0, 95000.0, 225000.0, 212500.0, 200000.0, 750000.0, 175000.0, 550000.0, 2250000.0, 425000.0, 250000.0, 350000.0, 650000.0, 875000.0, 450000.0, 450000.0, 1400000.0, 675000.0, 250000.0, 250000.0, 850000.0, 1025000.0, 375000.0, 550000.0, 350000.0, 450000.0, 175000.0, 1150000.0, 700000.0, 300000.0, 750000.0, 175000.0, 1500000.0, 187500.0, 250000.0, 575000.0, 225000.0, 950000.0, 200000.0, 950000.0, 575000.0, 287500.0, 350000.0, 875000.0, 425000.0, 275000.0, 325000.0, 125000.0, 1150000.0, 187500.0, 175000.0, 175000.0, 300000.0, 350000.0, 300000.0, 4000000.0, 550000.0, 1300000.0, 225000.0, 2000000.0, 450000.0, 262500.0, 1450000.0, 700000.0, 1100000.0, 150000.0, 200000.0, 275000.0, 387500.0, 300000.0, 162500.0, 650000.0, 950000.0, 650000.0, 125000.0, 575000.0, 550000.0, 500000.0, 950000.0, 800000.0, 550000.0, 2250000.0, 550000.0, 450000.0, 175000.0, 175000.0, 287500.0, 950000.0, 325000.0, 225000.0, 200000.0, 187500.0, 550000.0, 300000.0, 175000.0, 200000.0, 400000.0, 400000.0, 300000.0, 250000.0, 300000.0, 800000.0, 350000.0, 800000.0, 300000.0, 150000.0, 1500000.0, 350000.0, 325000.0, 150000.0, 312500.0, 10000.0, 2000000.0, 1100000.0, 600000.0, 187500.0, 200000.0, 175000.0, 225000.0, 587500.0, 875000.0, 262500.0, 750000.0, 15000.0, 375000.0, 250000.0, 350000.0, 450000.0, 525000.0, 1250000.0, 175000.0, 250000.0, 600000.0, 250000.0, 200000.0, 90000.0, 237500.0, 312500.0, 325000.0, 112500.0, 250000.0, 175000.0, 225000.0, 375000.0, 300000.0, 125000.0, 1450000.0, 287500.0, 400000.0, 125000.0, 225000.0, 187500.0, 325000.0, 200000.0, 225000.0, 750000.0, 287500.0, 2250000.0, 300000.0, 487500.0, 387500.0, 137500.0, 1500000.0, 350000.0, 300000.0, 500000.0, 475000.0, 112500.0, 475000.0, 900000.0, 175000.0, 850000.0, 275000.0, 1000000.0, 1900000.0, 175000.0, 550000.0, 450000.0, 225000.0, 325000.0, 312500.0, 375000.0, 150000.0, 175000.0, 150000.0, 200000.0, 375000.0, 162500.0, 90000.0, 1250000.0, 300000.0, 850000.0, 150000.0, 450000.0, 900000.0, 700000.0, 450000.0, 550000.0, 250000.0, 1350000.0, 575000.0, 400000.0, 325000.0, 150000.0, 450000.0, 250000.0, 145000.0, 300000.0, 300000.0, 350000.0, 200000.0, 400000.0, 300000.0, 500000.0, 175000.0, 300000.0, 250000.0, 150000.0, 650000.0, 225000.0, 450000.0, 500000.0, 625000.0, 412500.0, 177500.0, 275000.0, 250000.0, 500000.0, 600000.0, 437500.0, 162500.0, 350000.0, 425000.0, 250000.0, 137500.0, 75000.0, 110000.0, 212500.0, 137500.0, 75000.0, 125000.0, 250000.0, 312500.0, 950000.0, 550000.0, 550000.0, 262500.0, 550000.0, 275000.0, 512500.0, 300000.0, 475000.0, 450000.0, 950000.0, 250000.0, 1750000.0, 212500.0, 400000.0, 350000.0, 900000.0, 7500.0, 300000.0, 800000.0, 225000.0, 400000.0, 600000.0, 450000.0, 200000.0, 200000.0, 200000.0, 275000.0, 650000.0, 1300000.0, 300000.0, 475000.0, 300000.0, 175000.0, 425000.0, 225000.0, 250000.0, 262500.0, 225000.0, 237500.0, 250000.0, 300000.0, 200000.0, 1100000.0, 250000.0, 350000.0, 550000.0, 600000.0, 225000.0, 800000.0, 550000.0, 562500.0, 275000.0, 350000.0, 575000.0, 225000.0, 900000.0, 2750000.0, 1000000.0, 300000.0, 275000.0, 175000.0, 237500.0, 312500.0, 450000.0, 600000.0, 425000.0, 587500.0, 287500.0, 237500.0, 2250000.0, 300000.0, 312500.0, 337500.0, 250000.0, 450000.0, 225000.0, 137500.0, 312500.0, 1150000.0, 300000.0, 1000000.0, 237500.0, 187500.0, 300000.0, 400000.0, 112500.0, 250000.0, 1300000.0, 600000.0, 400000.0, 400000.0, 312500.0, 325000.0, 325000.0, 275000.0, 150000.0, 350000.0, 437500.0, 450000.0, 1250000.0, 1100000.0, 137500.0, 450000.0, 700000.0, 350000.0, 475000.0, 337500.0, 162500.0, 900000.0, 300000.0, 500000.0, 350000.0, 200000.0, 375000.0, 275000.0, 400000.0, 425000.0, 550000.0, 2750000.0, 287500.0, 450000.0, 1200000.0, 225000.0, 600000.0, 525000.0, 587500.0, 800000.0, 700000.0, 350000.0, 525000.0, 1500000.0, 425000.0, 400000.0, 275000.0, 950000.0, 200000.0, 200000.0, 300000.0, 550000.0, 350000.0, 825000.0, 400000.0, 287500.0, 225000.0, 700000.0, 225000.0, 500000.0, 975000.0, 287500.0, 162500.0, 500000.0, 150000.0, 750000.0, 350000.0, 975000.0, 250000.0, 425000.0, 70000.0, 250000.0, 450000.0, 400000.0, 475000.0, 250000.0, 262500.0, 1450000.0, 725000.0, 1500000.0, 3000000.0, 575000.0, 312500.0, 450000.0, 475000.0, 475000.0, 1250000.0, 162500.0, 475000.0, 300000.0, 275000.0, 425000.0, 107500.0, 675000.0, 175000.0, 75000.0, 650000.0, 437500.0, 500000.0, 525000.0, 287500.0, 2500000.0, 225000.0, 287500.0, 500000.0, 262500.0, 875000.0, 550000.0, 450000.0, 700000.0, 350000.0, 500000.0, 562500.0, 525000.0, 150000.0, 250000.0, 900000.0, 300000.0, 262500.0, 625000.0, 300000.0, 275000.0, 250000.0, 275000.0, 237500.0, 112500.0, 700000.0, 1250000.0, 187500.0, 162500.0, 175000.0, 225000.0, 250000.0, 450000.0, 550000.0, 475000.0, 550000.0, 287500.0, 10000.0, 475000.0, 250000.0, 287500.0, 275000.0, 1100000.0, 700000.0, 325000.0, 650000.0, 150000.0, 137500.0, 775000.0, 250000.0, 162500.0, 475000.0, 150000.0, 550000.0, 525000.0, 425000.0, 362500.0, 400000.0, 437500.0, 262500.0, 125000.0, 662500.0, 275000.0, 750000.0, 575000.0, 127500.0, 475000.0, 112500.0, 250000.0, 200000.0, 55000.0, 287500.0, 475000.0, 550000.0, 700000.0, 150000.0, 600000.0, 437500.0, 275000.0, 262500.0, 112500.0, 750000.0, 425000.0, 550000.0, 450000.0, 650000.0, 137500.0, 250000.0, 225000.0, 475000.0, 5000.0, 212500.0, 200000.0, 775000.0, 225000.0, 500000.0, 262500.0, 300000.0, 800000.0, 400000.0, 145000.0, 200000.0, 300000.0, 250000.0, 225000.0, 187500.0, 475000.0, 350000.0, 175000.0, 2250000.0, 1150000.0, 1075000.0, 350000.0, 450000.0, 225000.0, 850000.0, 1100000.0, 1100000.0, 237500.0, 287500.0, 2650000.0, 150000.0, 107500.0, 200000.0, 375000.0, 500000.0, 375000.0, 375000.0, 1500000.0, 100000.0, 375000.0, 375000.0, 450000.0, 275000.0, 975000.0, 1500000.0, 375000.0, 1200000.0, 375000.0, 600000.0, 60000.0, 500000.0, 550000.0, 400000.0, 650000.0, 437500.0, 300000.0, 325000.0, 1350000.0, 312500.0, 950000.0, 775000.0, 350000.0, 1700000.0, 450000.0, 1750000.0, 250000.0, 125000.0, 425000.0, 200000.0, 275000.0, 250000.0, 325000.0, 1050000.0, 325000.0, 225000.0, 1100000.0, 550000.0, 400000.0, 337500.0, 125000.0, 900000.0, 475000.0, 225000.0, 650000.0, 262500.0, 1700000.0, 225000.0, 250000.0, 300000.0, 287500.0, 225000.0, 425000.0, 125000.0, 150000.0, 212500.0, 312500.0, 300000.0, 262500.0, 300000.0, 325000.0, 300000.0, 300000.0, 325000.0, 375000.0, 1100000.0, 350000.0, 337500.0, 550000.0, 175000.0, 250000.0, 400000.0, 212500.0, 112500.0, 300000.0, 195000.0, 362500.0, 225000.0, 700000.0, 425000.0, 212500.0, 1000000.0, 300000.0, 300000.0, 550000.0, 700000.0, 325000.0, 300000.0, 1600000.0, 225000.0, 2875000.0, 375000.0, 2000000.0, 125000.0, 250000.0, 525000.0, 312500.0, 975000.0, 325000.0, 125000.0, 325000.0, 312500.0, 650000.0, 450000.0, 350000.0, 300000.0, 250000.0, 300000.0, 375000.0, 337500.0, 300000.0, 325000.0, 400000.0, 500000.0, 325000.0, 162500.0, 850000.0, 250000.0, 500000.0, 115000.0, 1250000.0, 187500.0, 350000.0, 1250000.0, 312500.0, 162500.0, 1250000.0, 3750000.0, 200000.0, 162500.0, 325000.0, 350000.0, 450000.0, 450000.0, 162500.0, 625000.0, 400000.0, 1450000.0, 750000.0, 312500.0, 350000.0, 387500.0, 950000.0, 650000.0, 350000.0, 237500.0, 375000.0, 375000.0, 2250000.0, 350000.0, 750000.0, 1000000.0, 162500.0, 400000.0, 187500.0, 237500.0, 1200000.0, 700000.0, 1050000.0, 625000.0, 300000.0, 650000.0, 325000.0, 1150000.0, 725000.0, 375000.0, 600000.0, 325000.0, 550000.0, 1200000.0, 1100000.0, 800000.0, 625000.0, 450000.0, 600000.0, 125000.0, 125000.0, 750000.0, 125000.0, 300000.0, 675000.0, 425000.0, 237500.0, 362500.0, 212500.0, 550000.0, 650000.0, 1300000.0, 550000.0, 450000.0, 575000.0, 225000.0, 412500.0, 250000.0, 137500.0, 2025000.0, 1050000.0, 300000.0, 300000.0, 287500.0, 900000.0, 550000.0, 1200000.0, 250000.0, 1150000.0, 550000.0, 325000.0, 300000.0, 350000.0, 387500.0, 425000.0, 850000.0, 312500.0, 475000.0, 3250000.0, 150000.0, 650000.0, 145000.0, 550000.0, 350000.0, 525000.0, 287500.0, 150000.0, 200000.0, 350000.0, 400000.0, 237500.0, 625000.0, 200000.0, 325000.0, 350000.0, 1000000.0, 900000.0, 950000.0, 95000.0, 1350000.0, 1100000.0, 237500.0, 475000.0, 125000.0, 1075000.0, 237500.0, 262500.0, 362500.0, 250000.0, 225000.0, 500000.0, 175000.0, 250000.0, 450000.0, 325000.0, 300000.0, 1075000.0, 175000.0, 150000.0, 1200000.0, 362500.0, 550000.0, 300000.0, 287500.0, 350000.0, 362500.0, 225000.0, 200000.0, 350000.0, 162500.0, 200000.0, 312500.0, 500000.0, 1350000.0, 350000.0, 475000.0, 750000.0, 150000.0, 2500000.0, 225000.0, 487500.0, 700000.0, 400000.0, 325000.0, 135000.0, 350000.0, 487500.0, 825000.0, 650000.0, 350000.0, 475000.0, 587500.0, 875000.0, 500000.0, 150000.0, 1000000.0, 500000.0, 250000.0, 175000.0, 950000.0, 850000.0, 287500.0, 425000.0, 237500.0, 600000.0, 175000.0, 175000.0, 400000.0, 137500.0, 500000.0, 1600000.0, 237500.0, 1700000.0, 175000.0, 55000.0, 325000.0, 550000.0, 287500.0, 187500.0, 325000.0, 425000.0, 400000.0, 375000.0, 400000.0, 350000.0, 1000000.0, 1000000.0, 200000.0, 87500.0, 1050000.0, 250000.0, 125000.0, 250000.0, 300000.0, 1000000.0, 237500.0, 237500.0, 200000.0, 150000.0, 425000.0, 400000.0, 1875000.0, 325000.0, 550000.0, 400000.0, 200000.0, 1700000.0, 450000.0, 15000.0, 137500.0, 87500.0, 650000.0, 450000.0, 1100000.0, 275000.0, 275000.0, 1150000.0, 350000.0, 150000.0, 625000.0, 450000.0, 250000.0, 1225000.0, 350000.0, 275000.0, 500000.0, 300000.0, 275000.0, 450000.0, 800000.0, 700000.0, 212500.0, 3750000.0, 125000.0, 2000000.0, 600000.0, 575000.0, 500000.0, 250000.0, 1175000.0, 350000.0, 225000.0, 175000.0, 175000.0, 262500.0, 400000.0, 287500.0, 312500.0, 375000.0, 500000.0, 400000.0, 550000.0, 225000.0, 150000.0, 475000.0, 450000.0, 225000.0, 250000.0, 600000.0, 1900000.0, 800000.0, 162500.0, 300000.0, 175000.0, 1650000.0, 125000.0, 200000.0, 112500.0, 300000.0, 375000.0, 400000.0, 450000.0, 250000.0, 525000.0, 1200000.0, 237500.0, 362500.0, 250000.0, 400000.0, 337500.0, 362500.0, 90000.0, 350000.0, 350000.0, 325000.0, 1000000.0, 700000.0, 350000.0, 137500.0, 212500.0, 300000.0, 3250000.0, 325000.0, 225000.0, 175000.0, 150000.0, 125000.0, 387500.0, 187500.0, 450000.0, 150000.0, 200000.0, 1100000.0, 165000.0, 250000.0, 375000.0, 225000.0, 212500.0, 575000.0, 2125000.0, 287500.0, 250000.0, 125000.0, 150000.0, 200000.0, 105000.0, 1150000.0, 325000.0, 212500.0, 550000.0, 500000.0, 550000.0, 350000.0, 500000.0, 375000.0, 437500.0, 225000.0, 450000.0, 225000.0, 275000.0, 225000.0, 300000.0, 375000.0, 200000.0, 725000.0, 200000.0, 262500.0, 225000.0, 575000.0, 100000.0, 512500.0, 500000.0, 850000.0, 107500.0, 550000.0, 287500.0, 200000.0, 287500.0, 362500.0, 187500.0, 262500.0, 160000.0, 412500.0, 150000.0, 550000.0, 650000.0, 112500.0, 200000.0, 550000.0, 400000.0, 200000.0, 175000.0, 300000.0, 150000.0, 300000.0, 1000000.0, 750000.0, 312500.0, 650000.0, 625000.0, 487500.0, 212500.0, 1000000.0, 187500.0, 500000.0, 225000.0, 600000.0, 500000.0, 1150000.0, 600000.0, 250000.0, 450000.0, 175000.0, 187500.0, 175000.0, 450000.0, 700000.0, 125000.0, 300000.0, 550000.0, 350000.0, 375000.0, 587500.0, 75000.0, 300000.0, 375000.0, 300000.0, 237500.0, 187500.0, 450000.0, 175000.0, 150000.0, 1800000.0, 350000.0, 512500.0, 700000.0, 600000.0, 350000.0, 700000.0, 462500.0, 337500.0, 275000.0, 2650000.0, 287500.0, 150000.0, 2750000.0, 375000.0, 1500000.0, 450000.0, 125000.0, 350000.0, 1050000.0, 325000.0, 500000.0, 325000.0, 550000.0, 600000.0, 350000.0, 450000.0, 325000.0, 162500.0, 750000.0, 175000.0, 250000.0, 387500.0, 250000.0, 127500.0, 900000.0, 250000.0, 225000.0, 475000.0, 175000.0, 450000.0, 425000.0, 250000.0, 200000.0, 250000.0, 900000.0, 262500.0, 450000.0, 437500.0, 375000.0, 212500.0, 725000.0, 250000.0, 300000.0, 400000.0, 350000.0, 800000.0, 325000.0, 250000.0, 200000.0, 2375000.0, 275000.0, 300000.0, 300000.0, 550000.0, 700000.0, 350000.0, 250000.0, 425000.0, 200000.0, 825000.0, 162500.0, 2100000.0, 700000.0, 200000.0, 450000.0, 287500.0, 200000.0, 1750000.0, 400000.0, 300000.0, 212500.0, 400000.0, 850000.0, 175000.0, 312500.0, 300000.0, 475000.0, 212500.0, 150000.0, 237500.0, 212500.0, 1700000.0, 212500.0, 425000.0, 425000.0, 350000.0, 500000.0, 825000.0, 325000.0, 550000.0, 325000.0, 600000.0, 60000.0, 2000000.0, 750000.0, 250000.0, 1000000.0, 237500.0, 350000.0, 162500.0, 350000.0, 85000.0, 950000.0, 225000.0, 10000.0, 475000.0, 400000.0, 400000.0, 162500.0, 225000.0, 237500.0, 300000.0, 450000.0, 575000.0, 425000.0, 800000.0, 125000.0, 300000.0, 225000.0, 450000.0, 362500.0, 1650000.0, 200000.0, 225000.0, 437500.0, 350000.0, 550000.0, 137500.0, 237500.0, 412500.0, 1425000.0, 287500.0, 312500.0, 200000.0, 225000.0, 225000.0, 587500.0, 55000.0, 350000.0, 500000.0, 250000.0, 350000.0, 350000.0, 350000.0, 162500.0, 150000.0, 400000.0, 225000.0, 275000.0, 825000.0, 550000.0, 325000.0, 400000.0, 387500.0, 487500.0, 450000.0, 1000000.0, 500000.0, 550000.0, 175000.0, 150000.0, 350000.0, 212500.0, 162500.0, 125000.0, 375000.0, 900000.0, 150000.0, 2150000.0, 1500000.0, 362500.0, 275000.0, 375000.0, 250000.0, 200000.0, 350000.0, 312500.0, 550000.0, 250000.0, 450000.0, 1225000.0, 325000.0, 312500.0, 300000.0, 3750000.0, 300000.0, 450000.0, 800000.0, 375000.0, 262500.0, 125000.0, 350000.0, 850000.0, 200000.0, 200000.0, 237500.0, 3625000.0, 237500.0, 300000.0, 237500.0, 425000.0, 312500.0, 625000.0, 300000.0, 1100000.0, 950000.0, 450000.0, 475000.0, 575000.0, 925000.0, 525000.0, 350000.0, 125000.0, 600000.0, 225000.0, 175000.0, 250000.0, 200000.0, 362500.0, 112500.0, 550000.0, 1000000.0, 325000.0, 450000.0, 150000.0, 212500.0, 275000.0, 350000.0, 287500.0, 400000.0, 262500.0, 450000.0, 325000.0, 275000.0, 450000.0, 175000.0, 425000.0, 450000.0, 600000.0, 400000.0, 237500.0, 325000.0, 312500.0, 187500.0, 400000.0, 275000.0, 375000.0, 1900000.0, 237500.0, 200000.0, 287500.0, 262500.0, 287500.0, 300000.0, 400000.0, 400000.0, 400000.0, 162500.0, 450000.0, 400000.0, 225000.0, 337500.0, 55000.0, 1000000.0, 450000.0, 275000.0, 850000.0, 287500.0, 1100000.0, 175000.0, 350000.0, 337500.0, 337500.0, 300000.0, 212500.0, 200000.0, 237500.0, 525000.0, 250000.0, 525000.0, 600000.0, 250000.0, 187500.0, 750000.0, 212500.0, 225000.0, 312500.0, 200000.0, 87500.0, 300000.0, 750000.0, 400000.0, 1350000.0, 125000.0, 300000.0, 350000.0, 500000.0, 500000.0, 200000.0, 275000.0, 175000.0, 750000.0, 225000.0, 250000.0, 525000.0, 350000.0, 100000.0, 337500.0, 875000.0, 700000.0, 400000.0, 400000.0, 150000.0, 162500.0, 625000.0, 512500.0, 400000.0, 300000.0, 362500.0, 650000.0, 300000.0, 1250000.0, 500000.0, 325000.0, 550000.0, 125000.0, 350000.0, 3625000.0, 225000.0, 250000.0, 625000.0, 200000.0, 1175000.0, 312500.0, 800000.0, 300000.0, 375000.0, 175000.0, 675000.0, 700000.0, 212500.0, 200000.0, 450000.0, 975000.0, 550000.0, 137500.0, 2750000.0, 2750000.0, 3000000.0, 375000.0, 200000.0, 275000.0, 212500.0, 325000.0, 2450000.0, 250000.0, 350000.0, 325000.0, 212500.0, 250000.0, 262500.0, 262500.0, 137500.0, 325000.0, 125000.0, 450000.0, 237500.0, 275000.0, 287500.0, 487500.0, 145000.0, 225000.0, 600000.0, 262500.0, 600000.0, 262500.0, 425000.0, 600000.0, 362500.0, 525000.0, 500000.0, 400000.0, 475000.0, 1200000.0, 150000.0, 550000.0, 200000.0, 425000.0, 175000.0, 425000.0, 225000.0, 1700000.0, 212500.0, 275000.0, 400000.0, 1100000.0, 400000.0, 2500000.0, 175000.0, 550000.0, 162500.0, 850000.0, 325000.0, 850000.0, 500000.0, 200000.0, 600000.0, 450000.0, 550000.0, 150000.0, 450000.0, 400000.0, 3000000.0, 450000.0, 400000.0, 212500.0, 212500.0, 375000.0, 200000.0, 650000.0, 337500.0, 250000.0, 350000.0, 350000.0, 350000.0, 187500.0, 175000.0, 325000.0, 137500.0, 375000.0, 200000.0, 125000.0, 325000.0, 325000.0, 825000.0, 600000.0, 900000.0, 200000.0, 500000.0, 312500.0, 325000.0, 450000.0, 500000.0, 575000.0, 512500.0, 262500.0, 212500.0, 275000.0, 425000.0, 1300000.0, 525000.0, 375000.0, 425000.0, 250000.0, 450000.0, 450000.0, 850000.0, 375000.0, 450000.0, 400000.0, 650000.0, 1250000.0, 90000.0, 175000.0, 625000.0, 425000.0, 275000.0, 400000.0, 350000.0, 225000.0, 675000.0, 300000.0, 150000.0, 400000.0, 450000.0, 275000.0, 300000.0, 275000.0, 800000.0, 1400000.0, 325000.0, 612500.0, 325000.0, 400000.0, 2750000.0, 237500.0, 175000.0, 187500.0, 287500.0, 325000.0, 500000.0, 300000.0, 1125000.0, 137500.0, 200000.0, 475000.0, 200000.0, 650000.0, 375000.0, 287500.0, 500000.0, 550000.0, 2200000.0, 180000.0, 1200000.0, 212500.0, 2525000.0, 400000.0, 850000.0, 262500.0, 200000.0, 2250000.0, 1750000.0, 1500000.0, 450000.0, 500000.0, 750000.0, 1000000.0, 1750000.0, 262500.0, 300000.0, 875000.0, 200000.0, 1400000.0, 350000.0, 200000.0, 262500.0, 212500.0, 275000.0, 575000.0, 150000.0, 175000.0, 500000.0, 725000.0, 102500.0, 162500.0, 450000.0, 150000.0, 150000.0, 200000.0, 300000.0, 900000.0, 237500.0, 200000.0, 3500000.0, 125000.0, 150000.0, 437500.0, 300000.0, 425000.0, 250000.0, 200000.0, 150000.0, 262500.0, 225000.0, 175000.0, 162500.0, 375000.0, 1150000.0, 1500000.0, 2250000.0, 237500.0, 675000.0, 325000.0, 575000.0, 425000.0, 300000.0, 287500.0, 375000.0, 1750000.0, 275000.0, 312500.0, 250000.0, 105000.0, 1600000.0, 550000.0, 700000.0, 800000.0, 312500.0, 275000.0, 165000.0, 200000.0, 375000.0, 200000.0, 165000.0, 262500.0, 400000.0, 200000.0, 1050000.0, 312500.0, 1500000.0, 312500.0, 1250000.0, 312500.0, 225000.0, 250000.0, 1000000.0, 200000.0, 1000000.0, 500000.0, 750000.0, 125000.0, 262500.0, 275000.0, 425000.0, 200000.0, 375000.0, 225000.0, 200000.0, 337500.0, 1200000.0, 775000.0, 425000.0, 325000.0, 650000.0, 1000000.0, 1000000.0, 262500.0, 850000.0, 300000.0, 400000.0, 900000.0, 200000.0, 900000.0, 437500.0, 375000.0, 850000.0, 400000.0, 200000.0, 200000.0, 110000.0, 375000.0, 1400000.0, 225000.0, 87500.0, 800000.0, 180000.0, 550000.0, 500000.0, 175000.0, 175000.0, 475000.0, 200000.0, 475000.0, 300000.0, 1200000.0, 750000.0, 387500.0, 375000.0, 450000.0, 475000.0, 375000.0, 300000.0, 225000.0, 262500.0, 145000.0, 2500000.0, 150000.0, 900000.0, 1050000.0, 850000.0, 500000.0, 1500000.0, 262500.0, 262500.0, 550000.0, 200000.0, 1500000.0, 325000.0, 200000.0, 125000.0, 350000.0, 775000.0, 325000.0, 1700000.0, 375000.0, 350000.0, 875000.0, 300000.0, 850000.0, 275000.0, 300000.0, 650000.0, 1200000.0, 250000.0, 1000000.0, 362500.0, 325000.0, 250000.0, 1700000.0, 225000.0, 175000.0, 350000.0, 850000.0, 1150000.0, 212500.0, 400000.0, 300000.0, 437500.0, 550000.0, 187500.0, 650000.0, 287500.0, 200000.0, 312500.0, 350000.0, 412500.0, 3500000.0, 900000.0, 1150000.0, 262500.0, 1100000.0, 1500000.0, 1700000.0, 250000.0, 362500.0, 550000.0, 137500.0, 550000.0, 425000.0, 362500.0, 1000000.0, 900000.0, 162500.0, 225000.0, 750000.0, 1000000.0, 325000.0, 375000.0, 650000.0, 162500.0, 325000.0, 350000.0, 1000000.0, 1700000.0, 150000.0, 375000.0, 1100000.0, 1150000.0, 150000.0, 2250000.0, 900000.0, 550000.0, 750000.0, 1700000.0, 900000.0, 575000.0, 450000.0, 750000.0, 337500.0, 850000.0, 325000.0, 275000.0, 150000.0, 2750000.0, 900000.0, 425000.0, 350000.0, 102500.0, 450000.0, 225000.0, 287500.0, 200000.0, 950000.0, 162500.0, 400000.0, 375000.0, 650000.0, 950000.0, 250000.0, 600000.0, 312500.0, 375000.0, 150000.0, 287500.0, 150000.0, 212500.0, 262500.0, 375000.0, 375000.0, 700000.0, 262500.0, 450000.0, 287500.0, 262500.0, 375000.0, 2500000.0, 250000.0, 375000.0, 312500.0, 287500.0, 1100000.0, 375000.0, 1400000.0, 175000.0, 1000000.0, 525000.0, 300000.0, 1900000.0, 375000.0, 550000.0, 350000.0, 950000.0, 275000.0, 1100000.0, 187500.0, 412500.0, 237500.0, 250000.0, 900000.0, 700000.0, 412500.0, 475000.0, 250000.0, 100000.0, 387500.0, 150000.0, 200000.0, 200000.0, 4750000.0, 350000.0, 650000.0, 100000.0, 15000.0, 900000.0, 450000.0, 375000.0, 400000.0, 150000.0, 162500.0, 225000.0, 750000.0, 1500000.0, 312500.0, 375000.0, 262500.0, 1050000.0, 300000.0, 300000.0, 650000.0, 950000.0, 1100000.0, 900000.0, 1000000.0, 850000.0, 1000000.0, 350000.0, 250000.0, 175000.0, 200000.0, 237500.0, 600000.0, 500000.0, 300000.0, 175000.0, 350000.0, 1200000.0, 1050000.0, 400000.0, 237500.0, 1050000.0, 262500.0, 575000.0, 850000.0, 200000.0, 200000.0, 550000.0, 1250000.0, 1000000.0, 175000.0, 150000.0, 2750000.0, 175000.0, 250000.0, 262500.0, 150000.0, 375000.0, 200000.0, 337500.0, 312500.0, 300000.0, 650000.0, 175000.0, 237500.0, 675000.0, 350000.0, 312500.0, 1000000.0, 200000.0, 175000.0, 250000.0, 400000.0, 375000.0, 500000.0, 300000.0, 1250000.0, 475000.0, 900000.0, 900000.0, 550000.0, 337500.0, 600000.0, 1000000.0, 600000.0, 350000.0, 650000.0, 500000.0, 675000.0, 275000.0, 262500.0, 900000.0, 1150000.0, 1150000.0, 375000.0, 900000.0, 1600000.0, 137500.0, 262500.0, 400000.0, 1000000.0, 250000.0, 250000.0, 850000.0, 262500.0, 162500.0, 500000.0, 150000.0, 325000.0, 625000.0, 300000.0, 375000.0, 650000.0, 850000.0, 262500.0, 225000.0, 350000.0, 150000.0, 1750000.0, 225000.0, 550000.0, 362500.0, 300000.0, 750000.0, 1750000.0, 187500.0, 675000.0, 200000.0, 650000.0, 1100000.0, 400000.0, 800000.0, 200000.0, 337500.0, 2250000.0, 150000.0, 200000.0, 425000.0, 250000.0, 275000.0, 237500.0, 450000.0, 650000.0, 375000.0, 325000.0, 425000.0, 262500.0, 180000.0, 225000.0, 200000.0, 212500.0, 187500.0, 275000.0, 312500.0, 237500.0, 1600000.0, 150000.0, 650000.0, 450000.0, 450000.0, 362500.0, 200000.0, 190000.0, 275000.0, 312500.0, 1500000.0, 1400000.0, 150000.0, 312500.0, 350000.0, 237500.0, 462500.0, 450000.0, 375000.0, 200000.0, 162500.0, 4250000.0, 175000.0, 312500.0, 325000.0, 375000.0, 150000.0, 300000.0, 187500.0, 850000.0, 262500.0, 375000.0, 212500.0, 175000.0, 200000.0, 212500.0, 212500.0, 300000.0, 500000.0, 1000000.0, 102500.0, 875000.0, 550000.0, 3500000.0, 312500.0, 275000.0, 225000.0, 350000.0, 87500.0, 95000.0, 225000.0, 325000.0, 387500.0, 275000.0, 1050000.0, 1300000.0, 325000.0, 250000.0, 437500.0, 325000.0, 300000.0, 175000.0, 2750000.0, 850000.0, 450000.0, 1200000.0, 287500.0, 450000.0, 275000.0, 200000.0, 325000.0, 400000.0, 450000.0, 450000.0, 400000.0, 187500.0, 300000.0, 162500.0, 180000.0, 350000.0, 212500.0, 375000.0, 425000.0, 187500.0, 262500.0, 187500.0, 200000.0, 237500.0, 450000.0, 175000.0, 800000.0, 375000.0, 400000.0, 312500.0, 300000.0, 1100000.0, 125000.0, 600000.0, 650000.0, 1250000.0, 225000.0, 650000.0, 1200000.0, 225000.0, 162500.0, 250000.0, 650000.0, 112500.0, 1150000.0, 1100000.0, 500000.0, 1150000.0, 150000.0, 550000.0, 312500.0, 250000.0, 450000.0, 175000.0, 1150000.0, 1300000.0, 1500000.0, 1300000.0, 1500000.0, 1500000.0, 1350000.0, 1300000.0, 1200000.0, 1500000.0, 2250000.0, 1350000.0, 1450000.0, 1500000.0, 1200000.0, 1150000.0, 1200000.0, 1050000.0, 1100000.0, 4500000.0, 2225000.0, 1500000.0, 2250000.0, 1250000.0, 2275000.0, 2250000.0, 2250000.0, 900000.0, 1900000.0, 2250000.0, 1500000.0, 1650000.0, 1250000.0, 2150000.0, 1200000.0, 1350000.0, 1000000.0, 900000.0, 1350000.0, 1875000.0, 2350000.0, 1050000.0, 1150000.0, 1150000.0, 1700000.0, 1350000.0, 1300000.0, 1750000.0, 3000000.0, 1200000.0, 1750000.0, 1000000.0, 2450000.0, 1700000.0, 1325000.0, 1450000.0, 2025000.0, 1100000.0, 1250000.0, 1100000.0, 1650000.0, 1150000.0, 1100000.0, 2000000.0, 1100000.0, 250000.0, 437500.0, 250000.0, 475000.0, 250000.0, 550000.0, 337500.0, 250000.0, 625000.0, 250000.0, 362500.0, 150000.0, 450000.0, 250000.0, 137500.0, 250000.0, 1200000.0, 700000.0, 250000.0, 700000.0, 550000.0, 250000.0, 2500000.0, 600000.0, 2650000.0, 237500.0, 250000.0, 250000.0, 425000.0, 2500000.0, 850000.0, 700000.0, 450000.0, 350000.0, 550000.0, 950000.0, 275000.0, 450000.0, 650000.0, 150000.0, 212500.0, 1150000.0, 1600000.0, 450000.0, 125000.0, 350000.0, 2250000.0, 1350000.0, 850000.0, 750000.0, 600000.0, 650000.0, 1075000.0, 1200000.0, 2000000.0, 400000.0, 1900000.0, 187500.0, 550000.0, 425000.0, 225000.0, 175000.0, 225000.0, 900000.0, 362500.0, 375000.0, 725000.0, 375000.0, 237500.0, 662500.0, 2000000.0, 300000.0, 287500.0, 250000.0, 1050000.0, 400000.0, 525000.0, 250000.0, 162500.0, 1400000.0, 1400000.0, 175000.0, 137500.0, 250000.0, 1500000.0, 600000.0, 250000.0, 750000.0, 1075000.0, 262500.0, 1500000.0, 725000.0, 950000.0, 150000.0, 275000.0, 1050000.0, 225000.0, 450000.0, 1350000.0, 462500.0, 950000.0, 450000.0, 70.0, 200000.0, 550000.0, 525000.0, 600000.0, 1250000.0, 187500.0, 500000.0, 412500.0, 237500.0, 162500.0, 950000.0, 150000.0, 400000.0, 600000.0, 75000.0, 350000.0, 750000.0, 350000.0, 1025000.0, 250000.0, 500000.0, 537500.0, 1250000.0, 325000.0, 175000.0, 3250000.0, 387500.0, 287500.0, 462500.0, 387500.0, 200000.0, 400000.0, 600000.0, 2000000.0, 250000.0, 750000.0, 250000.0, 175000.0, 350000.0, 1000000.0, 125000.0, 75000.0, 112500.0, 200000.0, 400000.0, 4500000.0, 412500.0, 175000.0, 1400000.0, 800000.0, 200000.0, 312500.0, 237500.0, 1750000.0, 112500.0, 250000.0, 162500.0, 387500.0, 150000.0, 600000.0, 10000.0, 175000.0, 300000.0, 1050000.0, 150000.0, 140000.0, 450000.0, 375000.0, 650000.0, 412500.0, 650000.0, 800000.0, 225000.0, 225000.0, 375000.0, 175000.0, 400000.0, 275000.0, 700000.0, 2000000.0, 925000.0, 450000.0, 425000.0, 237500.0, 600000.0, 200000.0, 550000.0, 412500.0, 450000.0, 1300000.0, 2625000.0, 550000.0, 110000.0, 375000.0, 450000.0, 175000.0, 475000.0, 87500.0, 97500.0, 250000.0, 325000.0, 1150000.0, 112500.0, 175000.0, 850000.0, 225000.0, 250000.0, 2000000.0, 162500.0, 2400000.0, 300000.0, 1500000.0, 212500.0, 175000.0, 700000.0, 250000.0, 1500000.0, 1100000.0, 1100000.0, 1900000.0, 250000.0, 1000000.0, 1150000.0, 900000.0, 250000.0, 2150000.0, 250000.0, 1100000.0, 1400000.0, 850000.0, 900000.0, 1500000.0, 1250000.0, 2125000.0, 2000000.0, 1700000.0, 1350000.0, 1400000.0, 1750000.0, 250000.0, 950000.0, 1400000.0, 1000000.0, 1000000.0, 2350000.0, 1000000.0, 1500000.0, 700000.0, 1100000.0, 262500.0, 2500000.0, 250000.0, 650000.0, 3000000.0, 1650000.0, 250000.0, 250000.0, 1250000.0, 1200000.0, 950000.0, 1100000.0, 250000.0, 950000.0, 1150000.0, 900000.0, 950000.0, 850000.0, 900000.0, 250000.0, 1300000.0, 250000.0, 250000.0, 237500.0, 3250000.0, 325000.0, 3000000.0, 1500000.0, 250000.0, 1250000.0, 500000.0, 2175000.0, 250000.0, 250000.0, 1000000.0, 1100000.0, 300000.0, 3000000.0, 950000.0, 250000.0, 137500.0, 2150000.0, 250000.0, 250000.0, 250000.0, 237500.0, 1100000.0, 800000.0, 237500.0, 1000000.0, 175000.0, 1100000.0, 550000.0, 1400000.0, 950000.0, 300000.0, 250000.0, 900000.0, 1550000.0, 250000.0, 125000.0, 2450000.0, 1050000.0, 900000.0, 175000.0, 325000.0, 80000.0, 300000.0, 425000.0, 425000.0, 250000.0, 1300000.0, 250000.0, 1350000.0, 1150000.0, 1250000.0, 500000.0, 850000.0, 2125000.0, 600000.0, 2000000.0, 325000.0, 2750000.0, 175000.0, 250000.0, 1100000.0, 425000.0, 1050000.0, 1400000.0, 325000.0, 900000.0, 750000.0, 1100000.0, 1500000.0, 400000.0, 400000.0, 1000000.0, 250000.0, 325000.0, 250000.0, 200000.0, 250000.0, 250000.0, 450000.0, 250000.0, 250000.0, 1400000.0, 1000000.0, 1500000.0, 1700000.0, 1050000.0, 250000.0, 250000.0, 1400000.0, 1250000.0, 250000.0, 1400000.0, 1300000.0, 2000000.0, 250000.0, 1600000.0, 250000.0, 125000.0, 350000.0, 250000.0, 250000.0, 500000.0, 250000.0, 250000.0, 800000.0, 250000.0, 1500000.0, 625000.0, 362500.0, 675000.0, 250000.0, 200000.0, 250000.0, 925000.0, 387500.0, 237500.0, 400000.0, 275000.0, 875000.0, 850000.0, 375000.0, 212500.0, 250000.0, 250000.0, 250000.0, 1400000.0, 900000.0, 312500.0, 425000.0, 1300000.0, 2000000.0, 1400000.0, 450000.0, 275000.0, 350000.0, 225000.0, 412500.0, 350000.0, 337500.0, 262500.0, 325000.0, 350000.0, 225000.0, 750000.0, 150000.0, 537500.0, 400000.0, 750000.0, 300000.0, 23750.0, 412500.0, 850000.0, 300000.0, 2000000.0, 2000000.0, 237500.0, 212500.0, 1050000.0, 1350000.0, 300000.0, 1550000.0, 325000.0, 175000.0, 225000.0, 750000.0, 550000.0, 237500.0, 400000.0, 325000.0, 450000.0, 350000.0, 312500.0, 750000.0, 287500.0, 2450000.0, 275000.0, 237500.0, 200000.0, 300000.0, 550000.0, 237500.0, 1050000.0, 237500.0, 225000.0, 650000.0, 850000.0, 425000.0, 800000.0, 350000.0, 475000.0, 325000.0, 275000.0, 450000.0, 3000000.0, 212500.0, 350000.0, 725000.0, 1950000.0, 137500.0, 275000.0, 1350000.0, 200000.0, 700000.0, 250000.0, 1700000.0, 1350000.0, 200000.0, 275000.0, 90000.0, 500000.0, 312500.0, 237500.0, 725000.0, 1000000.0, 950000.0, 1400000.0, 1400000.0, 2250000.0, 2150000.0, 2350000.0, 875000.0, 1400000.0, 600000.0, 1200000.0, 2200000.0, 1250000.0, 250000.0, 1300000.0, 3000000.0, 2200000.0, 250000.0, 1300000.0, 250000.0, 900000.0, 3250000.0, 850000.0, 6000000.0, 1650000.0, 1650000.0, 2000000.0, 850000.0, 1650000.0, 1750000.0, 337500.0, 1250000.0, 250000.0, 250000.0, 1150000.0, 1500000.0, 1350000.0, 900000.0, 1400000.0, 1650000.0, 1300000.0, 250000.0, 250000.0, 2350000.0, 250000.0, 2100000.0, 550000.0, 250000.0, 2300000.0, 1050000.0, 1300000.0, 1650000.0, 1600000.0, 250000.0, 1450000.0, 1350000.0, 2000000.0, 2250000.0, 1100000.0, 1300000.0, 1200000.0, 1750000.0, 850000.0, 2250000.0, 3625000.0, 1500000.0, 1500000.0, 1700000.0, 1300000.0, 525000.0, 1250000.0, 1250000.0, 1100000.0, 600000.0, 1600000.0, 1200000.0, 900000.0, 1350000.0, 1200000.0, 350000.0, 1000000.0, 2025000.0, 1550000.0, 550000.0, 2400000.0, 950000.0, 1050000.0, 3250000.0, 850000.0, 3750000.0, 1250000.0, 1450000.0, 1250000.0, 300000.0, 1500000.0, 650000.0, 1750000.0, 550000.0, 275000.0, 300000.0, 337500.0, 150000.0, 375000.0, 275000.0, 175000.0, 200000.0, 162500.0, 1175000.0, 400000.0, 1150000.0, 175000.0, 287500.0, 350000.0, 300000.0, 137500.0, 175000.0, 1100000.0, 125000.0, 175000.0, 175000.0, 375000.0, 375000.0, 250000.0, 250000.0, 400000.0, 137500.0, 337500.0, 675000.0, 1100000.0, 275000.0, 250000.0, 400000.0, 300000.0, 650000.0, 350000.0, 2550000.0, 75000.0, 850000.0, 300000.0, 150000.0, 300000.0, 200000.0, 1500000.0, 3250000.0, 375000.0, 550000.0, 1225000.0, 375000.0, 200000.0, 387500.0, 550000.0, 375000.0, 375000.0, 275000.0, 500000.0, 170000.0, 175000.0, 4000000.0, 1400000.0, 350000.0, 375000.0, 525000.0, 1050000.0, 375000.0, 375000.0, 1100000.0, 237500.0, 1600000.0, 375000.0, 300000.0, 275000.0, 850000.0, 275000.0, 350000.0, 700000.0, 125000.0, 1000000.0, 412500.0, 300000.0, 12500.0, 362500.0, 162500.0, 850000.0, 400000.0, 450000.0, 650000.0, 1900000.0, 1500000.0, 275000.0, 900000.0, 1150000.0, 1700000.0, 500000.0, 1400000.0, 800000.0, 875000.0, 1100000.0, 2250000.0, 1450000.0, 1300000.0, 1875000.0, 200000.0, 1150000.0, 650000.0, 450000.0, 850000.0, 950000.0, 750000.0, 850000.0, 800000.0, 350000.0, 500000.0, 175000.0, 1000000.0, 275000.0, 145000.0, 2250000.0, 150000.0, 162500.0, 175000.0, 650000.0, 150000.0, 375000.0, 2625000.0, 125000.0, 300000.0, 200000.0, 300000.0, 150000.0, 125000.0, 125000.0, 75000.0, 112500.0, 3125000.0, 125000.0, 650000.0, 550000.0, 350000.0, 1100000.0, 500000.0, 80000.0, 600000.0, 65000.0, 1000000.0, 362500.0, 162500.0, 650000.0, 400000.0, 450000.0, 237500.0, 850000.0, 650000.0, 1100000.0, 450000.0, 1300000.0, 750000.0, 575000.0, 212500.0, 500000.0, 3500000.0, 475000.0, 550000.0, 600000.0, 75000.0, 200000.0, 450000.0, 325000.0, 362500.0, 175000.0, 1200000.0, 3000000.0, 175000.0, 212500.0, 212500.0, 550000.0, 800000.0, 212500.0, 300000.0, 550000.0, 1100000.0, 850000.0, 212500.0, 13750.0, 900000.0, 325000.0, 1200000.0, 200000.0, 350000.0, 412500.0, 250000.0, 1500000.0, 400000.0, 475000.0, 575000.0, 487500.0, 350000.0, 200000.0, 650000.0, 187500.0, 850000.0, 375000.0, 325000.0, 312500.0, 300000.0, 362500.0, 625000.0, 162500.0, 250000.0, 60000.0, 562500.0, 175000.0, 1400000.0, 500000.0, 475000.0, 300000.0, 225000.0, 362500.0, 350000.0, 1200000.0, 275000.0, 500000.0, 450000.0, 350000.0, 925000.0, 312500.0, 500000.0, 175000.0, 275000.0, 337500.0, 75000.0, 437500.0, 1050000.0, 400000.0, 750000.0, 300000.0, 550000.0, 1200000.0, 75000.0, 450000.0, 550000.0, 12500.0, 212500.0, 350000.0, 1250000.0, 387500.0, 162500.0, 300000.0, 300000.0, 162500.0, 237500.0, 1050000.0, 300000.0, 450000.0, 1600000.0, 312500.0, 375000.0, 175000.0, 550000.0, 150000.0, 400000.0, 387500.0, 287500.0, 125000.0, 300000.0, 600000.0, 175000.0, 225000.0, 275000.0, 400000.0, 162500.0, 1250000.0, 525000.0, 200000.0, 250000.0, 550000.0, 225000.0, 1500000.0, 1050000.0, 1300000.0, 100000.0, 250000.0, 225000.0, 450000.0, 3500000.0, 400000.0, 150000.0, 225000.0, 350000.0, 212500.0, 250000.0, 187500.0, 750000.0, 1100000.0, 337500.0, 137500.0, 350000.0, 1300000.0, 225000.0, 1100000.0, 262500.0, 950000.0, 312500.0, 325000.0, 312500.0, 475000.0, 325000.0, 400000.0, 250000.0, 312500.0, 450000.0, 800000.0, 225000.0, 600000.0, 275000.0, 725000.0, 287500.0, 1300000.0, 350000.0, 1300000.0, 300000.0, 175000.0, 2750000.0, 287500.0, 212500.0, 2250000.0, 162500.0, 450000.0, 175000.0, 1000000.0, 387500.0, 160000.0, 225000.0, 650000.0, 450000.0, 275000.0, 400000.0, 225000.0, 400000.0, 550000.0, 350000.0, 1000000.0, 512500.0, 1000000.0, 3250000.0, 450000.0, 55000.0, 750000.0, 1150000.0, 375000.0, 1050000.0, 900000.0, 700000.0, 600000.0, 2750000.0, 112500.0, 1000000.0, 387500.0, 175000.0, 1600000.0, 900000.0, 287500.0, 150000.0, 325000.0, 600000.0, 1750000.0, 212500.0, 150000.0, 250000.0, 337500.0, 400000.0, 1250000.0, 575000.0, 150000.0, 425000.0, 1750000.0, 450000.0, 1700000.0, 225000.0, 212500.0, 225000.0, 550000.0, 550000.0, 750000.0, 287500.0, 162500.0, 1100000.0, 287500.0, 3500000.0, 137500.0, 275000.0, 250000.0, 900000.0, 125000.0, 500000.0, 700000.0, 250000.0, 450000.0, 375000.0, 375000.0, 925000.0, 137500.0, 400000.0, 125000.0, 350000.0, 3375000.0, 2400000.0, 1100000.0, 700000.0, 237500.0, 550000.0, 262500.0, 300000.0, 200000.0, 350000.0, 450000.0, 300000.0, 87500.0, 3125000.0, 500000.0, 287500.0, 312500.0, 400000.0, 200000.0, 162500.0, 1150000.0, 287500.0, 575000.0, 900000.0, 450000.0, 300000.0, 1300000.0, 1200000.0, 1500000.0, 387500.0, 850000.0, 350000.0, 400000.0, 650000.0, 300000.0, 1550000.0, 250000.0, 350000.0, 1200000.0, 350000.0, 175000.0, 650000.0, 325000.0, 250000.0, 400000.0, 300000.0, 337500.0, 350000.0, 412500.0, 150000.0, 337500.0, 350000.0, 350000.0, 162500.0, 1300000.0, 2375000.0, 275000.0, 875000.0, 450000.0, 275000.0, 350000.0, 1500000.0, 300000.0, 500000.0, 125000.0, 1000000.0, 1300000.0, 250000.0, 450000.0, 400000.0, 400000.0, 312500.0, 375000.0, 1450000.0, 1000000.0, 350000.0, 300000.0, 400000.0, 112500.0, 275000.0, 900000.0, 350000.0, 1900000.0, 550000.0, 1500000.0, 4500000.0, 550000.0, 3250000.0, 237500.0, 1050000.0, 262500.0, 175000.0, 12500.0, 500000.0, 250000.0, 300000.0, 350000.0, 400000.0, 725000.0, 550000.0, 1000000.0, 1200000.0, 187500.0, 700000.0, 1500000.0, 950000.0, 337500.0, 237500.0, 175000.0, 750000.0, 200000.0, 225000.0, 137500.0, 375000.0, 187500.0, 650000.0, 650000.0, 700000.0, 125000.0, 325000.0, 800000.0, 187500.0, 3000.0, 750000.0, 400000.0, 137500.0, 250000.0, 137500.0, 175000.0, 1100000.0, 300000.0, 250000.0, 1000000.0, 550000.0, 500000.0, 130000.0, 900000.0, 225000.0, 275000.0, 550000.0, 250000.0, 250000.0, 250000.0, 800000.0, 400000.0, 125000.0, 400000.0, 1200000.0, 250000.0, 212500.0, 165000.0, 237500.0, 500000.0, 375000.0, 1300000.0, 900000.0, 250000.0, 250000.0, 450000.0, 325000.0, 400000.0, 400000.0, 675000.0, 250000.0, 300000.0, 400000.0, 500000.0, 187500.0, 550000.0, 900000.0, 400000.0, 3000000.0, 337500.0, 120000.0, 850000.0, 400000.0, 175000.0, 450000.0, 225000.0, 337500.0, 475000.0, 1150000.0, 200000.0, 212500.0, 700000.0, 900000.0, 287500.0, 400000.0, 112500.0, 2875000.0, 300000.0, 800000.0, 200000.0, 575000.0, 300000.0, 12500.0, 212500.0, 512500.0, 187500.0, 55000.0, 1400000.0, 300000.0, 250000.0, 337500.0, 275000.0, 900000.0, 350000.0, 1400000.0, 250000.0, 80000.0, 500000.0, 1600000.0, 387500.0, 550000.0, 212500.0, 200000.0, 262500.0, 337500.0, 175000.0, 275000.0, 250000.0, 450000.0, 300000.0, 350000.0, 800000.0, 475000.0, 300000.0, 2250000.0, 700000.0, 212500.0, 400000.0, 150000.0, 300000.0, 400000.0, 400000.0, 250000.0, 487500.0, 900000.0, 475000.0, 187500.0, 1100000.0, 500000.0, 350000.0, 175000.0, 650000.0, 400000.0, 375000.0, 237500.0, 950000.0, 80000.0, 1000000.0, 350000.0, 225000.0, 350000.0, 212500.0, 112500.0, 212500.0, 750000.0, 800000.0, 250000.0, 250000.0, 200000.0, 1900000.0, 212500.0, 1400000.0, 850000.0, 250000.0, 180000.0, 350000.0, 250000.0, 250000.0, 212500.0, 1000000.0, 300000.0, 425000.0, 337500.0, 550000.0, 600000.0, 675000.0, 1450000.0, 287500.0, 137500.0, 175000.0, 500000.0, 650000.0, 175000.0, 500000.0, 12500.0, 300000.0, 550000.0, 287500.0, 600000.0, 1050000.0, 700000.0, 250000.0, 287500.0, 250000.0, 1350000.0, 175000.0, 550000.0, 400000.0, 425000.0, 287500.0, 275000.0, 1500000.0, 1250000.0, 1450000.0, 2625000.0, 1400000.0, 1300000.0, 1450000.0, 1500000.0, 1300000.0, 3500000.0, 1500000.0, 1650000.0, 1500000.0, 1300000.0, 425000.0, 1350000.0, 2250000.0, 5500000.0, 1300000.0, 312500.0, 1250000.0, 1500000.0, 1700000.0, 1600000.0, 2250000.0, 1875000.0, 1500000.0, 1200000.0, 1975000.0, 175000.0, 1500000.0, 1500000.0, 1300000.0, 1000000.0, 1100000.0, 1550000.0, 1000000.0, 350000.0, 70000.0, 1100000.0, 1700000.0, 1100000.0, 1025000.0, 1100000.0, 1050000.0, 1250000.0, 2625000.0, 1200000.0, 1500000.0, 1500000.0, 1750000.0, 1250000.0, 1600000.0, 1300000.0, 1350000.0, 2625000.0, 4250000.0, 1700000.0, 850000.0, 1500000.0, 1500000.0, 2250000.0, 1125000.0, 1700000.0]\n"
     ]
    }
   ],
   "source": [
    "print(average_data)"
   ]
  },
  {
   "cell_type": "code",
   "execution_count": 49,
   "metadata": {},
   "outputs": [
    {
     "name": "stdout",
     "output_type": "stream",
     "text": [
      "4650\n"
     ]
    }
   ],
   "source": [
    "print(len(average_data))\n",
    "#df_class1\n",
    "#print(newer_index_numbers)"
   ]
  },
  {
   "cell_type": "code",
   "execution_count": 50,
   "metadata": {},
   "outputs": [
    {
     "data": {
      "text/html": [
       "<div>\n",
       "<style>\n",
       "    .dataframe thead tr:only-child th {\n",
       "        text-align: right;\n",
       "    }\n",
       "\n",
       "    .dataframe thead th {\n",
       "        text-align: left;\n",
       "    }\n",
       "\n",
       "    .dataframe tbody tr th {\n",
       "        vertical-align: top;\n",
       "    }\n",
       "</style>\n",
       "<table border=\"1\" class=\"dataframe\">\n",
       "  <thead>\n",
       "    <tr style=\"text-align: right;\">\n",
       "      <th></th>\n",
       "      <th>payrate</th>\n",
       "    </tr>\n",
       "  </thead>\n",
       "  <tbody>\n",
       "    <tr>\n",
       "      <th>0</th>\n",
       "      <td>187500.0</td>\n",
       "    </tr>\n",
       "    <tr>\n",
       "      <th>1</th>\n",
       "      <td>200000.0</td>\n",
       "    </tr>\n",
       "    <tr>\n",
       "      <th>6</th>\n",
       "      <td>475000.0</td>\n",
       "    </tr>\n",
       "    <tr>\n",
       "      <th>8</th>\n",
       "      <td>150000.0</td>\n",
       "    </tr>\n",
       "    <tr>\n",
       "      <th>12</th>\n",
       "      <td>212500.0</td>\n",
       "    </tr>\n",
       "  </tbody>\n",
       "</table>\n",
       "</div>"
      ],
      "text/plain": [
       "     payrate\n",
       "0   187500.0\n",
       "1   200000.0\n",
       "6   475000.0\n",
       "8   150000.0\n",
       "12  212500.0"
      ]
     },
     "execution_count": 50,
     "metadata": {},
     "output_type": "execute_result"
    }
   ],
   "source": [
    "d = {'payrate' : average_data}\n",
    "df2 = pd.DataFrame(data=d, index= newer_index_numbers)\n",
    "df10 = pd.DataFrame(data=d, index= newer_index_numbers)\n",
    "df2.head()"
   ]
  },
  {
   "cell_type": "code",
   "execution_count": 51,
   "metadata": {
    "collapsed": true
   },
   "outputs": [],
   "source": [
    "df2['industry'] = df_class1['industry']"
   ]
  },
  {
   "cell_type": "code",
   "execution_count": 52,
   "metadata": {},
   "outputs": [
    {
     "data": {
      "text/html": [
       "<div>\n",
       "<style>\n",
       "    .dataframe thead tr:only-child th {\n",
       "        text-align: right;\n",
       "    }\n",
       "\n",
       "    .dataframe thead th {\n",
       "        text-align: left;\n",
       "    }\n",
       "\n",
       "    .dataframe tbody tr th {\n",
       "        vertical-align: top;\n",
       "    }\n",
       "</style>\n",
       "<table border=\"1\" class=\"dataframe\">\n",
       "  <thead>\n",
       "    <tr style=\"text-align: right;\">\n",
       "      <th></th>\n",
       "      <th>payrate</th>\n",
       "      <th>industry</th>\n",
       "    </tr>\n",
       "  </thead>\n",
       "  <tbody>\n",
       "    <tr>\n",
       "      <th>0</th>\n",
       "      <td>187500.0</td>\n",
       "      <td>Media / Entertainment / Internet0 - 1 yrs</td>\n",
       "    </tr>\n",
       "    <tr>\n",
       "      <th>1</th>\n",
       "      <td>200000.0</td>\n",
       "      <td>Advertising / PR / MR / Event Management0 - 0 yrs</td>\n",
       "    </tr>\n",
       "    <tr>\n",
       "      <th>6</th>\n",
       "      <td>475000.0</td>\n",
       "      <td>IT-Software / Software Services1 - 3 yrs</td>\n",
       "    </tr>\n",
       "    <tr>\n",
       "      <th>8</th>\n",
       "      <td>150000.0</td>\n",
       "      <td>Industrial Products / Heavy Machinery1 - 3 yrs</td>\n",
       "    </tr>\n",
       "    <tr>\n",
       "      <th>12</th>\n",
       "      <td>212500.0</td>\n",
       "      <td>IT-Software / Software Services2 - 4 yrs</td>\n",
       "    </tr>\n",
       "  </tbody>\n",
       "</table>\n",
       "</div>"
      ],
      "text/plain": [
       "     payrate                                           industry\n",
       "0   187500.0          Media / Entertainment / Internet0 - 1 yrs\n",
       "1   200000.0  Advertising / PR / MR / Event Management0 - 0 yrs\n",
       "6   475000.0           IT-Software / Software Services1 - 3 yrs\n",
       "8   150000.0     Industrial Products / Heavy Machinery1 - 3 yrs\n",
       "12  212500.0           IT-Software / Software Services2 - 4 yrs"
      ]
     },
     "execution_count": 52,
     "metadata": {},
     "output_type": "execute_result"
    }
   ],
   "source": [
    "df10['industry'] = df9\n",
    "df10.head()"
   ]
  },
  {
   "cell_type": "code",
   "execution_count": 53,
   "metadata": {},
   "outputs": [
    {
     "data": {
      "text/html": [
       "<div>\n",
       "<style>\n",
       "    .dataframe thead tr:only-child th {\n",
       "        text-align: right;\n",
       "    }\n",
       "\n",
       "    .dataframe thead th {\n",
       "        text-align: left;\n",
       "    }\n",
       "\n",
       "    .dataframe tbody tr th {\n",
       "        vertical-align: top;\n",
       "    }\n",
       "</style>\n",
       "<table border=\"1\" class=\"dataframe\">\n",
       "  <thead>\n",
       "    <tr style=\"text-align: right;\">\n",
       "      <th></th>\n",
       "      <th>payrate</th>\n",
       "      <th>industry</th>\n",
       "    </tr>\n",
       "  </thead>\n",
       "  <tbody>\n",
       "    <tr>\n",
       "      <th>0</th>\n",
       "      <td>187500.0</td>\n",
       "      <td>Media / Entertainment / Internet</td>\n",
       "    </tr>\n",
       "    <tr>\n",
       "      <th>1</th>\n",
       "      <td>200000.0</td>\n",
       "      <td>Advertising / PR / MR / Event Management</td>\n",
       "    </tr>\n",
       "    <tr>\n",
       "      <th>6</th>\n",
       "      <td>475000.0</td>\n",
       "      <td>IT-Software / Software Services</td>\n",
       "    </tr>\n",
       "    <tr>\n",
       "      <th>8</th>\n",
       "      <td>150000.0</td>\n",
       "      <td>Industrial Products / Heavy Machinery</td>\n",
       "    </tr>\n",
       "    <tr>\n",
       "      <th>12</th>\n",
       "      <td>212500.0</td>\n",
       "      <td>IT-Software / Software Services</td>\n",
       "    </tr>\n",
       "  </tbody>\n",
       "</table>\n",
       "</div>"
      ],
      "text/plain": [
       "     payrate                                  industry\n",
       "0   187500.0          Media / Entertainment / Internet\n",
       "1   200000.0  Advertising / PR / MR / Event Management\n",
       "6   475000.0           IT-Software / Software Services\n",
       "8   150000.0     Industrial Products / Heavy Machinery\n",
       "12  212500.0           IT-Software / Software Services"
      ]
     },
     "execution_count": 53,
     "metadata": {},
     "output_type": "execute_result"
    }
   ],
   "source": [
    "df2.head()"
   ]
  },
  {
   "cell_type": "code",
   "execution_count": 54,
   "metadata": {},
   "outputs": [
    {
     "data": {
      "text/plain": [
       "0             Media / Entertainment / Internet\n",
       "1     Advertising / PR / MR / Event Management\n",
       "6              IT-Software / Software Services\n",
       "8        Industrial Products / Heavy Machinery\n",
       "12             IT-Software / Software Services\n",
       "16                      Recruitment / Staffing\n",
       "17             IT-Software / Software Services\n",
       "22       Industrial Products / Heavy Machinery\n",
       "26      Banking / Financial Services / Broking\n",
       "27                        Internet / Ecommerce\n",
       "Name: industry, dtype: object"
      ]
     },
     "execution_count": 54,
     "metadata": {},
     "output_type": "execute_result"
    }
   ],
   "source": [
    "df_class1.industry.head(10)"
   ]
  },
  {
   "cell_type": "code",
   "execution_count": 55,
   "metadata": {
    "collapsed": true
   },
   "outputs": [],
   "source": [
    "#df_class1.drop()\n",
    "#df_class1[df_class1.industry == 'IT-Software / Software Services']"
   ]
  },
  {
   "cell_type": "markdown",
   "metadata": {},
   "source": [
    "df_class1['industry'] "
   ]
  },
  {
   "cell_type": "code",
   "execution_count": 56,
   "metadata": {},
   "outputs": [
    {
     "data": {
      "text/plain": [
       "0     187500.0\n",
       "1     200000.0\n",
       "6     475000.0\n",
       "8     150000.0\n",
       "12    212500.0\n",
       "Name: payrate, dtype: float64"
      ]
     },
     "execution_count": 56,
     "metadata": {},
     "output_type": "execute_result"
    }
   ],
   "source": [
    "#train_x = pandas.get_dummies(test[cols])\n",
    "X = df2.industry\n",
    "y = df2.payrate\n",
    "#X.head()\n",
    "y.head()"
   ]
  },
  {
   "cell_type": "code",
   "execution_count": 57,
   "metadata": {
    "collapsed": true
   },
   "outputs": [],
   "source": [
    "#X.value_counts()\n",
    "#P =df.industry\n"
   ]
  },
  {
   "cell_type": "code",
   "execution_count": 58,
   "metadata": {
    "collapsed": true
   },
   "outputs": [],
   "source": [
    "#y.head(20)\n",
    "#df_class1['industry'].apply(lambda row: row.astype(str).str.contains('IT-Software / Software Services').any())\n",
    "from sklearn.model_selection import train_test_split\n",
    "X_train, X_test, y_train, y_test = train_test_split(X, y, test_size=0.30, random_state=42)\n",
    "\n"
   ]
  },
  {
   "cell_type": "code",
   "execution_count": 59,
   "metadata": {},
   "outputs": [
    {
     "name": "stdout",
     "output_type": "stream",
     "text": [
      "7388                       IT-Software / Software Services\n",
      "908                           Semiconductors / Electronics\n",
      "113                       Medical / Healthcare / Hospitals\n",
      "9201                              IT-Hardware & Networking\n",
      "1438                      Medical / Healthcare / Hospitals\n",
      "7471                              BPO / Call Centre / ITES\n",
      "2915                       IT-Software / Software Services\n",
      "7899                       IT-Software / Software Services\n",
      "15383                              FMCG / Foods / Beverage\n",
      "1536                       Education / Teaching / Training\n",
      "1280                       IT-Software / Software Services\n",
      "8631                      Medical / Healthcare / Hospitals\n",
      "191                               BPO / Call Centre / ITES\n",
      "585                                 Real Estate / Property\n",
      "4733          Construction / Engineering / Cement / Metals\n",
      "4186                Banking / Financial Services / Broking\n",
      "10253                             BPO / Call Centre / ITES\n",
      "9713                              BPO / Call Centre / ITES\n",
      "8502                                                 Other\n",
      "15216                             BPO / Call Centre / ITES\n",
      "5214                Banking / Financial Services / Broking\n",
      "3674                       IT-Software / Software Services\n",
      "20296                                 Internet / Ecommerce\n",
      "14408                             BPO / Call Centre / ITES\n",
      "5092                              BPO / Call Centre / ITES\n",
      "1263                              BPO / Call Centre / ITES\n",
      "10757                             BPO / Call Centre / ITES\n",
      "15376                             BPO / Call Centre / ITES\n",
      "20871                      IT-Software / Software Services\n",
      "622                               BPO / Call Centre / ITES\n",
      "                               ...                        \n",
      "10488                      IT-Software / Software Services\n",
      "9506                Banking / Financial Services / Broking\n",
      "4551                              IT-Hardware & Networking\n",
      "15851                      IT-Software / Software Services\n",
      "847                                     Retail / Wholesale\n",
      "9645                                                 Other\n",
      "5162                       IT-Software / Software Services\n",
      "8684     Travel / Hotels / Restaurants / Airlines / Rai...\n",
      "14392        Automobile / Auto Anciliary / Auto Components\n",
      "9565                       IT-Software / Software Services\n",
      "4122                       IT-Software / Software Services\n",
      "10607        Automobile / Auto Anciliary / Auto Components\n",
      "4549                                         Telecom/ISP /\n",
      "8913                                       Export / Import\n",
      "10269                      IT-Software / Software Services\n",
      "4520                      Medical / Healthcare / Hospitals\n",
      "13928               Banking / Financial Services / Broking\n",
      "1100                              BPO / Call Centre / ITES\n",
      "10386                Industrial Products / Heavy Machinery\n",
      "17                         IT-Software / Software Services\n",
      "3961                              BPO / Call Centre / ITES\n",
      "1166     Travel / Hotels / Restaurants / Airlines / Rai...\n",
      "4730         Automobile / Auto Anciliary / Auto Components\n",
      "21065                 Wellness / Fitness / Sports / Beauty\n",
      "4984                             Electricals / Switchgears\n",
      "7892                       IT-Software / Software Services\n",
      "20936                 Pharma / Biotech / Clinical Research\n",
      "21516                                          Telecom/ISP\n",
      "20587             Advertising / PR / MR / Event Management\n",
      "8911                          Semiconductors / Electronics\n",
      "Name: industry, Length: 1395, dtype: object\n"
     ]
    }
   ],
   "source": [
    "#X = pandas.get_dummies(test[cols])\n",
    "\n",
    "'''\n",
    "from sklearn.preprocessing import MinMaxScaler,PolynomialFeatures\n",
    "\n",
    "if addpoly:\n",
    "    all_data = pd.concat((X_train,\n",
    "                          X_test), ignore_index=True)\n",
    "\n",
    "    scaler = MinMaxScaler()\n",
    "    scaler.fit(all_data)\n",
    "    all_data=scaler.transform(all_data)\n",
    "    poly = PolynomialFeatures(2)\n",
    "    all_data=poly.fit_transform(all_data)\n",
    "\n",
    "    X_train = all_data[:train_dataset.shape[0]]\n",
    "    X_test = all_data[train_dataset.shape[0]:]\n",
    "    ##\n",
    "    print(X_train.shape)\n",
    "    print(Y_train.shape)\n",
    "    print(X_test.shape)\n",
    " '''\n",
    "\n",
    "#print(X_train)\n",
    "print(X_test)"
   ]
  },
  {
   "cell_type": "code",
   "execution_count": 60,
   "metadata": {},
   "outputs": [
    {
     "data": {
      "text/plain": [
       "['Accounting / Finance',\n",
       " 'Advertising / PR / MR / Event Management',\n",
       " 'Agriculture / Dairy',\n",
       " 'Animation / Gaming',\n",
       " 'Architecture / Interior Design',\n",
       " 'Automobile / Auto Anciliary / Auto Components',\n",
       " 'Aviation / Aerospace Firms',\n",
       " 'BPO / Call Centre / ITES',\n",
       " 'Banking / Financial Services / Broking',\n",
       " 'Brewery / Distillery',\n",
       " 'Ceramics / Sanitary ware',\n",
       " 'Chemicals / PetroChemical / Plastic / Rubber',\n",
       " 'Construction / Engineering / Cement / Metals',\n",
       " 'Consumer Electronics / Appliances / Durables',\n",
       " 'Courier / Transportation / Freight / Warehousing',\n",
       " 'Education / Teaching / Training',\n",
       " 'Electricals / Switchgears',\n",
       " 'Export / Import',\n",
       " 'FMCG / Foods / Beverage',\n",
       " 'Facility Management',\n",
       " 'Fertilizers / Pesticides',\n",
       " 'Food Processing',\n",
       " 'Fresher / Trainee / Entry Level',\n",
       " 'Gems / Jewellery',\n",
       " 'Glass / Glassware',\n",
       " 'Government / Defence',\n",
       " 'Heat Ventilation / Air Conditioning',\n",
       " 'IT-Hardware & Networking',\n",
       " 'IT-Software / Software Services',\n",
       " 'Industrial Products / Heavy Machinery',\n",
       " 'Insurance',\n",
       " 'Internet / Ecommerce',\n",
       " 'Iron and Steel',\n",
       " 'KPO / Research / Analytics',\n",
       " 'Legal',\n",
       " 'Media / Entertainment / Internet',\n",
       " 'Medical / Healthcare / Hospitals',\n",
       " 'Medical Devices / Equipments',\n",
       " 'NGO / Social Services / Regulators / Industry Associations',\n",
       " 'Office Equipment / Automation',\n",
       " 'Oil and Gas / Energy / Power / Infrastructure',\n",
       " 'Other',\n",
       " 'Pharma / Biotech / Clinical Research',\n",
       " 'Printing / Packaging',\n",
       " 'Publishing',\n",
       " 'Pulp and Paper',\n",
       " 'Real Estate / Property',\n",
       " 'Recruitment / Staffing',\n",
       " 'Retail / Wholesale',\n",
       " 'Security / Law Enforcement',\n",
       " 'Semiconductors / Electronics',\n",
       " 'Shipping / Marine',\n",
       " 'Strategy / Management Consulting Firms',\n",
       " 'Telecom/ISP',\n",
       " 'Telecom/ISP /',\n",
       " 'Textiles / Garments / Accessories',\n",
       " 'Travel / Hotels / Restaurants / Airlines / Railways',\n",
       " 'Water Treatment / Waste Management',\n",
       " 'Wellness / Fitness / Sports',\n",
       " 'Wellness / Fitness / Sports / Beauty']"
      ]
     },
     "execution_count": 60,
     "metadata": {},
     "output_type": "execute_result"
    }
   ],
   "source": [
    "#from sklearn.preprocessing import LabelEncoder\n",
    "from sklearn import preprocessing\n",
    "le = preprocessing.LabelEncoder()\n",
    "le.fit(X_train)\n",
    "list(le.classes_)"
   ]
  },
  {
   "cell_type": "code",
   "execution_count": 61,
   "metadata": {},
   "outputs": [
    {
     "data": {
      "text/plain": [
       "array([48,  5, 28, ..., 28, 40, 51], dtype=int64)"
      ]
     },
     "execution_count": 61,
     "metadata": {},
     "output_type": "execute_result"
    }
   ],
   "source": [
    "le.transform(X_train)"
   ]
  },
  {
   "cell_type": "code",
   "execution_count": 62,
   "metadata": {},
   "outputs": [
    {
     "data": {
      "text/plain": [
       "array([27, 47, 35, ..., 50,  1, 47], dtype=int64)"
      ]
     },
     "execution_count": 62,
     "metadata": {},
     "output_type": "execute_result"
    }
   ],
   "source": [
    "le.fit(X_test)\n",
    "le.transform(X_test)"
   ]
  },
  {
   "cell_type": "code",
   "execution_count": 63,
   "metadata": {
    "collapsed": true
   },
   "outputs": [],
   "source": [
    "from sklearn.svm import LinearSVC, SVC\n",
    "from sklearn.datasets import make_classification\n",
    "X_train, y_train = make_classification()\n",
    "clf = LinearSVC(multi_class = 'crammer_singer')\n",
    "clf.fit(X_train, y_train)\n",
    "\n",
    "X_test, y_test = make_classification()\n",
    "#clf = LinearSVC(multi_class = 'crammer_singer')\n",
    "#clf.fit(X_test, y_test)\n"
   ]
  },
  {
   "cell_type": "code",
   "execution_count": 64,
   "metadata": {},
   "outputs": [
    {
     "name": "stdout",
     "output_type": "stream",
     "text": [
      "[[ 0.25894283 -0.62320634  0.03161541  0.01963763 -0.11272562  0.02930892\n",
      "   0.3755476   0.49561562  0.95516931  1.01161591 -0.4494093   0.06013213\n",
      "   1.0784142  -0.07539668 -0.40462634  0.17083577 -0.48730051  0.47460126\n",
      "   0.01610586  2.65926451]]\n",
      "[ 0.86736131]\n"
     ]
    }
   ],
   "source": [
    "print(clf.coef_)\n",
    "print(clf.intercept_)"
   ]
  },
  {
   "cell_type": "code",
   "execution_count": 65,
   "metadata": {},
   "outputs": [
    {
     "data": {
      "text/plain": [
       "array([0, 0, 1, 0, 1, 1, 0, 0, 1, 1, 0, 1, 1, 1, 0, 1, 1, 1, 0, 1, 1, 1, 1,\n",
       "       0, 0, 0, 1, 0, 1, 0, 1, 0, 1, 0, 1, 0, 0, 0, 0, 1, 0, 1, 1, 1, 1, 1,\n",
       "       1, 1, 0, 1, 0, 0, 1, 1, 1, 0, 0, 1, 0, 1, 1, 0, 1, 0, 0, 0, 0, 1, 1,\n",
       "       1, 1, 1, 1, 0, 0, 0, 1, 1, 0, 1, 0, 0, 1, 1, 1, 1, 0, 0, 0, 0, 0, 1,\n",
       "       1, 1, 1, 1, 1, 0, 0, 1])"
      ]
     },
     "execution_count": 65,
     "metadata": {},
     "output_type": "execute_result"
    }
   ],
   "source": [
    "clf.predict(X_test)\n"
   ]
  },
  {
   "cell_type": "code",
   "execution_count": 66,
   "metadata": {},
   "outputs": [
    {
     "name": "stdout",
     "output_type": "stream",
     "text": [
      "[-3.87731252 -1.13932151  1.94915065 -0.34018715  5.00193203  3.36227757\n",
      " -2.49723149 -0.28772424  1.1477196   7.56232062 -7.39982867  4.00722896\n",
      "  1.83997384  1.25608699 -3.13975258  6.65574473  6.14858438  1.79748494\n",
      " -1.37429751  4.12846377  3.14897378  4.26003534  6.28543697 -0.67332323\n",
      " -1.01308835 -2.69947256  0.57930764 -2.21242169  0.86752496 -2.46948985\n",
      "  2.82538994 -6.03312794  4.22174798 -1.72213513  5.43076803 -2.06021792\n",
      " -5.70287588 -1.50820624 -2.16170812  2.72069302 -0.30931355  2.00004571\n",
      "  7.00433327  4.33918518  0.17110134  2.36166765  2.82039406  0.73442706\n",
      " -3.38047576  5.69010577 -3.13997952 -3.54225743  2.2485773   1.38696013\n",
      "  0.02633337 -1.4280113  -4.3549194   5.72138784 -1.21164754  4.18090531\n",
      "  0.86369    -0.9454971   4.16915844 -0.12646227 -0.17763408 -0.74935694\n",
      " -1.79463177  5.28007326  1.75006414  0.75449994  4.88812779  3.43577572\n",
      "  4.15336198 -0.36584198 -5.22778602 -0.76264101  0.53447294  6.07604447\n",
      " -5.4837562   0.15749448 -4.67754785 -5.36747514  4.5460691   5.11769669\n",
      "  3.03083545  1.06531567 -1.39069712 -1.95014786 -0.84197661 -0.01724681\n",
      " -2.06147908  6.26398116  8.26568029  4.55869496  6.23177931  2.4156177\n",
      "  1.08442994 -2.13102527 -1.52475017  1.49704869]\n"
     ]
    }
   ],
   "source": [
    "print(clf.decision_function(X_test))\n"
   ]
  },
  {
   "cell_type": "code",
   "execution_count": 67,
   "metadata": {},
   "outputs": [
    {
     "data": {
      "text/plain": [
       "0.44"
      ]
     },
     "execution_count": 67,
     "metadata": {},
     "output_type": "execute_result"
    }
   ],
   "source": [
    "clf.score(X_test, y_test, sample_weight=None)\n",
    "#we got the 55 percentage with the Liner SVM"
   ]
  },
  {
   "cell_type": "code",
   "execution_count": 68,
   "metadata": {},
   "outputs": [
    {
     "data": {
      "text/plain": [
       "BernoulliNB(alpha=1.0, binarize=0.0, class_prior=None, fit_prior=True)"
      ]
     },
     "execution_count": 68,
     "metadata": {},
     "output_type": "execute_result"
    }
   ],
   "source": [
    "#Now we try the Naive Bayes\n",
    "from sklearn.naive_bayes import BernoulliNB\n",
    "clf = BernoulliNB()\n",
    "clf.fit(X_train, y_train)"
   ]
  },
  {
   "cell_type": "code",
   "execution_count": 69,
   "metadata": {},
   "outputs": [
    {
     "data": {
      "text/plain": [
       "array([0, 0, 1, 0, 0, 1, 0, 0, 0, 1, 0, 1, 0, 1, 0, 1, 1, 1, 0, 1, 1, 1, 1,\n",
       "       0, 0, 0, 1, 1, 1, 0, 1, 0, 1, 1, 0, 0, 0, 0, 0, 1, 0, 1, 1, 1, 0, 1,\n",
       "       1, 1, 0, 1, 1, 0, 1, 1, 1, 1, 0, 1, 0, 0, 0, 0, 0, 0, 0, 0, 0, 1, 1,\n",
       "       1, 1, 1, 1, 0, 0, 0, 0, 1, 0, 1, 0, 0, 1, 1, 1, 0, 0, 1, 0, 1, 0, 1,\n",
       "       1, 1, 1, 1, 1, 1, 0, 1])"
      ]
     },
     "execution_count": 69,
     "metadata": {},
     "output_type": "execute_result"
    }
   ],
   "source": [
    "clf.predict(X_test)\n"
   ]
  },
  {
   "cell_type": "code",
   "execution_count": 70,
   "metadata": {},
   "outputs": [
    {
     "data": {
      "text/plain": [
       "0.51000000000000001"
      ]
     },
     "execution_count": 70,
     "metadata": {},
     "output_type": "execute_result"
    }
   ],
   "source": [
    "clf.score(X_test, y_test, sample_weight = None)"
   ]
  },
  {
   "cell_type": "code",
   "execution_count": 71,
   "metadata": {},
   "outputs": [
    {
     "data": {
      "text/plain": [
       "DecisionTreeClassifier(class_weight=None, criterion='gini', max_depth=None,\n",
       "            max_features=None, max_leaf_nodes=None,\n",
       "            min_impurity_decrease=0.0, min_impurity_split=None,\n",
       "            min_samples_leaf=1, min_samples_split=2,\n",
       "            min_weight_fraction_leaf=0.0, presort=False, random_state=0,\n",
       "            splitter='best')"
      ]
     },
     "execution_count": 71,
     "metadata": {},
     "output_type": "execute_result"
    }
   ],
   "source": [
    "#now we will apply the decision tree\n",
    "from sklearn.tree import DecisionTreeClassifier\n",
    "from sklearn.datasets import load_iris\n",
    "clf = DecisionTreeClassifier(random_state=0)\n",
    "clf.fit(X_train, y_train)"
   ]
  },
  {
   "cell_type": "code",
   "execution_count": 72,
   "metadata": {},
   "outputs": [
    {
     "data": {
      "text/plain": [
       "array([0, 0, 1, 1, 0, 1, 0, 0, 0, 1, 0, 1, 0, 1, 0, 1, 1, 1, 1, 1, 1, 1, 1,\n",
       "       0, 0, 0, 1, 1, 1, 0, 1, 0, 1, 1, 0, 0, 0, 0, 0, 1, 0, 1, 1, 1, 0, 1,\n",
       "       1, 1, 0, 1, 1, 0, 0, 1, 0, 1, 0, 1, 0, 0, 0, 0, 1, 0, 0, 0, 0, 1, 1,\n",
       "       1, 1, 1, 1, 0, 0, 0, 0, 1, 0, 1, 0, 0, 1, 1, 1, 0, 0, 1, 0, 1, 1, 1,\n",
       "       1, 1, 1, 1, 1, 1, 0, 1])"
      ]
     },
     "execution_count": 72,
     "metadata": {},
     "output_type": "execute_result"
    }
   ],
   "source": [
    "clf.predict(X_test)"
   ]
  },
  {
   "cell_type": "code",
   "execution_count": 73,
   "metadata": {},
   "outputs": [
    {
     "data": {
      "text/plain": [
       "0.53000000000000003"
      ]
     },
     "execution_count": 73,
     "metadata": {},
     "output_type": "execute_result"
    }
   ],
   "source": [
    "clf.score(X_test, y_test, sample_weight=None)"
   ]
  },
  {
   "cell_type": "code",
   "execution_count": 74,
   "metadata": {},
   "outputs": [
    {
     "data": {
      "text/plain": [
       "0.45000000000000001"
      ]
     },
     "execution_count": 74,
     "metadata": {},
     "output_type": "execute_result"
    }
   ],
   "source": [
    "from sklearn.multiclass import OneVsRestClassifier\n",
    "clf = OneVsRestClassifier(SVC(kernel = 'linear'))\n",
    "clf.fit(X_train,y_train)\n",
    "clf.predict(X_test)\n",
    "clf.score(X_test, y_test)\n"
   ]
  },
  {
   "cell_type": "code",
   "execution_count": 75,
   "metadata": {},
   "outputs": [
    {
     "data": {
      "text/plain": [
       "0.46999999999999997"
      ]
     },
     "execution_count": 75,
     "metadata": {},
     "output_type": "execute_result"
    }
   ],
   "source": [
    "from sklearn.ensemble import RandomForestClassifier\n",
    "clf = RandomForestClassifier(max_depth=2, random_state=0)\n",
    "clf.fit(X_train, y_train)\n",
    "clf.predict(X_test)\n",
    "clf.score(X_test, y_test)"
   ]
  },
  {
   "cell_type": "code",
   "execution_count": 76,
   "metadata": {},
   "outputs": [
    {
     "name": "stderr",
     "output_type": "stream",
     "text": [
      "Using TensorFlow backend.\n"
     ]
    }
   ],
   "source": [
    "#as the accuracy is not satisfying we will go for the rnns\n",
    "#implenantion of rnn using keras\n",
    "from keras.preprocessing import sequence\n",
    "from keras.models import Sequential\n",
    "from keras.layers import Dense, Embedding\n",
    "from keras.layers import LSTM\n",
    "\n"
   ]
  },
  {
   "cell_type": "code",
   "execution_count": 77,
   "metadata": {
    "collapsed": true
   },
   "outputs": [],
   "source": [
    "#LSTM model with rnn in keras\n"
   ]
  },
  {
   "cell_type": "code",
   "execution_count": 78,
   "metadata": {
    "collapsed": true
   },
   "outputs": [],
   "source": [
    "#model = Sequential()\n",
    "#model.add(LSTM(4,input_shape=(1, p)))"
   ]
  },
  {
   "cell_type": "code",
   "execution_count": null,
   "metadata": {
    "collapsed": true
   },
   "outputs": [],
   "source": []
  },
  {
   "cell_type": "code",
   "execution_count": null,
   "metadata": {
    "collapsed": true
   },
   "outputs": [],
   "source": []
  },
  {
   "cell_type": "code",
   "execution_count": null,
   "metadata": {
    "collapsed": true
   },
   "outputs": [],
   "source": []
  },
  {
   "cell_type": "code",
   "execution_count": null,
   "metadata": {
    "collapsed": true
   },
   "outputs": [],
   "source": []
  },
  {
   "cell_type": "code",
   "execution_count": null,
   "metadata": {
    "collapsed": true
   },
   "outputs": [],
   "source": []
  },
  {
   "cell_type": "code",
   "execution_count": 79,
   "metadata": {},
   "outputs": [
    {
     "data": {
      "text/html": [
       "<div>\n",
       "<style>\n",
       "    .dataframe thead tr:only-child th {\n",
       "        text-align: right;\n",
       "    }\n",
       "\n",
       "    .dataframe thead th {\n",
       "        text-align: left;\n",
       "    }\n",
       "\n",
       "    .dataframe tbody tr th {\n",
       "        vertical-align: top;\n",
       "    }\n",
       "</style>\n",
       "<table border=\"1\" class=\"dataframe\">\n",
       "  <thead>\n",
       "    <tr style=\"text-align: right;\">\n",
       "      <th></th>\n",
       "      <th>payrate</th>\n",
       "      <th>industry</th>\n",
       "    </tr>\n",
       "  </thead>\n",
       "  <tbody>\n",
       "    <tr>\n",
       "      <th>0</th>\n",
       "      <td>187500.0</td>\n",
       "      <td>Media / Entertainment / Internet0 - 1 yrs</td>\n",
       "    </tr>\n",
       "    <tr>\n",
       "      <th>1</th>\n",
       "      <td>200000.0</td>\n",
       "      <td>Advertising / PR / MR / Event Management0 - 0 yrs</td>\n",
       "    </tr>\n",
       "    <tr>\n",
       "      <th>6</th>\n",
       "      <td>475000.0</td>\n",
       "      <td>IT-Software / Software Services1 - 3 yrs</td>\n",
       "    </tr>\n",
       "    <tr>\n",
       "      <th>8</th>\n",
       "      <td>150000.0</td>\n",
       "      <td>Industrial Products / Heavy Machinery1 - 3 yrs</td>\n",
       "    </tr>\n",
       "    <tr>\n",
       "      <th>12</th>\n",
       "      <td>212500.0</td>\n",
       "      <td>IT-Software / Software Services2 - 4 yrs</td>\n",
       "    </tr>\n",
       "  </tbody>\n",
       "</table>\n",
       "</div>"
      ],
      "text/plain": [
       "     payrate                                           industry\n",
       "0   187500.0          Media / Entertainment / Internet0 - 1 yrs\n",
       "1   200000.0  Advertising / PR / MR / Event Management0 - 0 yrs\n",
       "6   475000.0           IT-Software / Software Services1 - 3 yrs\n",
       "8   150000.0     Industrial Products / Heavy Machinery1 - 3 yrs\n",
       "12  212500.0           IT-Software / Software Services2 - 4 yrs"
      ]
     },
     "execution_count": 79,
     "metadata": {},
     "output_type": "execute_result"
    }
   ],
   "source": [
    "df10.head()\n",
    "#until now we have predicted with only two values\n",
    "#but now we will add another extra column i.e expirence\n",
    "#we will join this column along with the training set i.e industry"
   ]
  },
  {
   "cell_type": "code",
   "execution_count": 80,
   "metadata": {
    "collapsed": true
   },
   "outputs": [],
   "source": [
    "P = df10.industry\n",
    "q = df10.payrate\n"
   ]
  },
  {
   "cell_type": "code",
   "execution_count": 81,
   "metadata": {
    "collapsed": true
   },
   "outputs": [],
   "source": [
    "from sklearn.model_selection import train_test_split\n",
    "P_train,P_test, q_train, q_test = train_test_split(P, q, test_size=0.30, random_state=42)\n",
    "\n"
   ]
  },
  {
   "cell_type": "code",
   "execution_count": 82,
   "metadata": {},
   "outputs": [
    {
     "data": {
      "text/plain": [
       "['Accounting / Finance0 - 1 yrs',\n",
       " 'Accounting / Finance0 - 2 yrs',\n",
       " 'Accounting / Finance0 - 3 yrs',\n",
       " 'Accounting / Finance0 - 4 yrs',\n",
       " 'Accounting / Finance0 - 5 yrs',\n",
       " 'Accounting / Finance1 - 2 yrs',\n",
       " 'Accounting / Finance1 - 3 yrs',\n",
       " 'Accounting / Finance1 - 4 yrs',\n",
       " 'Accounting / Finance1 - 6 yrs',\n",
       " 'Accounting / Finance10 - 15 yrs',\n",
       " 'Accounting / Finance2 - 3 yrs',\n",
       " 'Accounting / Finance2 - 4 yrs',\n",
       " 'Accounting / Finance2 - 5 yrs',\n",
       " 'Accounting / Finance2 - 6 yrs',\n",
       " 'Accounting / Finance2 - 7 yrs',\n",
       " 'Accounting / Finance3 - 5 yrs',\n",
       " 'Accounting / Finance3 - 7 yrs',\n",
       " 'Accounting / Finance3 - 8 yrs',\n",
       " 'Accounting / Finance4 - 9 yrs',\n",
       " 'Accounting / Finance5 - 6 yrs',\n",
       " 'Accounting / Finance6 - 11 yrs',\n",
       " 'Accounting / Finance7 - 12 yrs',\n",
       " 'Accounting / Finance8 - 12 yrs',\n",
       " 'Accounting / Finance8 - 13 yrs',\n",
       " 'Accounting / Finance9 - 11 yrs',\n",
       " 'Advertising / PR / MR / Event Management0 - 0 yrs',\n",
       " 'Advertising / PR / MR / Event Management0 - 1 yrs',\n",
       " 'Advertising / PR / MR / Event Management0 - 2 yrs',\n",
       " 'Advertising / PR / MR / Event Management0 - 3 yrs',\n",
       " 'Advertising / PR / MR / Event Management0 - 4 yrs',\n",
       " 'Advertising / PR / MR / Event Management0 - 5 yrs',\n",
       " 'Advertising / PR / MR / Event Management1 - 3 yrs',\n",
       " 'Advertising / PR / MR / Event Management1 - 4 yrs',\n",
       " 'Advertising / PR / MR / Event Management1 - 5 yrs',\n",
       " 'Advertising / PR / MR / Event Management1 - 6 yrs',\n",
       " 'Advertising / PR / MR / Event Management12 - 20 yrs',\n",
       " 'Advertising / PR / MR / Event Management2 - 4 yrs',\n",
       " 'Advertising / PR / MR / Event Management2 - 5 yrs',\n",
       " 'Advertising / PR / MR / Event Management2 - 7 yrs',\n",
       " 'Advertising / PR / MR / Event Management3 - 4 yrs',\n",
       " 'Advertising / PR / MR / Event Management3 - 5 yrs',\n",
       " 'Advertising / PR / MR / Event Management3 - 6 yrs',\n",
       " 'Advertising / PR / MR / Event Management3 - 7 yrs',\n",
       " 'Advertising / PR / MR / Event Management3 - 8 yrs',\n",
       " 'Advertising / PR / MR / Event Management4 - 7 yrs',\n",
       " 'Advertising / PR / MR / Event Management4 - 9 yrs',\n",
       " 'Advertising / PR / MR / Event Management5 - 10 yrs',\n",
       " 'Advertising / PR / MR / Event Management5 - 7 yrs',\n",
       " 'Advertising / PR / MR / Event Management5 - 8 yrs',\n",
       " 'Advertising / PR / MR / Event Management6 - 10 yrs',\n",
       " 'Advertising / PR / MR / Event Management6 - 11 yrs',\n",
       " 'Advertising / PR / MR / Event Management6 - 9 yrs',\n",
       " 'Advertising / PR / MR / Event Management7 - 12 yrs',\n",
       " 'Advertising / PR / MR / Event Management8 - 10 yrs',\n",
       " 'Agriculture / Dairy14 - 24 yrs',\n",
       " 'Agriculture / Dairy2 - 3 yrs',\n",
       " 'Agriculture / Dairy2 - 4 yrs',\n",
       " 'Agriculture / Dairy2 - 6 yrs',\n",
       " 'Agriculture / Dairy2 - 7 yrs',\n",
       " 'Animation / Gaming0 - 2 yrs',\n",
       " 'Animation / Gaming5 - 8 yrs',\n",
       " 'Architecture / Interior Design0 - 1 yrs',\n",
       " 'Architecture / Interior Design0 - 2 yrs',\n",
       " 'Architecture / Interior Design0 - 3 yrs',\n",
       " 'Architecture / Interior Design1 - 2 yrs',\n",
       " 'Architecture / Interior Design1 - 4 yrs',\n",
       " 'Architecture / Interior Design1 - 5 yrs',\n",
       " 'Architecture / Interior Design10 - 15 yrs',\n",
       " 'Architecture / Interior Design15 - 20 yrs',\n",
       " 'Architecture / Interior Design2 - 3 yrs',\n",
       " 'Architecture / Interior Design2 - 7 yrs',\n",
       " 'Architecture / Interior Design3 - 4 yrs',\n",
       " 'Architecture / Interior Design3 - 5 yrs',\n",
       " 'Architecture / Interior Design3 - 8 yrs',\n",
       " 'Architecture / Interior Design4 - 9 yrs',\n",
       " 'Architecture / Interior Design5 - 10 yrs',\n",
       " 'Architecture / Interior Design6 - 11 yrs',\n",
       " 'Automobile / Auto Anciliary / Auto Components0 - 0 yrs',\n",
       " 'Automobile / Auto Anciliary / Auto Components0 - 1 yrs',\n",
       " 'Automobile / Auto Anciliary / Auto Components0 - 2 yrs',\n",
       " 'Automobile / Auto Anciliary / Auto Components0 - 3 yrs',\n",
       " 'Automobile / Auto Anciliary / Auto Components0 - 4 yrs',\n",
       " 'Automobile / Auto Anciliary / Auto Components0 - 5 yrs',\n",
       " 'Automobile / Auto Anciliary / Auto Components1 - 2 yrs',\n",
       " 'Automobile / Auto Anciliary / Auto Components1 - 3 yrs',\n",
       " 'Automobile / Auto Anciliary / Auto Components1 - 4 yrs',\n",
       " 'Automobile / Auto Anciliary / Auto Components1 - 5 yrs',\n",
       " 'Automobile / Auto Anciliary / Auto Components1 - 6 yrs',\n",
       " 'Automobile / Auto Anciliary / Auto Components10 - 15 yrs',\n",
       " 'Automobile / Auto Anciliary / Auto Components10 - 17 yrs',\n",
       " 'Automobile / Auto Anciliary / Auto Components10 - 18 yrs',\n",
       " 'Automobile / Auto Anciliary / Auto Components11 - 20 yrs',\n",
       " 'Automobile / Auto Anciliary / Auto Components12 - 15 yrs',\n",
       " 'Automobile / Auto Anciliary / Auto Components12 - 22 yrs',\n",
       " 'Automobile / Auto Anciliary / Auto Components15 - 20 yrs',\n",
       " 'Automobile / Auto Anciliary / Auto Components15 - 25 yrs',\n",
       " 'Automobile / Auto Anciliary / Auto Components18 - 20 yrs',\n",
       " 'Automobile / Auto Anciliary / Auto Components2 - 3 yrs',\n",
       " 'Automobile / Auto Anciliary / Auto Components2 - 4 yrs',\n",
       " 'Automobile / Auto Anciliary / Auto Components2 - 5 yrs',\n",
       " 'Automobile / Auto Anciliary / Auto Components2 - 6 yrs',\n",
       " 'Automobile / Auto Anciliary / Auto Components2 - 7 yrs',\n",
       " 'Automobile / Auto Anciliary / Auto Components20 - 25 yrs',\n",
       " 'Automobile / Auto Anciliary / Auto Components3 - 4 yrs',\n",
       " 'Automobile / Auto Anciliary / Auto Components3 - 5 yrs',\n",
       " 'Automobile / Auto Anciliary / Auto Components3 - 6 yrs',\n",
       " 'Automobile / Auto Anciliary / Auto Components3 - 8 yrs',\n",
       " 'Automobile / Auto Anciliary / Auto Components4 - 7 yrs',\n",
       " 'Automobile / Auto Anciliary / Auto Components4 - 8 yrs',\n",
       " 'Automobile / Auto Anciliary / Auto Components4 - 9 yrs',\n",
       " 'Automobile / Auto Anciliary / Auto Components5 - 10 yrs',\n",
       " 'Automobile / Auto Anciliary / Auto Components5 - 5 yrs',\n",
       " 'Automobile / Auto Anciliary / Auto Components5 - 7 yrs',\n",
       " 'Automobile / Auto Anciliary / Auto Components5 - 8 yrs',\n",
       " 'Automobile / Auto Anciliary / Auto Components5 - 9 yrs',\n",
       " 'Automobile / Auto Anciliary / Auto Components6 - 10 yrs',\n",
       " 'Automobile / Auto Anciliary / Auto Components6 - 11 yrs',\n",
       " 'Automobile / Auto Anciliary / Auto Components7 - 12 yrs',\n",
       " 'Automobile / Auto Anciliary / Auto Components8 - 10 yrs',\n",
       " 'Automobile / Auto Anciliary / Auto Components8 - 12 yrs',\n",
       " 'Automobile / Auto Anciliary / Auto Components8 - 13 yrs',\n",
       " 'Automobile / Auto Anciliary / Auto Components9 - 11 yrs',\n",
       " 'Automobile / Auto Anciliary / Auto Components9 - 14 yrs',\n",
       " 'Aviation / Aerospace Firms0 - 5 yrs',\n",
       " 'Aviation / Aerospace Firms5 - 10 yrs',\n",
       " 'BPO / Call Centre / ITES0 - 0 yrs',\n",
       " 'BPO / Call Centre / ITES0 - 1 yrs',\n",
       " 'BPO / Call Centre / ITES0 - 2 yrs',\n",
       " 'BPO / Call Centre / ITES0 - 3 yrs',\n",
       " 'BPO / Call Centre / ITES0 - 4 yrs',\n",
       " 'BPO / Call Centre / ITES0 - 5 yrs',\n",
       " 'BPO / Call Centre / ITES1 - 2 yrs',\n",
       " 'BPO / Call Centre / ITES1 - 3 yrs',\n",
       " 'BPO / Call Centre / ITES1 - 4 yrs',\n",
       " 'BPO / Call Centre / ITES1 - 5 yrs',\n",
       " 'BPO / Call Centre / ITES1 - 6 yrs',\n",
       " 'BPO / Call Centre / ITES10 - 15 yrs',\n",
       " 'BPO / Call Centre / ITES10 - 16 yrs',\n",
       " 'BPO / Call Centre / ITES10 - 17 yrs',\n",
       " 'BPO / Call Centre / ITES12 - 20 yrs',\n",
       " 'BPO / Call Centre / ITES12 - 22 yrs',\n",
       " 'BPO / Call Centre / ITES15 - 25 yrs',\n",
       " 'BPO / Call Centre / ITES2 - 3 yrs',\n",
       " 'BPO / Call Centre / ITES2 - 4 yrs',\n",
       " 'BPO / Call Centre / ITES2 - 5 yrs',\n",
       " 'BPO / Call Centre / ITES2 - 6 yrs',\n",
       " 'BPO / Call Centre / ITES2 - 7 yrs',\n",
       " 'BPO / Call Centre / ITES3 - 5 yrs',\n",
       " 'BPO / Call Centre / ITES3 - 6 yrs',\n",
       " 'BPO / Call Centre / ITES3 - 7 yrs',\n",
       " 'BPO / Call Centre / ITES3 - 8 yrs',\n",
       " 'BPO / Call Centre / ITES4 - 5 yrs',\n",
       " 'BPO / Call Centre / ITES4 - 6 yrs',\n",
       " 'BPO / Call Centre / ITES4 - 7 yrs',\n",
       " 'BPO / Call Centre / ITES4 - 8 yrs',\n",
       " 'BPO / Call Centre / ITES4 - 9 yrs',\n",
       " 'BPO / Call Centre / ITES5 - 10 yrs',\n",
       " 'BPO / Call Centre / ITES5 - 7 yrs',\n",
       " 'BPO / Call Centre / ITES6 - 10 yrs',\n",
       " 'BPO / Call Centre / ITES6 - 11 yrs',\n",
       " 'BPO / Call Centre / ITES6 - 8 yrs',\n",
       " 'BPO / Call Centre / ITES7 - 10 yrs',\n",
       " 'BPO / Call Centre / ITES7 - 12 yrs',\n",
       " 'BPO / Call Centre / ITES8 - 12 yrs',\n",
       " 'BPO / Call Centre / ITES8 - 13 yrs',\n",
       " 'BPO / Call Centre / ITES9 - 12 yrs',\n",
       " 'BPO / Call Centre / ITES9 - 14 yrs',\n",
       " 'Banking / Financial Services / Broking0 - 0 yrs',\n",
       " 'Banking / Financial Services / Broking0 - 1 yrs',\n",
       " 'Banking / Financial Services / Broking0 - 2 yrs',\n",
       " 'Banking / Financial Services / Broking0 - 3 yrs',\n",
       " 'Banking / Financial Services / Broking0 - 4 yrs',\n",
       " 'Banking / Financial Services / Broking0 - 5 yrs',\n",
       " 'Banking / Financial Services / Broking1 - 2 yrs',\n",
       " 'Banking / Financial Services / Broking1 - 3 yrs',\n",
       " 'Banking / Financial Services / Broking1 - 4 yrs',\n",
       " 'Banking / Financial Services / Broking1 - 5 yrs',\n",
       " 'Banking / Financial Services / Broking1 - 6 yrs',\n",
       " 'Banking / Financial Services / Broking10 - 15 yrs',\n",
       " 'Banking / Financial Services / Broking10 - 20 yrs',\n",
       " 'Banking / Financial Services / Broking12 - 16 yrs',\n",
       " 'Banking / Financial Services / Broking2 - 4 yrs',\n",
       " 'Banking / Financial Services / Broking2 - 5 yrs',\n",
       " 'Banking / Financial Services / Broking2 - 6 yrs',\n",
       " 'Banking / Financial Services / Broking2 - 7 yrs',\n",
       " 'Banking / Financial Services / Broking3 - 5 yrs',\n",
       " 'Banking / Financial Services / Broking3 - 6 yrs',\n",
       " 'Banking / Financial Services / Broking3 - 7 yrs',\n",
       " 'Banking / Financial Services / Broking3 - 8 yrs',\n",
       " 'Banking / Financial Services / Broking4 - 5 yrs',\n",
       " 'Banking / Financial Services / Broking4 - 6 yrs',\n",
       " 'Banking / Financial Services / Broking4 - 7 yrs',\n",
       " 'Banking / Financial Services / Broking4 - 8 yrs',\n",
       " 'Banking / Financial Services / Broking4 - 9 yrs',\n",
       " 'Banking / Financial Services / Broking5 - 10 yrs',\n",
       " 'Banking / Financial Services / Broking5 - 8 yrs',\n",
       " 'Banking / Financial Services / Broking6 - 11 yrs',\n",
       " 'Banking / Financial Services / Broking6 - 9 yrs',\n",
       " 'Banking / Financial Services / Broking7 - 12 yrs',\n",
       " 'Banking / Financial Services / Broking8 - 13 yrs',\n",
       " 'Brewery / Distillery3 - 8 yrs',\n",
       " 'Brewery / Distillery6 - 11 yrs',\n",
       " 'Ceramics / Sanitary ware10 - 12 yrs',\n",
       " 'Ceramics / Sanitary ware2 - 3 yrs',\n",
       " 'Ceramics / Sanitary ware2 - 4 yrs',\n",
       " 'Ceramics / Sanitary ware2 - 5 yrs',\n",
       " 'Ceramics / Sanitary ware2 - 7 yrs',\n",
       " 'Ceramics / Sanitary ware3 - 8 yrs',\n",
       " 'Ceramics / Sanitary ware5 - 10 yrs',\n",
       " 'Ceramics / Sanitary ware6 - 10 yrs',\n",
       " 'Ceramics / Sanitary ware8 - 12 yrs',\n",
       " 'Chemicals / PetroChemical / Plastic / Rubber0 - 2 yrs',\n",
       " 'Chemicals / PetroChemical / Plastic / Rubber0 - 3 yrs',\n",
       " 'Chemicals / PetroChemical / Plastic / Rubber1 - 3 yrs',\n",
       " 'Chemicals / PetroChemical / Plastic / Rubber1 - 5 yrs',\n",
       " 'Chemicals / PetroChemical / Plastic / Rubber10 - 19 yrs',\n",
       " 'Chemicals / PetroChemical / Plastic / Rubber10 - 20 yrs',\n",
       " 'Chemicals / PetroChemical / Plastic / Rubber18 - 22 yrs',\n",
       " 'Chemicals / PetroChemical / Plastic / Rubber2 - 4 yrs',\n",
       " 'Chemicals / PetroChemical / Plastic / Rubber2 - 5 yrs',\n",
       " 'Chemicals / PetroChemical / Plastic / Rubber2 - 6 yrs',\n",
       " 'Chemicals / PetroChemical / Plastic / Rubber2 - 7 yrs',\n",
       " 'Construction / Engineering / Cement / Metals0 - 0 yrs',\n",
       " 'Construction / Engineering / Cement / Metals0 - 1 yrs',\n",
       " 'Construction / Engineering / Cement / Metals0 - 3 yrs',\n",
       " 'Construction / Engineering / Cement / Metals0 - 4 yrs',\n",
       " 'Construction / Engineering / Cement / Metals0 - 5 yrs',\n",
       " 'Construction / Engineering / Cement / Metals1 - 3 yrs',\n",
       " 'Construction / Engineering / Cement / Metals1 - 4 yrs',\n",
       " 'Construction / Engineering / Cement / Metals1 - 5 yrs',\n",
       " 'Construction / Engineering / Cement / Metals10 - 12 yrs',\n",
       " 'Construction / Engineering / Cement / Metals10 - 20 yrs',\n",
       " 'Construction / Engineering / Cement / Metals12 - 15 yrs',\n",
       " 'Construction / Engineering / Cement / Metals13 - 20 yrs',\n",
       " 'Construction / Engineering / Cement / Metals15 - 17 yrs',\n",
       " 'Construction / Engineering / Cement / Metals2 - 6 yrs',\n",
       " 'Construction / Engineering / Cement / Metals2 - 7 yrs',\n",
       " 'Construction / Engineering / Cement / Metals3 - 6 yrs',\n",
       " 'Construction / Engineering / Cement / Metals3 - 8 yrs',\n",
       " 'Construction / Engineering / Cement / Metals4 - 8 yrs',\n",
       " 'Construction / Engineering / Cement / Metals4 - 9 yrs',\n",
       " 'Construction / Engineering / Cement / Metals5 - 10 yrs',\n",
       " 'Construction / Engineering / Cement / Metals6 - 11 yrs',\n",
       " 'Construction / Engineering / Cement / Metals7 - 10 yrs',\n",
       " 'Construction / Engineering / Cement / Metals8 - 10 yrs',\n",
       " 'Construction / Engineering / Cement / Metals8 - 13 yrs',\n",
       " 'Construction / Engineering / Cement / Metals9 - 11 yrs',\n",
       " 'Consumer Electronics / Appliances / Durables0 - 0 yrs',\n",
       " 'Consumer Electronics / Appliances / Durables0 - 4 yrs',\n",
       " 'Consumer Electronics / Appliances / Durables0 - 5 yrs',\n",
       " 'Consumer Electronics / Appliances / Durables1 - 5 yrs',\n",
       " 'Consumer Electronics / Appliances / Durables10 - 10 yrs',\n",
       " 'Consumer Electronics / Appliances / Durables10 - 14 yrs',\n",
       " 'Consumer Electronics / Appliances / Durables10 - 15 yrs',\n",
       " 'Consumer Electronics / Appliances / Durables10 - 20 yrs',\n",
       " 'Consumer Electronics / Appliances / Durables12 - 15 yrs',\n",
       " 'Consumer Electronics / Appliances / Durables2 - 7 yrs',\n",
       " 'Consumer Electronics / Appliances / Durables5 - 10 yrs',\n",
       " 'Consumer Electronics / Appliances / Durables7 - 12 yrs',\n",
       " 'Consumer Electronics / Appliances / Durables8 - 12 yrs',\n",
       " 'Courier / Transportation / Freight / Warehousing0 - 2 yrs',\n",
       " 'Courier / Transportation / Freight / Warehousing0 - 3 yrs',\n",
       " 'Courier / Transportation / Freight / Warehousing0 - 5 yrs',\n",
       " 'Courier / Transportation / Freight / Warehousing1 - 2 yrs',\n",
       " 'Courier / Transportation / Freight / Warehousing1 - 3 yrs',\n",
       " 'Courier / Transportation / Freight / Warehousing1 - 4 yrs',\n",
       " 'Courier / Transportation / Freight / Warehousing10 - 20 yrs',\n",
       " 'Courier / Transportation / Freight / Warehousing2 - 5 yrs',\n",
       " 'Courier / Transportation / Freight / Warehousing2 - 6 yrs',\n",
       " 'Courier / Transportation / Freight / Warehousing2 - 7 yrs',\n",
       " 'Courier / Transportation / Freight / Warehousing3 - 5 yrs',\n",
       " 'Courier / Transportation / Freight / Warehousing3 - 7 yrs',\n",
       " 'Courier / Transportation / Freight / Warehousing3 - 8 yrs',\n",
       " 'Courier / Transportation / Freight / Warehousing4 - 8 yrs',\n",
       " 'Courier / Transportation / Freight / Warehousing4 - 9 yrs',\n",
       " 'Courier / Transportation / Freight / Warehousing6 - 10 yrs',\n",
       " 'Courier / Transportation / Freight / Warehousing6 - 8 yrs',\n",
       " 'Courier / Transportation / Freight / Warehousing7 - 12 yrs',\n",
       " 'Education / Teaching / Training0 - 1 yrs',\n",
       " 'Education / Teaching / Training0 - 2 yrs',\n",
       " 'Education / Teaching / Training0 - 4 yrs',\n",
       " 'Education / Teaching / Training0 - 5 yrs',\n",
       " 'Education / Teaching / Training1 - 1 yrs',\n",
       " 'Education / Teaching / Training1 - 2 yrs',\n",
       " 'Education / Teaching / Training1 - 3 yrs',\n",
       " 'Education / Teaching / Training1 - 4 yrs',\n",
       " 'Education / Teaching / Training1 - 5 yrs',\n",
       " 'Education / Teaching / Training1 - 6 yrs',\n",
       " 'Education / Teaching / Training10 - 15 yrs',\n",
       " 'Education / Teaching / Training10 - 20 yrs',\n",
       " 'Education / Teaching / Training12 - 20 yrs',\n",
       " 'Education / Teaching / Training2 - 3 yrs',\n",
       " 'Education / Teaching / Training2 - 4 yrs',\n",
       " 'Education / Teaching / Training2 - 5 yrs',\n",
       " 'Education / Teaching / Training2 - 6 yrs',\n",
       " 'Education / Teaching / Training2 - 7 yrs',\n",
       " 'Education / Teaching / Training3 - 5 yrs',\n",
       " 'Education / Teaching / Training3 - 6 yrs',\n",
       " 'Education / Teaching / Training3 - 8 yrs',\n",
       " 'Education / Teaching / Training4 - 7 yrs',\n",
       " 'Education / Teaching / Training4 - 8 yrs',\n",
       " 'Education / Teaching / Training5 - 10 yrs',\n",
       " 'Education / Teaching / Training6 - 10 yrs',\n",
       " 'Education / Teaching / Training6 - 9 yrs',\n",
       " 'Education / Teaching / Training8 - 13 yrs',\n",
       " 'Electricals / Switchgears0 - 0 yrs',\n",
       " 'Electricals / Switchgears0 - 3 yrs',\n",
       " 'Electricals / Switchgears0 - 4 yrs',\n",
       " 'Electricals / Switchgears0 - 5 yrs',\n",
       " 'Electricals / Switchgears10 - 15 yrs',\n",
       " 'Electricals / Switchgears10 - 17 yrs',\n",
       " 'Electricals / Switchgears2 - 6 yrs',\n",
       " 'Electricals / Switchgears2 - 7 yrs',\n",
       " 'Electricals / Switchgears3 - 8 yrs',\n",
       " 'Electricals / Switchgears4 - 5 yrs',\n",
       " 'Electricals / Switchgears4 - 9 yrs',\n",
       " 'Electricals / Switchgears5 - 8 yrs',\n",
       " 'Electricals / Switchgears8 - 13 yrs',\n",
       " 'Electricals / Switchgears9 - 11 yrs',\n",
       " 'Export / Import0 - 3 yrs',\n",
       " 'Export / Import0 - 4 yrs',\n",
       " 'Export / Import0 - 5 yrs',\n",
       " 'Export / Import10 - 15 yrs',\n",
       " 'Export / Import2 - 4 yrs',\n",
       " 'Export / Import3 - 5 yrs',\n",
       " 'Export / Import3 - 7 yrs',\n",
       " 'Export / Import4 - 9 yrs',\n",
       " 'Export / Import6 - 11 yrs',\n",
       " 'Export / Import6 - 8 yrs',\n",
       " 'Export / Import7 - 10 yrs',\n",
       " 'Export / Import8 - 10 yrs',\n",
       " 'FMCG / Foods / Beverage0 - 2 yrs',\n",
       " 'FMCG / Foods / Beverage1 - 2 yrs',\n",
       " 'FMCG / Foods / Beverage1 - 3 yrs',\n",
       " 'FMCG / Foods / Beverage1 - 5 yrs',\n",
       " 'FMCG / Foods / Beverage1 - 6 yrs',\n",
       " 'FMCG / Foods / Beverage10 - 12 yrs',\n",
       " 'FMCG / Foods / Beverage10 - 16 yrs',\n",
       " 'FMCG / Foods / Beverage12 - 15 yrs',\n",
       " 'FMCG / Foods / Beverage13 - 17 yrs',\n",
       " 'FMCG / Foods / Beverage15 - 25 yrs',\n",
       " 'FMCG / Foods / Beverage2 - 4 yrs',\n",
       " 'FMCG / Foods / Beverage2 - 5 yrs',\n",
       " 'FMCG / Foods / Beverage2 - 6 yrs',\n",
       " 'FMCG / Foods / Beverage2 - 7 yrs',\n",
       " 'FMCG / Foods / Beverage3 - 5 yrs',\n",
       " 'FMCG / Foods / Beverage3 - 7 yrs',\n",
       " 'FMCG / Foods / Beverage3 - 8 yrs',\n",
       " 'FMCG / Foods / Beverage4 - 6 yrs',\n",
       " 'FMCG / Foods / Beverage4 - 9 yrs',\n",
       " 'FMCG / Foods / Beverage5 - 10 yrs',\n",
       " 'FMCG / Foods / Beverage5 - 8 yrs',\n",
       " 'FMCG / Foods / Beverage6 - 10 yrs',\n",
       " 'FMCG / Foods / Beverage6 - 11 yrs',\n",
       " 'FMCG / Foods / Beverage7 - 10 yrs',\n",
       " 'FMCG / Foods / Beverage7 - 12 yrs',\n",
       " 'FMCG / Foods / Beverage8 - 10 yrs',\n",
       " 'FMCG / Foods / Beverage8 - 12 yrs',\n",
       " 'FMCG / Foods / Beverage8 - 13 yrs',\n",
       " 'FMCG / Foods / Beverage9 - 14 yrs',\n",
       " 'Facility Management0 - 2 yrs',\n",
       " 'Facility Management1 - 2 yrs',\n",
       " 'Facility Management1 - 5 yrs',\n",
       " 'Facility Management1 - 6 yrs',\n",
       " 'Facility Management10 - 12 yrs',\n",
       " 'Facility Management10 - 14 yrs',\n",
       " 'Facility Management15 - 25 yrs',\n",
       " 'Facility Management2 - 7 yrs',\n",
       " 'Facility Management3 - 8 yrs',\n",
       " 'Facility Management4 - 9 yrs',\n",
       " 'Facility Management5 - 10 yrs',\n",
       " 'Fertilizers / Pesticides0 - 1 yrs',\n",
       " 'Food Processing0 - 1 yrs',\n",
       " 'Food Processing0 - 3 yrs',\n",
       " 'Food Processing0 - 5 yrs',\n",
       " 'Food Processing10 - 20 yrs',\n",
       " 'Food Processing3 - 4 yrs',\n",
       " 'Fresher / Trainee / Entry Level0 - 0 yrs',\n",
       " 'Fresher / Trainee / Entry Level0 - 1 yrs',\n",
       " 'Fresher / Trainee / Entry Level0 - 3 yrs',\n",
       " 'Fresher / Trainee / Entry Level0 - 5 yrs',\n",
       " 'Gems / Jewellery0 - 3 yrs',\n",
       " 'Gems / Jewellery1 - 4 yrs',\n",
       " 'Gems / Jewellery1 - 5 yrs',\n",
       " 'Gems / Jewellery1 - 6 yrs',\n",
       " 'Gems / Jewellery2 - 7 yrs',\n",
       " 'Gems / Jewellery3 - 8 yrs',\n",
       " 'Gems / Jewellery4 - 9 yrs',\n",
       " 'Gems / Jewellery7 - 12 yrs',\n",
       " 'Gems / Jewellery8 - 10 yrs',\n",
       " 'Glass / Glassware10 - 20 yrs',\n",
       " 'Glass / Glassware5 - 10 yrs',\n",
       " 'Glass / Glassware5 - 7 yrs',\n",
       " 'Government / Defence0 - 0 yrs',\n",
       " 'Heat Ventilation / Air Conditioning1 - 3 yrs',\n",
       " 'Heat Ventilation / Air Conditioning1 - 4 yrs',\n",
       " 'Heat Ventilation / Air Conditioning3 - 5 yrs',\n",
       " 'Heat Ventilation / Air Conditioning5 - 10 yrs',\n",
       " 'IT-Hardware & Networking0 - 1 yrs',\n",
       " 'IT-Hardware & Networking0 - 3 yrs',\n",
       " 'IT-Hardware & Networking0 - 5 yrs',\n",
       " 'IT-Hardware & Networking1 - 2 yrs',\n",
       " 'IT-Hardware & Networking1 - 3 yrs',\n",
       " 'IT-Hardware & Networking1 - 4 yrs',\n",
       " 'IT-Hardware & Networking1 - 5 yrs',\n",
       " 'IT-Hardware & Networking1 - 6 yrs',\n",
       " 'IT-Hardware & Networking10 - 15 yrs',\n",
       " 'IT-Hardware & Networking15 - 17 yrs',\n",
       " 'IT-Hardware & Networking15 - 19 yrs',\n",
       " 'IT-Hardware & Networking2 - 6 yrs',\n",
       " 'IT-Hardware & Networking2 - 7 yrs',\n",
       " 'IT-Hardware & Networking3 - 4 yrs',\n",
       " 'IT-Hardware & Networking3 - 6 yrs',\n",
       " 'IT-Hardware & Networking3 - 7 yrs',\n",
       " 'IT-Hardware & Networking3 - 8 yrs',\n",
       " 'IT-Hardware & Networking4 - 5 yrs',\n",
       " 'IT-Hardware & Networking4 - 7 yrs',\n",
       " 'IT-Hardware & Networking4 - 9 yrs',\n",
       " 'IT-Hardware & Networking5 - 10 yrs',\n",
       " 'IT-Hardware & Networking6 - 11 yrs',\n",
       " 'IT-Hardware & Networking7 - 12 yrs',\n",
       " 'IT-Hardware & Networking9 - 11 yrs',\n",
       " 'IT-Software / Software Services0 - 0 yrs',\n",
       " 'IT-Software / Software Services0 - 1 yrs',\n",
       " 'IT-Software / Software Services0 - 2 yrs',\n",
       " 'IT-Software / Software Services0 - 3 yrs',\n",
       " 'IT-Software / Software Services0 - 4 yrs',\n",
       " 'IT-Software / Software Services0 - 5 yrs',\n",
       " 'IT-Software / Software Services1 - 1 yrs',\n",
       " 'IT-Software / Software Services1 - 2 yrs',\n",
       " 'IT-Software / Software Services1 - 3 yrs',\n",
       " 'IT-Software / Software Services1 - 4 yrs',\n",
       " 'IT-Software / Software Services1 - 5 yrs',\n",
       " 'IT-Software / Software Services1 - 6 yrs',\n",
       " 'IT-Software / Software Services10 - 12 yrs',\n",
       " 'IT-Software / Software Services10 - 13 yrs',\n",
       " 'IT-Software / Software Services10 - 14 yrs',\n",
       " 'IT-Software / Software Services10 - 15 yrs',\n",
       " 'IT-Software / Software Services10 - 18 yrs',\n",
       " 'IT-Software / Software Services10 - 20 yrs',\n",
       " 'IT-Software / Software Services11 - 16 yrs',\n",
       " 'IT-Software / Software Services11 - 20 yrs',\n",
       " 'IT-Software / Software Services11 - 21 yrs',\n",
       " 'IT-Software / Software Services12 - 16 yrs',\n",
       " 'IT-Software / Software Services12 - 18 yrs',\n",
       " 'IT-Software / Software Services12 - 20 yrs',\n",
       " 'IT-Software / Software Services13 - 16 yrs',\n",
       " 'IT-Software / Software Services13 - 20 yrs',\n",
       " 'IT-Software / Software Services14 - 18 yrs',\n",
       " 'IT-Software / Software Services14 - 19 yrs',\n",
       " 'IT-Software / Software Services14 - 24 yrs',\n",
       " 'IT-Software / Software Services15 - 20 yrs',\n",
       " 'IT-Software / Software Services15 - 22 yrs',\n",
       " 'IT-Software / Software Services17 - 20 yrs',\n",
       " 'IT-Software / Software Services17 - 23 yrs',\n",
       " 'IT-Software / Software Services2 - 3 yrs',\n",
       " 'IT-Software / Software Services2 - 4 yrs',\n",
       " 'IT-Software / Software Services2 - 5 yrs',\n",
       " 'IT-Software / Software Services2 - 6 yrs',\n",
       " 'IT-Software / Software Services2 - 7 yrs',\n",
       " 'IT-Software / Software Services3 - 4 yrs',\n",
       " 'IT-Software / Software Services3 - 5 yrs',\n",
       " 'IT-Software / Software Services3 - 6 yrs',\n",
       " 'IT-Software / Software Services3 - 7 yrs',\n",
       " 'IT-Software / Software Services3 - 8 yrs',\n",
       " 'IT-Software / Software Services4 - 5 yrs',\n",
       " 'IT-Software / Software Services4 - 6 yrs',\n",
       " 'IT-Software / Software Services4 - 7 yrs',\n",
       " 'IT-Software / Software Services4 - 8 yrs',\n",
       " 'IT-Software / Software Services4 - 9 yrs',\n",
       " 'IT-Software / Software Services5 - 10 yrs',\n",
       " 'IT-Software / Software Services5 - 6 yrs',\n",
       " 'IT-Software / Software Services5 - 7 yrs',\n",
       " 'IT-Software / Software Services5 - 8 yrs',\n",
       " 'IT-Software / Software Services5 - 9 yrs',\n",
       " 'IT-Software / Software Services6 - 10 yrs',\n",
       " 'IT-Software / Software Services6 - 11 yrs',\n",
       " 'IT-Software / Software Services6 - 8 yrs',\n",
       " 'IT-Software / Software Services6 - 9 yrs',\n",
       " 'IT-Software / Software Services7 - 10 yrs',\n",
       " 'IT-Software / Software Services7 - 11 yrs',\n",
       " 'IT-Software / Software Services7 - 12 yrs',\n",
       " 'IT-Software / Software Services7 - 8 yrs',\n",
       " 'IT-Software / Software Services7 - 9 yrs',\n",
       " 'IT-Software / Software Services8 - 10 yrs',\n",
       " 'IT-Software / Software Services8 - 11 yrs',\n",
       " 'IT-Software / Software Services8 - 12 yrs',\n",
       " 'IT-Software / Software Services8 - 13 yrs',\n",
       " 'IT-Software / Software Services9 - 10 yrs',\n",
       " 'IT-Software / Software Services9 - 11 yrs',\n",
       " 'IT-Software / Software Services9 - 13 yrs',\n",
       " 'IT-Software / Software Services9 - 14 yrs',\n",
       " 'Industrial Products / Heavy Machinery0 - 0 yrs',\n",
       " 'Industrial Products / Heavy Machinery0 - 1 yrs',\n",
       " 'Industrial Products / Heavy Machinery0 - 2 yrs',\n",
       " 'Industrial Products / Heavy Machinery0 - 3 yrs',\n",
       " 'Industrial Products / Heavy Machinery0 - 5 yrs',\n",
       " 'Industrial Products / Heavy Machinery1 - 2 yrs',\n",
       " 'Industrial Products / Heavy Machinery1 - 3 yrs',\n",
       " 'Industrial Products / Heavy Machinery1 - 5 yrs',\n",
       " 'Industrial Products / Heavy Machinery1 - 6 yrs',\n",
       " 'Industrial Products / Heavy Machinery10 - 12 yrs',\n",
       " 'Industrial Products / Heavy Machinery10 - 17 yrs',\n",
       " 'Industrial Products / Heavy Machinery10 - 18 yrs',\n",
       " 'Industrial Products / Heavy Machinery10 - 20 yrs',\n",
       " 'Industrial Products / Heavy Machinery12 - 15 yrs',\n",
       " 'Industrial Products / Heavy Machinery15 - 25 yrs',\n",
       " 'Industrial Products / Heavy Machinery2 - 3 yrs',\n",
       " 'Industrial Products / Heavy Machinery2 - 4 yrs',\n",
       " 'Industrial Products / Heavy Machinery2 - 5 yrs',\n",
       " 'Industrial Products / Heavy Machinery2 - 6 yrs',\n",
       " 'Industrial Products / Heavy Machinery3 - 5 yrs',\n",
       " 'Industrial Products / Heavy Machinery3 - 6 yrs',\n",
       " 'Industrial Products / Heavy Machinery3 - 7 yrs',\n",
       " 'Industrial Products / Heavy Machinery3 - 8 yrs',\n",
       " 'Industrial Products / Heavy Machinery4 - 5 yrs',\n",
       " 'Industrial Products / Heavy Machinery5 - 10 yrs',\n",
       " 'Industrial Products / Heavy Machinery5 - 6 yrs',\n",
       " 'Industrial Products / Heavy Machinery5 - 8 yrs',\n",
       " 'Industrial Products / Heavy Machinery6 - 11 yrs',\n",
       " 'Industrial Products / Heavy Machinery6 - 7 yrs',\n",
       " 'Industrial Products / Heavy Machinery6 - 8 yrs',\n",
       " 'Industrial Products / Heavy Machinery8 - 12 yrs',\n",
       " 'Insurance0 - 1 yrs',\n",
       " 'Insurance0 - 2 yrs',\n",
       " 'Insurance0 - 5 yrs',\n",
       " 'Insurance1 - 3 yrs',\n",
       " 'Insurance1 - 4 yrs',\n",
       " 'Insurance1 - 5 yrs',\n",
       " 'Insurance1 - 6 yrs',\n",
       " 'Insurance10 - 20 yrs',\n",
       " 'Insurance2 - 4 yrs',\n",
       " 'Insurance2 - 5 yrs',\n",
       " 'Insurance2 - 6 yrs',\n",
       " 'Insurance2 - 7 yrs',\n",
       " 'Insurance3 - 4 yrs',\n",
       " 'Insurance3 - 5 yrs',\n",
       " 'Insurance3 - 8 yrs',\n",
       " 'Insurance4 - 6 yrs',\n",
       " 'Insurance4 - 9 yrs',\n",
       " 'Insurance5 - 10 yrs',\n",
       " 'Insurance5 - 8 yrs',\n",
       " 'Insurance8 - 10 yrs',\n",
       " 'Insurance8 - 12 yrs',\n",
       " 'Internet / Ecommerce0 - 1 yrs',\n",
       " 'Internet / Ecommerce0 - 2 yrs',\n",
       " 'Internet / Ecommerce0 - 3 yrs',\n",
       " 'Internet / Ecommerce0 - 4 yrs',\n",
       " 'Internet / Ecommerce0 - 5 yrs',\n",
       " 'Internet / Ecommerce1 - 2 yrs',\n",
       " 'Internet / Ecommerce1 - 3 yrs',\n",
       " 'Internet / Ecommerce1 - 4 yrs',\n",
       " 'Internet / Ecommerce1 - 5 yrs',\n",
       " 'Internet / Ecommerce1 - 6 yrs',\n",
       " 'Internet / Ecommerce10 - 14 yrs',\n",
       " 'Internet / Ecommerce10 - 15 yrs',\n",
       " 'Internet / Ecommerce12 - 16 yrs',\n",
       " 'Internet / Ecommerce14 - 18 yrs',\n",
       " 'Internet / Ecommerce2 - 3 yrs',\n",
       " 'Internet / Ecommerce2 - 4 yrs',\n",
       " 'Internet / Ecommerce2 - 5 yrs',\n",
       " 'Internet / Ecommerce2 - 6 yrs',\n",
       " 'Internet / Ecommerce2 - 7 yrs',\n",
       " 'Internet / Ecommerce3 - 4 yrs',\n",
       " 'Internet / Ecommerce3 - 5 yrs',\n",
       " 'Internet / Ecommerce3 - 7 yrs',\n",
       " 'Internet / Ecommerce3 - 8 yrs',\n",
       " 'Internet / Ecommerce4 - 6 yrs',\n",
       " 'Internet / Ecommerce4 - 7 yrs',\n",
       " 'Internet / Ecommerce4 - 8 yrs',\n",
       " 'Internet / Ecommerce4 - 9 yrs',\n",
       " 'Internet / Ecommerce5 - 10 yrs',\n",
       " 'Internet / Ecommerce5 - 8 yrs',\n",
       " 'Internet / Ecommerce6 - 10 yrs',\n",
       " 'Internet / Ecommerce6 - 11 yrs',\n",
       " 'Internet / Ecommerce6 - 7 yrs',\n",
       " 'Internet / Ecommerce8 - 13 yrs',\n",
       " 'Internet / Ecommerce9 - 14 yrs',\n",
       " 'Iron and Steel0 - 1 yrs',\n",
       " 'Iron and Steel10 - 15 yrs',\n",
       " 'Iron and Steel10 - 20 yrs',\n",
       " 'KPO / Research / Analytics0 - 1 yrs',\n",
       " 'KPO / Research / Analytics0 - 2 yrs',\n",
       " 'KPO / Research / Analytics0 - 3 yrs',\n",
       " 'KPO / Research / Analytics0 - 5 yrs',\n",
       " 'KPO / Research / Analytics1 - 2 yrs',\n",
       " 'KPO / Research / Analytics1 - 4 yrs',\n",
       " 'KPO / Research / Analytics1 - 6 yrs',\n",
       " 'KPO / Research / Analytics10 - 20 yrs',\n",
       " 'KPO / Research / Analytics2 - 3 yrs',\n",
       " 'KPO / Research / Analytics2 - 4 yrs',\n",
       " 'KPO / Research / Analytics2 - 7 yrs',\n",
       " 'KPO / Research / Analytics4 - 8 yrs',\n",
       " 'KPO / Research / Analytics5 - 10 yrs',\n",
       " 'KPO / Research / Analytics5 - 7 yrs',\n",
       " 'KPO / Research / Analytics7 - 12 yrs',\n",
       " 'KPO / Research / Analytics8 - 12 yrs',\n",
       " 'KPO / Research / Analytics8 - 13 yrs',\n",
       " 'Legal1 - 3 yrs',\n",
       " 'Legal1 - 5 yrs',\n",
       " 'Legal4 - 7 yrs',\n",
       " 'Legal9 - 14 yrs',\n",
       " 'Media / Entertainment / Internet0 - 1 yrs',\n",
       " 'Media / Entertainment / Internet0 - 2 yrs',\n",
       " 'Media / Entertainment / Internet0 - 3 yrs',\n",
       " 'Media / Entertainment / Internet0 - 4 yrs',\n",
       " 'Media / Entertainment / Internet1 - 3 yrs',\n",
       " 'Media / Entertainment / Internet1 - 4 yrs',\n",
       " 'Media / Entertainment / Internet1 - 5 yrs',\n",
       " 'Media / Entertainment / Internet1 - 6 yrs',\n",
       " 'Media / Entertainment / Internet2 - 4 yrs',\n",
       " 'Media / Entertainment / Internet2 - 5 yrs',\n",
       " 'Media / Entertainment / Internet2 - 6 yrs',\n",
       " 'Media / Entertainment / Internet2 - 7 yrs',\n",
       " 'Media / Entertainment / Internet3 - 5 yrs',\n",
       " 'Media / Entertainment / Internet3 - 8 yrs',\n",
       " 'Media / Entertainment / Internet4 - 8 yrs',\n",
       " 'Media / Entertainment / Internet4 - 9 yrs',\n",
       " 'Media / Entertainment / Internet5 - 10 yrs',\n",
       " 'Media / Entertainment / Internet5 - 6 yrs',\n",
       " 'Media / Entertainment / Internet6 - 10 yrs',\n",
       " 'Media / Entertainment / Internet6 - 11 yrs',\n",
       " 'Media / Entertainment / Internet7 - 10 yrs',\n",
       " 'Media / Entertainment / Internet7 - 12 yrs',\n",
       " 'Medical / Healthcare / Hospitals0 - 0 yrs',\n",
       " 'Medical / Healthcare / Hospitals0 - 1 yrs',\n",
       " 'Medical / Healthcare / Hospitals0 - 2 yrs',\n",
       " 'Medical / Healthcare / Hospitals0 - 3 yrs',\n",
       " 'Medical / Healthcare / Hospitals0 - 4 yrs',\n",
       " 'Medical / Healthcare / Hospitals0 - 5 yrs',\n",
       " 'Medical / Healthcare / Hospitals1 - 2 yrs',\n",
       " 'Medical / Healthcare / Hospitals1 - 3 yrs',\n",
       " 'Medical / Healthcare / Hospitals1 - 4 yrs',\n",
       " 'Medical / Healthcare / Hospitals1 - 5 yrs',\n",
       " 'Medical / Healthcare / Hospitals1 - 6 yrs',\n",
       " 'Medical / Healthcare / Hospitals10 - 14 yrs',\n",
       " 'Medical / Healthcare / Hospitals10 - 15 yrs',\n",
       " 'Medical / Healthcare / Hospitals10 - 18 yrs',\n",
       " 'Medical / Healthcare / Hospitals10 - 20 yrs',\n",
       " 'Medical / Healthcare / Hospitals12 - 20 yrs',\n",
       " 'Medical / Healthcare / Hospitals2 - 3 yrs',\n",
       " 'Medical / Healthcare / Hospitals2 - 4 yrs',\n",
       " 'Medical / Healthcare / Hospitals2 - 5 yrs',\n",
       " 'Medical / Healthcare / Hospitals2 - 6 yrs',\n",
       " 'Medical / Healthcare / Hospitals2 - 7 yrs',\n",
       " 'Medical / Healthcare / Hospitals3 - 5 yrs',\n",
       " 'Medical / Healthcare / Hospitals3 - 6 yrs',\n",
       " 'Medical / Healthcare / Hospitals3 - 8 yrs',\n",
       " 'Medical / Healthcare / Hospitals4 - 5 yrs',\n",
       " 'Medical / Healthcare / Hospitals4 - 8 yrs',\n",
       " 'Medical / Healthcare / Hospitals5 - 10 yrs',\n",
       " 'Medical / Healthcare / Hospitals5 - 8 yrs',\n",
       " 'Medical / Healthcare / Hospitals5 - 9 yrs',\n",
       " 'Medical / Healthcare / Hospitals6 - 10 yrs',\n",
       " 'Medical / Healthcare / Hospitals6 - 11 yrs',\n",
       " 'Medical / Healthcare / Hospitals6 - 8 yrs',\n",
       " 'Medical / Healthcare / Hospitals7 - 11 yrs',\n",
       " 'Medical / Healthcare / Hospitals8 - 12 yrs',\n",
       " 'Medical / Healthcare / Hospitals9 - 10 yrs',\n",
       " 'Medical / Healthcare / Hospitals9 - 14 yrs',\n",
       " 'Medical Devices / Equipments15 - 20 yrs',\n",
       " 'Medical Devices / Equipments2 - 4 yrs',\n",
       " 'NGO / Social Services / Regulators / Industry Associations0 - 5 yrs',\n",
       " 'NGO / Social Services / Regulators / Industry Associations1 - 2 yrs',\n",
       " 'NGO / Social Services / Regulators / Industry Associations1 - 3 yrs',\n",
       " 'NGO / Social Services / Regulators / Industry Associations2 - 4 yrs',\n",
       " 'Office Equipment / Automation1 - 5 yrs',\n",
       " 'Office Equipment / Automation1 - 6 yrs',\n",
       " 'Office Equipment / Automation2 - 6 yrs',\n",
       " 'Office Equipment / Automation3 - 8 yrs',\n",
       " 'Oil and Gas / Energy / Power / Infrastructure0 - 1 yrs',\n",
       " 'Oil and Gas / Energy / Power / Infrastructure0 - 2 yrs',\n",
       " 'Oil and Gas / Energy / Power / Infrastructure0 - 3 yrs',\n",
       " 'Oil and Gas / Energy / Power / Infrastructure0 - 5 yrs',\n",
       " 'Oil and Gas / Energy / Power / Infrastructure1 - 3 yrs',\n",
       " 'Oil and Gas / Energy / Power / Infrastructure1 - 4 yrs',\n",
       " 'Oil and Gas / Energy / Power / Infrastructure1 - 6 yrs',\n",
       " 'Oil and Gas / Energy / Power / Infrastructure10 - 12 yrs',\n",
       " 'Oil and Gas / Energy / Power / Infrastructure11 - 17 yrs',\n",
       " 'Oil and Gas / Energy / Power / Infrastructure2 - 3 yrs',\n",
       " 'Oil and Gas / Energy / Power / Infrastructure2 - 4 yrs',\n",
       " 'Oil and Gas / Energy / Power / Infrastructure2 - 5 yrs',\n",
       " 'Oil and Gas / Energy / Power / Infrastructure2 - 7 yrs',\n",
       " 'Oil and Gas / Energy / Power / Infrastructure3 - 7 yrs',\n",
       " 'Oil and Gas / Energy / Power / Infrastructure3 - 8 yrs',\n",
       " 'Oil and Gas / Energy / Power / Infrastructure4 - 9 yrs',\n",
       " 'Oil and Gas / Energy / Power / Infrastructure6 - 11 yrs',\n",
       " 'Oil and Gas / Energy / Power / Infrastructure7 - 12 yrs',\n",
       " 'Other0 - 0 yrs',\n",
       " 'Other0 - 1 yrs',\n",
       " 'Other0 - 2 yrs',\n",
       " 'Other0 - 3 yrs',\n",
       " 'Other0 - 4 yrs',\n",
       " 'Other0 - 5 yrs',\n",
       " 'Other1 - 2 yrs',\n",
       " 'Other1 - 3 yrs',\n",
       " 'Other1 - 5 yrs',\n",
       " 'Other1 - 6 yrs',\n",
       " 'Other10 - 12 yrs',\n",
       " 'Other10 - 20 yrs',\n",
       " 'Other2 - 4 yrs',\n",
       " 'Other2 - 5 yrs',\n",
       " 'Other2 - 6 yrs',\n",
       " 'Other2 - 7 yrs',\n",
       " 'Other3 - 6 yrs',\n",
       " 'Other3 - 7 yrs',\n",
       " 'Other3 - 8 yrs',\n",
       " 'Other4 - 6 yrs',\n",
       " 'Other4 - 8 yrs',\n",
       " 'Other4 - 9 yrs',\n",
       " 'Other5 - 10 yrs',\n",
       " 'Other5 - 8 yrs',\n",
       " 'Other5 - 9 yrs',\n",
       " 'Other7 - 12 yrs',\n",
       " 'Other8 - 13 yrs',\n",
       " 'Other9 - 11 yrs',\n",
       " 'Pharma / Biotech / Clinical Research0 - 0 yrs',\n",
       " 'Pharma / Biotech / Clinical Research0 - 1 yrs',\n",
       " 'Pharma / Biotech / Clinical Research0 - 2 yrs',\n",
       " 'Pharma / Biotech / Clinical Research0 - 3 yrs',\n",
       " 'Pharma / Biotech / Clinical Research0 - 4 yrs',\n",
       " 'Pharma / Biotech / Clinical Research0 - 5 yrs',\n",
       " 'Pharma / Biotech / Clinical Research1 - 2 yrs',\n",
       " 'Pharma / Biotech / Clinical Research1 - 3 yrs',\n",
       " 'Pharma / Biotech / Clinical Research1 - 4 yrs',\n",
       " 'Pharma / Biotech / Clinical Research1 - 5 yrs',\n",
       " 'Pharma / Biotech / Clinical Research1 - 6 yrs',\n",
       " 'Pharma / Biotech / Clinical Research10 - 12 yrs',\n",
       " 'Pharma / Biotech / Clinical Research10 - 15 yrs',\n",
       " 'Pharma / Biotech / Clinical Research12 - 20 yrs',\n",
       " 'Pharma / Biotech / Clinical Research13 - 16 yrs',\n",
       " 'Pharma / Biotech / Clinical Research15 - 20 yrs',\n",
       " 'Pharma / Biotech / Clinical Research17 - 27 yrs',\n",
       " 'Pharma / Biotech / Clinical Research2 - 5 yrs',\n",
       " 'Pharma / Biotech / Clinical Research2 - 6 yrs',\n",
       " 'Pharma / Biotech / Clinical Research2 - 7 yrs',\n",
       " 'Pharma / Biotech / Clinical Research3 - 5 yrs',\n",
       " 'Pharma / Biotech / Clinical Research3 - 6 yrs',\n",
       " 'Pharma / Biotech / Clinical Research3 - 8 yrs',\n",
       " 'Pharma / Biotech / Clinical Research4 - 6 yrs',\n",
       " 'Pharma / Biotech / Clinical Research4 - 9 yrs',\n",
       " 'Pharma / Biotech / Clinical Research5 - 10 yrs',\n",
       " 'Pharma / Biotech / Clinical Research5 - 7 yrs',\n",
       " 'Pharma / Biotech / Clinical Research5 - 8 yrs',\n",
       " 'Pharma / Biotech / Clinical Research6 - 10 yrs',\n",
       " 'Pharma / Biotech / Clinical Research6 - 8 yrs',\n",
       " 'Pharma / Biotech / Clinical Research7 - 8 yrs',\n",
       " 'Pharma / Biotech / Clinical Research7 - 9 yrs',\n",
       " 'Pharma / Biotech / Clinical Research8 - 10 yrs',\n",
       " 'Pharma / Biotech / Clinical Research8 - 13 yrs',\n",
       " 'Printing / Packaging0 - 3 yrs',\n",
       " 'Printing / Packaging0 - 4 yrs',\n",
       " 'Printing / Packaging1 - 5 yrs',\n",
       " 'Printing / Packaging10 - 18 yrs',\n",
       " 'Printing / Packaging2 - 4 yrs',\n",
       " 'Printing / Packaging2 - 5 yrs',\n",
       " 'Printing / Packaging3 - 4 yrs',\n",
       " 'Printing / Packaging4 - 7 yrs',\n",
       " 'Printing / Packaging4 - 8 yrs',\n",
       " 'Printing / Packaging4 - 9 yrs',\n",
       " 'Printing / Packaging5 - 10 yrs',\n",
       " 'Printing / Packaging8 - 13 yrs',\n",
       " 'Publishing0 - 4 yrs',\n",
       " 'Publishing0 - 5 yrs',\n",
       " 'Publishing1 - 5 yrs',\n",
       " 'Publishing2 - 4 yrs',\n",
       " 'Publishing2 - 7 yrs',\n",
       " 'Publishing3 - 6 yrs',\n",
       " 'Publishing3 - 7 yrs',\n",
       " 'Publishing7 - 10 yrs',\n",
       " 'Pulp and Paper12 - 15 yrs',\n",
       " 'Pulp and Paper3 - 8 yrs',\n",
       " 'Real Estate / Property0 - 1 yrs',\n",
       " 'Real Estate / Property0 - 2 yrs',\n",
       " 'Real Estate / Property0 - 4 yrs',\n",
       " 'Real Estate / Property0 - 5 yrs',\n",
       " 'Real Estate / Property1 - 2 yrs',\n",
       " 'Real Estate / Property1 - 3 yrs',\n",
       " 'Real Estate / Property1 - 4 yrs',\n",
       " 'Real Estate / Property1 - 5 yrs',\n",
       " 'Real Estate / Property1 - 6 yrs',\n",
       " 'Real Estate / Property10 - 15 yrs',\n",
       " 'Real Estate / Property10 - 17 yrs',\n",
       " 'Real Estate / Property12 - 20 yrs',\n",
       " 'Real Estate / Property14 - 22 yrs',\n",
       " 'Real Estate / Property2 - 4 yrs',\n",
       " 'Real Estate / Property2 - 5 yrs',\n",
       " 'Real Estate / Property2 - 6 yrs',\n",
       " 'Real Estate / Property2 - 7 yrs',\n",
       " 'Real Estate / Property3 - 6 yrs',\n",
       " 'Real Estate / Property3 - 8 yrs',\n",
       " 'Real Estate / Property4 - 8 yrs',\n",
       " 'Real Estate / Property4 - 9 yrs',\n",
       " 'Real Estate / Property5 - 10 yrs',\n",
       " 'Real Estate / Property5 - 7 yrs',\n",
       " 'Real Estate / Property5 - 8 yrs',\n",
       " 'Real Estate / Property6 - 10 yrs',\n",
       " 'Real Estate / Property6 - 11 yrs',\n",
       " 'Real Estate / Property8 - 12 yrs',\n",
       " 'Real Estate / Property9 - 12 yrs',\n",
       " 'Recruitment / Staffing0 - 0 yrs',\n",
       " 'Recruitment / Staffing0 - 1 yrs',\n",
       " 'Recruitment / Staffing0 - 2 yrs',\n",
       " 'Recruitment / Staffing0 - 3 yrs',\n",
       " 'Recruitment / Staffing0 - 4 yrs',\n",
       " 'Recruitment / Staffing0 - 5 yrs',\n",
       " 'Recruitment / Staffing1 - 2 yrs',\n",
       " 'Recruitment / Staffing1 - 3 yrs',\n",
       " 'Recruitment / Staffing1 - 4 yrs',\n",
       " 'Recruitment / Staffing1 - 5 yrs',\n",
       " 'Recruitment / Staffing1 - 6 yrs',\n",
       " 'Recruitment / Staffing10 - 20 yrs',\n",
       " 'Recruitment / Staffing12 - 15 yrs',\n",
       " 'Recruitment / Staffing2 - 4 yrs',\n",
       " 'Recruitment / Staffing2 - 5 yrs',\n",
       " 'Recruitment / Staffing2 - 6 yrs',\n",
       " 'Recruitment / Staffing2 - 7 yrs',\n",
       " 'Recruitment / Staffing3 - 7 yrs',\n",
       " 'Recruitment / Staffing3 - 8 yrs',\n",
       " 'Recruitment / Staffing4 - 7 yrs',\n",
       " 'Recruitment / Staffing4 - 8 yrs',\n",
       " 'Recruitment / Staffing4 - 9 yrs',\n",
       " 'Recruitment / Staffing5 - 10 yrs',\n",
       " 'Recruitment / Staffing6 - 10 yrs',\n",
       " 'Recruitment / Staffing7 - 10 yrs',\n",
       " 'Retail / Wholesale0 - 0 yrs',\n",
       " 'Retail / Wholesale0 - 2 yrs',\n",
       " 'Retail / Wholesale0 - 3 yrs',\n",
       " 'Retail / Wholesale0 - 4 yrs',\n",
       " 'Retail / Wholesale0 - 5 yrs',\n",
       " 'Retail / Wholesale1 - 2 yrs',\n",
       " 'Retail / Wholesale1 - 4 yrs',\n",
       " 'Retail / Wholesale1 - 5 yrs',\n",
       " 'Retail / Wholesale10 - 15 yrs',\n",
       " 'Retail / Wholesale12 - 16 yrs',\n",
       " 'Retail / Wholesale15 - 21 yrs',\n",
       " 'Retail / Wholesale2 - 4 yrs',\n",
       " 'Retail / Wholesale2 - 6 yrs',\n",
       " 'Retail / Wholesale2 - 7 yrs',\n",
       " 'Retail / Wholesale3 - 5 yrs',\n",
       " 'Retail / Wholesale3 - 7 yrs',\n",
       " 'Retail / Wholesale3 - 8 yrs',\n",
       " 'Retail / Wholesale5 - 10 yrs',\n",
       " 'Retail / Wholesale5 - 7 yrs',\n",
       " 'Retail / Wholesale5 - 8 yrs',\n",
       " 'Retail / Wholesale6 - 10 yrs',\n",
       " 'Retail / Wholesale6 - 11 yrs',\n",
       " 'Retail / Wholesale6 - 9 yrs',\n",
       " 'Retail / Wholesale7 - 12 yrs',\n",
       " 'Retail / Wholesale8 - 13 yrs',\n",
       " 'Security / Law Enforcement2 - 4 yrs',\n",
       " 'Security / Law Enforcement2 - 6 yrs',\n",
       " 'Security / Law Enforcement2 - 7 yrs',\n",
       " 'Security / Law Enforcement3 - 5 yrs',\n",
       " 'Security / Law Enforcement5 - 9 yrs',\n",
       " 'Security / Law Enforcement6 - 9 yrs',\n",
       " 'Security / Law Enforcement7 - 8 yrs',\n",
       " 'Security / Law Enforcement8 - 12 yrs',\n",
       " 'Semiconductors / Electronics0 - 1 yrs',\n",
       " 'Semiconductors / Electronics0 - 5 yrs',\n",
       " 'Semiconductors / Electronics1 - 2 yrs',\n",
       " 'Semiconductors / Electronics1 - 6 yrs',\n",
       " 'Semiconductors / Electronics2 - 7 yrs',\n",
       " 'Semiconductors / Electronics3 - 8 yrs',\n",
       " 'Semiconductors / Electronics5 - 10 yrs',\n",
       " 'Semiconductors / Electronics5 - 7 yrs',\n",
       " 'Semiconductors / Electronics7 - 12 yrs',\n",
       " 'Shipping / Marine0 - 3 yrs',\n",
       " 'Shipping / Marine0 - 4 yrs',\n",
       " 'Shipping / Marine1 - 6 yrs',\n",
       " 'Shipping / Marine10 - 20 yrs',\n",
       " 'Shipping / Marine3 - 5 yrs',\n",
       " 'Shipping / Marine5 - 10 yrs',\n",
       " 'Strategy / Management Consulting Firms0 - 1 yrs',\n",
       " 'Strategy / Management Consulting Firms0 - 5 yrs',\n",
       " 'Strategy / Management Consulting Firms1 - 3 yrs',\n",
       " 'Strategy / Management Consulting Firms1 - 5 yrs',\n",
       " 'Strategy / Management Consulting Firms1 - 6 yrs',\n",
       " 'Strategy / Management Consulting Firms10 - 12 yrs',\n",
       " 'Strategy / Management Consulting Firms2 - 3 yrs',\n",
       " 'Strategy / Management Consulting Firms2 - 4 yrs',\n",
       " 'Strategy / Management Consulting Firms2 - 5 yrs',\n",
       " 'Strategy / Management Consulting Firms2 - 7 yrs',\n",
       " 'Strategy / Management Consulting Firms3 - 5 yrs',\n",
       " 'Strategy / Management Consulting Firms3 - 6 yrs',\n",
       " 'Strategy / Management Consulting Firms3 - 8 yrs',\n",
       " 'Strategy / Management Consulting Firms4 - 8 yrs',\n",
       " 'Strategy / Management Consulting Firms5 - 10 yrs',\n",
       " 'Strategy / Management Consulting Firms6 - 11 yrs',\n",
       " 'Strategy / Management Consulting Firms7 - 12 yrs',\n",
       " 'Strategy / Management Consulting Firms8 - 10 yrs',\n",
       " 'Strategy / Management Consulting Firms8 - 12 yrs',\n",
       " 'Telecom/ISP /0 - 2 yrs',\n",
       " 'Telecom/ISP /1 - 2 yrs',\n",
       " 'Telecom/ISP /1 - 3 yrs',\n",
       " 'Telecom/ISP /1 - 4 yrs',\n",
       " 'Telecom/ISP /1 - 6 yrs',\n",
       " 'Telecom/ISP /10 - 13 yrs',\n",
       " 'Telecom/ISP /2 - 4 yrs',\n",
       " 'Telecom/ISP /2 - 5 yrs',\n",
       " 'Telecom/ISP /2 - 7 yrs',\n",
       " 'Telecom/ISP /3 - 6 yrs',\n",
       " 'Telecom/ISP /3 - 8 yrs',\n",
       " 'Telecom/ISP /4 - 9 yrs',\n",
       " 'Telecom/ISP /5 - 10 yrs',\n",
       " 'Telecom/ISP /5 - 7 yrs',\n",
       " 'Telecom/ISP /6 - 11 yrs',\n",
       " 'Telecom/ISP /8 - 13 yrs',\n",
       " 'Telecom/ISP0 - 3 yrs',\n",
       " 'Telecom/ISP10 - 14 yrs',\n",
       " 'Telecom/ISP10 - 20 yrs',\n",
       " 'Telecom/ISP11 - 16 yrs',\n",
       " 'Telecom/ISP2 - 2 yrs',\n",
       " 'Telecom/ISP2 - 4 yrs',\n",
       " 'Telecom/ISP4 - 7 yrs',\n",
       " 'Telecom/ISP4 - 8 yrs',\n",
       " 'Telecom/ISP4 - 9 yrs',\n",
       " 'Telecom/ISP7 - 12 yrs',\n",
       " 'Telecom/ISP8 - 13 yrs',\n",
       " 'Textiles / Garments / Accessories0 - 3 yrs',\n",
       " 'Textiles / Garments / Accessories1 - 2 yrs',\n",
       " 'Textiles / Garments / Accessories1 - 4 yrs',\n",
       " 'Textiles / Garments / Accessories1 - 5 yrs',\n",
       " 'Textiles / Garments / Accessories10 - 15 yrs',\n",
       " 'Textiles / Garments / Accessories10 - 20 yrs',\n",
       " 'Textiles / Garments / Accessories15 - 20 yrs',\n",
       " 'Textiles / Garments / Accessories15 - 22 yrs',\n",
       " 'Textiles / Garments / Accessories16 - 20 yrs',\n",
       " 'Textiles / Garments / Accessories2 - 3 yrs',\n",
       " 'Textiles / Garments / Accessories20 - 30 yrs',\n",
       " 'Textiles / Garments / Accessories3 - 5 yrs',\n",
       " 'Textiles / Garments / Accessories3 - 6 yrs',\n",
       " 'Textiles / Garments / Accessories4 - 5 yrs',\n",
       " 'Textiles / Garments / Accessories4 - 8 yrs',\n",
       " 'Textiles / Garments / Accessories5 - 10 yrs',\n",
       " 'Textiles / Garments / Accessories5 - 6 yrs',\n",
       " 'Textiles / Garments / Accessories5 - 8 yrs',\n",
       " 'Textiles / Garments / Accessories7 - 11 yrs',\n",
       " 'Textiles / Garments / Accessories7 - 12 yrs',\n",
       " 'Textiles / Garments / Accessories8 - 10 yrs',\n",
       " 'Textiles / Garments / Accessories8 - 12 yrs',\n",
       " 'Textiles / Garments / Accessories9 - 14 yrs',\n",
       " 'Travel / Hotels / Restaurants / Airlines / Railways0 - 0 yrs',\n",
       " 'Travel / Hotels / Restaurants / Airlines / Railways0 - 2 yrs',\n",
       " 'Travel / Hotels / Restaurants / Airlines / Railways0 - 3 yrs',\n",
       " 'Travel / Hotels / Restaurants / Airlines / Railways0 - 4 yrs',\n",
       " 'Travel / Hotels / Restaurants / Airlines / Railways0 - 5 yrs',\n",
       " 'Travel / Hotels / Restaurants / Airlines / Railways1 - 3 yrs',\n",
       " 'Travel / Hotels / Restaurants / Airlines / Railways1 - 4 yrs',\n",
       " 'Travel / Hotels / Restaurants / Airlines / Railways1 - 5 yrs',\n",
       " 'Travel / Hotels / Restaurants / Airlines / Railways1 - 6 yrs',\n",
       " 'Travel / Hotels / Restaurants / Airlines / Railways10 - 12 yrs',\n",
       " 'Travel / Hotels / Restaurants / Airlines / Railways10 - 15 yrs',\n",
       " 'Travel / Hotels / Restaurants / Airlines / Railways15 - 20 yrs',\n",
       " 'Travel / Hotels / Restaurants / Airlines / Railways2 - 4 yrs',\n",
       " 'Travel / Hotels / Restaurants / Airlines / Railways2 - 5 yrs',\n",
       " 'Travel / Hotels / Restaurants / Airlines / Railways2 - 6 yrs',\n",
       " 'Travel / Hotels / Restaurants / Airlines / Railways2 - 7 yrs',\n",
       " 'Travel / Hotels / Restaurants / Airlines / Railways3 - 5 yrs',\n",
       " 'Travel / Hotels / Restaurants / Airlines / Railways3 - 6 yrs',\n",
       " 'Travel / Hotels / Restaurants / Airlines / Railways3 - 7 yrs',\n",
       " 'Travel / Hotels / Restaurants / Airlines / Railways3 - 8 yrs',\n",
       " 'Travel / Hotels / Restaurants / Airlines / Railways4 - 8 yrs',\n",
       " 'Travel / Hotels / Restaurants / Airlines / Railways5 - 10 yrs',\n",
       " 'Travel / Hotels / Restaurants / Airlines / Railways5 - 6 yrs',\n",
       " 'Travel / Hotels / Restaurants / Airlines / Railways5 - 7 yrs',\n",
       " 'Travel / Hotels / Restaurants / Airlines / Railways5 - 8 yrs',\n",
       " 'Travel / Hotels / Restaurants / Airlines / Railways6 - 11 yrs',\n",
       " 'Travel / Hotels / Restaurants / Airlines / Railways6 - 8 yrs',\n",
       " 'Travel / Hotels / Restaurants / Airlines / Railways7 - 10 yrs',\n",
       " 'Travel / Hotels / Restaurants / Airlines / Railways7 - 12 yrs',\n",
       " 'Water Treatment / Waste Management0 - 4 yrs',\n",
       " 'Water Treatment / Waste Management1 - 6 yrs',\n",
       " 'Water Treatment / Waste Management5 - 10 yrs',\n",
       " 'Water Treatment / Waste Management6 - 11 yrs',\n",
       " 'Wellness / Fitness / Sports / Beauty0 - 3 yrs',\n",
       " 'Wellness / Fitness / Sports / Beauty1 - 2 yrs',\n",
       " 'Wellness / Fitness / Sports / Beauty1 - 3 yrs',\n",
       " 'Wellness / Fitness / Sports / Beauty1 - 6 yrs',\n",
       " 'Wellness / Fitness / Sports0 - 2 yrs',\n",
       " 'Wellness / Fitness / Sports1 - 2 yrs',\n",
       " 'Wellness / Fitness / Sports1 - 6 yrs',\n",
       " 'Wellness / Fitness / Sports2 - 5 yrs',\n",
       " 'Wellness / Fitness / Sports7 - 10 yrs']"
      ]
     },
     "execution_count": 82,
     "metadata": {},
     "output_type": "execute_result"
    }
   ],
   "source": [
    "from sklearn import preprocessing\n",
    "le = preprocessing.LabelEncoder()\n",
    "le.fit(P_train)\n",
    "list(le.classes_)"
   ]
  },
  {
   "cell_type": "code",
   "execution_count": 83,
   "metadata": {},
   "outputs": [
    {
     "data": {
      "text/plain": [
       "array([834,  97, 437, ..., 468, 673, 868], dtype=int64)"
      ]
     },
     "execution_count": 83,
     "metadata": {},
     "output_type": "execute_result"
    }
   ],
   "source": [
    "le.transform(P_train)"
   ]
  },
  {
   "cell_type": "code",
   "execution_count": 84,
   "metadata": {},
   "outputs": [
    {
     "data": {
      "text/plain": [
       "array([326, 520, 405, ..., 546,  17, 522], dtype=int64)"
      ]
     },
     "execution_count": 84,
     "metadata": {},
     "output_type": "execute_result"
    }
   ],
   "source": [
    "le.fit(P_test)\n",
    "le.transform(P_test)"
   ]
  },
  {
   "cell_type": "code",
   "execution_count": 85,
   "metadata": {},
   "outputs": [
    {
     "name": "stdout",
     "output_type": "stream",
     "text": [
      "[[-0.54193108 -0.15348166  1.82153156 -0.29712413 -0.30554822  0.0558636\n",
      "   0.11766064  0.811924    0.34022078  0.08809386 -0.27018436  0.19774896\n",
      "  -0.71508896 -0.45028565 -1.4714129   0.09390218  0.47895362 -1.62942901\n",
      "  -0.24231075 -0.14670223]]\n",
      "[-0.99633206]\n",
      "[0 1 0 0 0 0 0 0 1 1 0 1 1 0 0 0 0 0 0 0 0 0 0 0 1 0 1 1 0 1 1 0 0 0 0 0 0\n",
      " 0 0 1 0 1 0 0 0 1 0 1 1 0 0 0 0 1 0 1 1 0 0 0 1 1 0 1 0 1 1 1 0 1 0 0 0 1\n",
      " 0 1 0 1 1 1 1 0 0 1 1 0 0 0 1 1 0 0 1 1 0 0 0 0 0 1]\n"
     ]
    }
   ],
   "source": [
    "from sklearn.svm import LinearSVC, SVC\n",
    "from sklearn.datasets import make_classification\n",
    "P_train, q_train = make_classification()\n",
    "clf = LinearSVC(multi_class = 'crammer_singer')\n",
    "clf.fit(P_train, q_train)\n",
    "\n",
    "P_test, q_test = make_classification()\n",
    "#clf = LinearSVC(multi_class = 'crammer_singer')\n",
    "#clf.fit(X_test, y_test)\n",
    "print(clf.coef_)\n",
    "print(clf.intercept_)\n",
    "print(clf.predict(P_test))\n"
   ]
  },
  {
   "cell_type": "code",
   "execution_count": 86,
   "metadata": {},
   "outputs": [
    {
     "data": {
      "text/plain": [
       "0.55000000000000004"
      ]
     },
     "execution_count": 86,
     "metadata": {},
     "output_type": "execute_result"
    }
   ],
   "source": [
    "clf.score(P_test, q_test)"
   ]
  },
  {
   "cell_type": "code",
   "execution_count": 87,
   "metadata": {},
   "outputs": [
    {
     "data": {
      "text/plain": [
       "0.55000000000000004"
      ]
     },
     "execution_count": 87,
     "metadata": {},
     "output_type": "execute_result"
    }
   ],
   "source": [
    "from sklearn.multiclass import OneVsRestClassifier\n",
    "clf = OneVsRestClassifier(SVC(kernel = 'linear'))\n",
    "clf.fit(P_train,q_train)\n",
    "clf.predict(P_test)\n",
    "clf.score(P_test, q_test)"
   ]
  },
  {
   "cell_type": "code",
   "execution_count": 88,
   "metadata": {},
   "outputs": [
    {
     "data": {
      "text/plain": [
       "0.53000000000000003"
      ]
     },
     "execution_count": 88,
     "metadata": {},
     "output_type": "execute_result"
    }
   ],
   "source": [
    "from sklearn.tree import DecisionTreeClassifier\n",
    "from sklearn.datasets import load_iris\n",
    "clf = DecisionTreeClassifier(random_state=0)\n",
    "clf.fit(P_train, q_train)\n",
    "clf.predict(P_test)\n",
    "clf.score(P_test, q_test, sample_weight = None)"
   ]
  },
  {
   "cell_type": "code",
   "execution_count": 89,
   "metadata": {},
   "outputs": [
    {
     "data": {
      "text/plain": [
       "0.54000000000000004"
      ]
     },
     "execution_count": 89,
     "metadata": {},
     "output_type": "execute_result"
    }
   ],
   "source": [
    "from sklearn.ensemble import RandomForestClassifier\n",
    "clf = RandomForestClassifier(max_depth=2, random_state=0)\n",
    "clf.fit(P_train, q_train)\n",
    "clf.predict(P_test)\n",
    "clf.score(P_test, q_test)"
   ]
  },
  {
   "cell_type": "code",
   "execution_count": null,
   "metadata": {
    "collapsed": true
   },
   "outputs": [],
   "source": []
  },
  {
   "cell_type": "code",
   "execution_count": null,
   "metadata": {
    "collapsed": true
   },
   "outputs": [],
   "source": []
  },
  {
   "cell_type": "code",
   "execution_count": 90,
   "metadata": {},
   "outputs": [
    {
     "data": {
      "text/plain": [
       "'\\nclass MultinomialEncoder:\\n    def _init_(self, columns = None):\\n        self.columns = columns\\n        \\n    def fit(self, X_test, y_test = None):\\n        return self\\n    \\n    def transform(self, X_test):\\n        output = X_test.copy()\\n        if self.columns is not None:\\n            for col in self.columns:\\n                output[col] = LabelEncoder().fit_transform(output[col])\\n        else:\\n            for colname,col in output.iteritems():\\n                output[colname] = LabelEncoder().fit_transform(col)\\n        return output\\n    \\n    def fit_transform(self,X_test,y_test=None):\\n        return self.fit(X_test,y_test).transform(X_test)\\n  \\n    '"
      ]
     },
     "execution_count": 90,
     "metadata": {},
     "output_type": "execute_result"
    }
   ],
   "source": [
    "\n",
    "\n",
    "\n",
    "\n",
    "\n",
    "\n",
    "\n",
    "\n",
    "'''\n",
    "class MultinomialEncoder:\n",
    "    def _init_(self, columns = None):\n",
    "        self.columns = columns\n",
    "        \n",
    "    def fit(self, X_test, y_test = None):\n",
    "        return self\n",
    "    \n",
    "    def transform(self, X_test):\n",
    "        output = X_test.copy()\n",
    "        if self.columns is not None:\n",
    "            for col in self.columns:\n",
    "                output[col] = LabelEncoder().fit_transform(output[col])\n",
    "        else:\n",
    "            for colname,col in output.iteritems():\n",
    "                output[colname] = LabelEncoder().fit_transform(col)\n",
    "        return output\n",
    "    \n",
    "    def fit_transform(self,X_test,y_test=None):\n",
    "        return self.fit(X_test,y_test).transform(X_test)\n",
    "  \n",
    "    '''"
   ]
  },
  {
   "cell_type": "code",
   "execution_count": 91,
   "metadata": {},
   "outputs": [
    {
     "data": {
      "text/plain": [
       "'\\n#from sklearn.preprocessing import LabelEncoder\\nfrom sklearn import preprocessing\\nfrom sklearn.pipeline import Pipeline\\nclass MultinomialEncoder:\\n    def _init_(self, columns = None):\\n        self.columns = columns\\n        \\n    def fit(self, X_train, y_train = None):\\n        return self\\n    \\n    def transform(self, X_train):\\n        output = X_train.copy()\\n        if self.columns is not None:\\n            for col in self.columns:\\n                output[col] = LabelEncoder().fit_transform(output[col])\\n        else:\\n            for colname,col in output.iteritems():\\n                output[colname] = LabelEncoder().fit_transform(col)\\n        return output\\n    \\n    def fit_transform(self,X_train,y_train=None):\\n        return self.fit(X_train,y_train).transform(X_train)\\n  '"
      ]
     },
     "execution_count": 91,
     "metadata": {},
     "output_type": "execute_result"
    }
   ],
   "source": [
    "'''\n",
    "#from sklearn.preprocessing import LabelEncoder\n",
    "from sklearn import preprocessing\n",
    "from sklearn.pipeline import Pipeline\n",
    "class MultinomialEncoder:\n",
    "    def _init_(self, columns = None):\n",
    "        self.columns = columns\n",
    "        \n",
    "    def fit(self, X_train, y_train = None):\n",
    "        return self\n",
    "    \n",
    "    def transform(self, X_train):\n",
    "        output = X_train.copy()\n",
    "        if self.columns is not None:\n",
    "            for col in self.columns:\n",
    "                output[col] = LabelEncoder().fit_transform(output[col])\n",
    "        else:\n",
    "            for colname,col in output.iteritems():\n",
    "                output[colname] = LabelEncoder().fit_transform(col)\n",
    "        return output\n",
    "    \n",
    "    def fit_transform(self,X_train,y_train=None):\n",
    "        return self.fit(X_train,y_train).transform(X_train)\n",
    "  '''  \n",
    "    \n",
    "    \n",
    "    \n",
    "#le = preprocessing.LabelEncoder()\n",
    "#le.fit(X_train)\n",
    "#le = LabelEncoder().fit_transform\n",
    "#le.classes_\n",
    "#X_train.apply(LabelEncoder().fit_transform)"
   ]
  },
  {
   "cell_type": "code",
   "execution_count": 92,
   "metadata": {},
   "outputs": [
    {
     "data": {
      "text/plain": [
       "'\\n#from sklearn.preprocessing import OneHotEncoder\\n#enc = OneHotEncoder()\\n#enc.fit(X_train)\\nfrom sklearn.naive_bayes import BernoulliNB\\nclf = BernoulliNB()\\nclf.fit(X_train, y_train)\\n'"
      ]
     },
     "execution_count": 92,
     "metadata": {},
     "output_type": "execute_result"
    }
   ],
   "source": [
    "'''\n",
    "#from sklearn.preprocessing import OneHotEncoder\n",
    "#enc = OneHotEncoder()\n",
    "#enc.fit(X_train)\n",
    "from sklearn.naive_bayes import BernoulliNB\n",
    "clf = BernoulliNB()\n",
    "clf.fit(X_train, y_train)\n",
    "'''"
   ]
  },
  {
   "cell_type": "code",
   "execution_count": 93,
   "metadata": {},
   "outputs": [
    {
     "data": {
      "text/plain": [
       "'\\n#from sklearn import preprocessing\\nfrom sklearn.feature_extraction.text import CountVectorizer\\nfrom sklearn.feature_extraction.text import TfidfVectorizer\\nvectorizer_train = CountVectorizer()\\nvectorizer_train.fit(X_train)\\nvector_train = vectorizer_train.transform(X_train)\\nprint(vector_train.shape)\\nprint(type(vector_train))\\nprint(vector_train.toarray())\\n'"
      ]
     },
     "execution_count": 93,
     "metadata": {},
     "output_type": "execute_result"
    }
   ],
   "source": [
    "'''\n",
    "#from sklearn import preprocessing\n",
    "from sklearn.feature_extraction.text import CountVectorizer\n",
    "from sklearn.feature_extraction.text import TfidfVectorizer\n",
    "vectorizer_train = CountVectorizer()\n",
    "vectorizer_train.fit(X_train)\n",
    "vector_train = vectorizer_train.transform(X_train)\n",
    "print(vector_train.shape)\n",
    "print(type(vector_train))\n",
    "print(vector_train.toarray())\n",
    "'''\n",
    "\n",
    "#print(clf.predict(X_test))"
   ]
  },
  {
   "cell_type": "code",
   "execution_count": 94,
   "metadata": {},
   "outputs": [
    {
     "data": {
      "text/plain": [
       "'\\nvectorizer_test = CountVectorizer()\\nvectorizer_test.fit(X_test)\\nvector_test = vectorizer_test.transform(X_test)\\nprint(vector_test.shape)\\nprint(type(vector_test))\\nprint(vector_test.toarray())\\n'"
      ]
     },
     "execution_count": 94,
     "metadata": {},
     "output_type": "execute_result"
    }
   ],
   "source": [
    "'''\n",
    "vectorizer_test = CountVectorizer()\n",
    "vectorizer_test.fit(X_test)\n",
    "vector_test = vectorizer_test.transform(X_test)\n",
    "print(vector_test.shape)\n",
    "print(type(vector_test))\n",
    "print(vector_test.toarray())\n",
    "'''"
   ]
  },
  {
   "cell_type": "code",
   "execution_count": 95,
   "metadata": {},
   "outputs": [
    {
     "data": {
      "text/plain": [
       "'\\n#X_scaled = preprocessing.scale(X)\\nprint(vectorizer_train.vocabulary_)\\nprint(vectorizer_test.vocabulary_)\\n'"
      ]
     },
     "execution_count": 95,
     "metadata": {},
     "output_type": "execute_result"
    }
   ],
   "source": [
    "'''\n",
    "#X_scaled = preprocessing.scale(X)\n",
    "print(vectorizer_train.vocabulary_)\n",
    "print(vectorizer_test.vocabulary_)\n",
    "'''"
   ]
  },
  {
   "cell_type": "code",
   "execution_count": 96,
   "metadata": {
    "collapsed": true
   },
   "outputs": [],
   "source": [
    "#first we will convert our object to vectors\n",
    "#here we will train 4238 values and we will use the rest to test our set\n",
    "\n",
    "#from sklearn import preprocessing\n",
    "#from sklearn.model_selection import train_test_split\n",
    "#X_train, X_test, y_train, y_test = train_test_split(X, y, test_size=0.30, random_state=42)\n",
    "#Application of the svm\n",
    "#from sklearn.svm import LinearSVC, SVC\n",
    "#from sklearn.datasets import make_classification\n",
    "#X_train, y_train = make_classification()\n",
    "#clf = LinearSVC(multi_class = 'crammer_singer')\n",
    "#clf.fit(X_train, y_train)\n"
   ]
  },
  {
   "cell_type": "code",
   "execution_count": 97,
   "metadata": {},
   "outputs": [
    {
     "data": {
      "text/plain": [
       "'\\nfrom sklearn.preprocessing import MinMaxScaler, PolynomialFeatures\\nif addpoly:\\nall_data = pd.concat((X_train, X_test), ignore_index = True)\\nscaler = MinMaxScaler()\\nscaler.fit(all_data)\\n    all_data = scaler.transform(all_data)\\n    ploy = PolynomialFeatures(2)\\n    all_data = poly.fit_transform(all_data)\\n    \\n    X_train = all_data[:train_dataset.shape[0]]\\n    X_test = all_data[train_dataset,shape[0]:]\\n    \\n    ##\\n    \\n    print(X_train.shape)\\n    print(y_train.shape)\\n    print(X_test.shape)\\n    '"
      ]
     },
     "execution_count": 97,
     "metadata": {},
     "output_type": "execute_result"
    }
   ],
   "source": [
    "#print(clf.coef_)\n",
    "#print(clf.intercept_)\n",
    "\n",
    "\n",
    "'''\n",
    "from sklearn.preprocessing import MinMaxScaler, PolynomialFeatures\n",
    "if addpoly:\n",
    "all_data = pd.concat((X_train, X_test), ignore_index = True)\n",
    "scaler = MinMaxScaler()\n",
    "scaler.fit(all_data)\n",
    "    all_data = scaler.transform(all_data)\n",
    "    ploy = PolynomialFeatures(2)\n",
    "    all_data = poly.fit_transform(all_data)\n",
    "    \n",
    "    X_train = all_data[:train_dataset.shape[0]]\n",
    "    X_test = all_data[train_dataset,shape[0]:]\n",
    "    \n",
    "    ##\n",
    "    \n",
    "    print(X_train.shape)\n",
    "    print(y_train.shape)\n",
    "    print(X_test.shape)\n",
    "    '''"
   ]
  },
  {
   "cell_type": "code",
   "execution_count": 98,
   "metadata": {
    "collapsed": true
   },
   "outputs": [],
   "source": [
    "#Now  we will countvectorizer to convert out object data into vector form\n",
    "#from sklearn.feature_extraction.text import CountVectorizer\n",
    "#from sklearn.feature_extraction import DictVectorizer\n",
    "#print(clf.predict([X_test] ))\n",
    "#clf.predict(X_test)\n"
   ]
  },
  {
   "cell_type": "code",
   "execution_count": 99,
   "metadata": {
    "collapsed": true
   },
   "outputs": [],
   "source": [
    "#vect = CountVectorizer(ngram_range=(1,1), token_pattern=r'\\b\\w{1,}\\b')"
   ]
  },
  {
   "cell_type": "code",
   "execution_count": 100,
   "metadata": {
    "collapsed": true
   },
   "outputs": [],
   "source": [
    "#vect.fit(X_train)\n",
    "#vocab = vect.vocabulary_\n"
   ]
  },
  {
   "cell_type": "code",
   "execution_count": 101,
   "metadata": {
    "collapsed": true
   },
   "outputs": [],
   "source": [
    "#vect.fit(y_train)\n",
    "#vocab = vect.vocabulary_"
   ]
  },
  {
   "cell_type": "code",
   "execution_count": 102,
   "metadata": {
    "collapsed": true
   },
   "outputs": [],
   "source": [
    "#def convert_X_to_X_word_ids(X):\n",
    "    #return X.apply( lambda x: [vocab[w] for w in [w.lower().strip() for w in x.split()] if w in vocab] )"
   ]
  },
  {
   "cell_type": "code",
   "execution_count": 103,
   "metadata": {
    "collapsed": true
   },
   "outputs": [],
   "source": [
    "#X_train_word_ids = convert_X_to_X_word_ids(X_train)\n",
    "#X_test_word_ids  = convert_X_to_X_word_ids(X_test)"
   ]
  },
  {
   "cell_type": "code",
   "execution_count": 104,
   "metadata": {
    "collapsed": true
   },
   "outputs": [],
   "source": [
    "#X_train_padded_seqs = pad_sequences(X_train_word_ids, maxlen=150, value=0)\n",
    "#X_test_padded_seqs  = pad_sequences(X_test_word_ids , maxlen=150, value=0)"
   ]
  },
  {
   "cell_type": "code",
   "execution_count": null,
   "metadata": {
    "collapsed": true
   },
   "outputs": [],
   "source": []
  },
  {
   "cell_type": "code",
   "execution_count": 105,
   "metadata": {
    "collapsed": true
   },
   "outputs": [],
   "source": [
    "#from sklearn import svm\n",
    "#clf = svm.SVC()\n",
    "#clf.fit(X, y)"
   ]
  },
  {
   "cell_type": "code",
   "execution_count": null,
   "metadata": {
    "collapsed": true
   },
   "outputs": [],
   "source": []
  },
  {
   "cell_type": "code",
   "execution_count": 106,
   "metadata": {
    "collapsed": true
   },
   "outputs": [],
   "source": [
    "#Actual network\n"
   ]
  }
 ],
 "metadata": {
  "kernelspec": {
   "display_name": "Python 3",
   "language": "python",
   "name": "python3"
  },
  "language_info": {
   "codemirror_mode": {
    "name": "ipython",
    "version": 3
   },
   "file_extension": ".py",
   "mimetype": "text/x-python",
   "name": "python",
   "nbconvert_exporter": "python",
   "pygments_lexer": "ipython3",
   "version": "3.6.2"
  }
 },
 "nbformat": 4,
 "nbformat_minor": 2
}
